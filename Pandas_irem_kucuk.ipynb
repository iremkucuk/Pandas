{
 "cells": [
  {
   "cell_type": "markdown",
   "metadata": {
    "id": "hzelVoBgchht"
   },
   "source": [
    "# Pandas "
   ]
  },
  {
   "cell_type": "markdown",
   "metadata": {},
   "source": [
    "**Pandas**\n",
    " Python'da veri manipülasyonu ve veri analizi için kullanılan güçlü bir kütüphanedir. Pandas'ın temel amacı, veriyi yapılandırılması, temizlenmesi, analiz edilmesi ve hazırlanması süreçlerini kolaylaştırmaktır. Pandas'ın temel özellikleri:\n",
    "\n",
    "Veri Yapıları: Pandas, verileri işlemek için iki temel veri yapısı olan DataFrame ve Series sunar. DataFrame, veriyi iki boyutlu bir tablo olarak temsil ederken, Series tek boyutlu etiketli bir dizidir.\n",
    "\n",
    "Veri Okuma ve Yazma: Pandas, çeşitli formatlardaki verileri okuyabilir ve yazabilir. Özellikle CSV, Excel, SQL veritabanları ve JSON gibi yaygın formatları destekler.\n",
    "\n",
    "Veri Temizleme ve Düzenleme: Pandas, eksik verileri işleme, veri dönüştürme, filtreleme, sıralama ve yeniden şekillendirme gibi veri temizleme ve düzenleme işlemlerini kolaylaştırır.\n",
    "\n",
    "Veri Analizi ve Keşif: Pandas, veri analizi için birçok işlev ve yöntem sağlar. Örneğin, istatistiksel hesaplamalar, gruplama, toplama, birleştirme ve zaman serisi analizi gibi işlemler yapılabilir.\n",
    "\n",
    "Zaman Serisi İşlemleri: Pandas, zaman serisi verilerini işlemek için özel fonksiyonlar ve veri yapıları sağlar. Zaman serisi verilerini zaman damgalarıyla işaretlemek, dönemler ve frekanslar oluşturmak, zaman serisi analizi yapmak gibi işlemler gerçekleştirilebilir.\n",
    "\n",
    "Veri Görselleştirme: Pandas, verileri görselleştirmek için matplotlib gibi diğer Python kütüphaneleriyle entegre çalışır. Grafikler, histogramlar, sütun grafikleri, kutu grafikleri ve dağılım grafikleri gibi çeşitli görselleştirmeler oluşturabilir.\n",
    "\n",
    "Bu özellikler sayesinde Pandas, veri bilimi, makine öğrenimi, finansal analiz, iş zekası ve diğer birçok veri odaklı uygulama alanında yaygın olarak kullanılmaktadır.\n",
    "Detaylı bilgi için bu adresi inceleyebilirsiniz\n",
    "\n",
    "\n",
    "https://pandas.pydata.org/"
   ]
  },
  {
   "cell_type": "markdown",
   "metadata": {
    "id": "lh1O9f38jhBn"
   },
   "source": [
    "Pandas'ta ***Serieler /Series***\n"
   ]
  },
  {
   "cell_type": "markdown",
   "metadata": {
    "id": "O0mPjkBFyf_G"
   },
   "source": [
    "pandas modülü veri işleme veri temizleme ve sql den yararlanrak yapIlır PANDAS burada key value ilşikisi vardır pd.Series(data,index) fakat çıktıda index başa gelir data bir yanına yazılır kütüphaneyi de\n",
    "`import pandas as pd `\n",
    "şeklinde yazarız"
   ]
  },
  {
   "cell_type": "code",
   "execution_count": 1,
   "metadata": {
    "id": "7sLBKSL-zHvJ"
   },
   "outputs": [
    {
     "name": "stderr",
     "output_type": "stream",
     "text": [
      "C:\\Users\\irem_\\AppData\\Roaming\\Python\\Python311\\site-packages\\pandas\\core\\arrays\\masked.py:60: UserWarning: Pandas requires version '1.3.6' or newer of 'bottleneck' (version '1.3.5' currently installed).\n",
      "  from pandas.core import (\n"
     ]
    }
   ],
   "source": [
    "import numpy as np\n",
    "import pandas as pd\n"
   ]
  },
  {
   "cell_type": "code",
   "execution_count": 2,
   "metadata": {
    "colab": {
     "base_uri": "https://localhost:8080/"
    },
    "executionInfo": {
     "elapsed": 9,
     "status": "ok",
     "timestamp": 1706527063112,
     "user": {
      "displayName": "irem küçük",
      "userId": "04336480501228632065"
     },
     "user_tz": -180
    },
    "id": "ARp5K-I6zT8Y",
    "outputId": "f4f9ec64-46b4-495f-fa2b-5163cf61cce3"
   },
   "outputs": [
    {
     "data": {
      "text/plain": [
       "irem    10\n",
       "idil    20\n",
       "gül     30\n",
       "dtype: int64"
      ]
     },
     "execution_count": 2,
     "metadata": {},
     "output_type": "execute_result"
    }
   ],
   "source": [
    "labels_list=[\"irem\",\"idil\",\"gül\"]\n",
    "data_list=[10,20,30]\n",
    "pd.Series(data=data_list,index=labels_list)\n",
    "#burada pandası kullanarak seri oluşturduk pd.series() bu bizim herhangi bir seri oluşturmamızı sağlar"
   ]
  },
  {
   "cell_type": "code",
   "execution_count": 3,
   "metadata": {
    "colab": {
     "base_uri": "https://localhost:8080/"
    },
    "executionInfo": {
     "elapsed": 283,
     "status": "ok",
     "timestamp": 1706106623746,
     "user": {
      "displayName": "irem küçük",
      "userId": "04336480501228632065"
     },
     "user_tz": -180
    },
    "id": "ZYYnHWur29xX",
    "outputId": "2d20e2eb-3d06-49b5-99d5-fe43126dbf7c"
   },
   "outputs": [
    {
     "data": {
      "text/plain": [
       "0    irem\n",
       "1    idil\n",
       "2     gül\n",
       "dtype: object"
      ]
     },
     "execution_count": 3,
     "metadata": {},
     "output_type": "execute_result"
    }
   ],
   "source": [
    "pd.Series(labels_list)"
   ]
  },
  {
   "cell_type": "code",
   "execution_count": 4,
   "metadata": {
    "colab": {
     "base_uri": "https://localhost:8080/"
    },
    "executionInfo": {
     "elapsed": 289,
     "status": "ok",
     "timestamp": 1706106853243,
     "user": {
      "displayName": "irem küçük",
      "userId": "04336480501228632065"
     },
     "user_tz": -180
    },
    "id": "dJF7TA5u4RO8",
    "outputId": "bab1a4a2-c916-45db-a918-633ae229316b"
   },
   "outputs": [
    {
     "data": {
      "text/plain": [
       "10   NaN\n",
       "20   NaN\n",
       "30   NaN\n",
       "dtype: float64"
      ]
     },
     "execution_count": 4,
     "metadata": {},
     "output_type": "execute_result"
    }
   ],
   "source": [
    "pd.Series(index=data_list)"
   ]
  },
  {
   "cell_type": "markdown",
   "metadata": {
    "id": "bs1fk1_TkX2j"
   },
   "source": [
    "serileri numpy kütüphanesi kullanarak yani arrayleri seri haline getirebiliriz"
   ]
  },
  {
   "cell_type": "code",
   "execution_count": 5,
   "metadata": {
    "colab": {
     "base_uri": "https://localhost:8080/"
    },
    "executionInfo": {
     "elapsed": 273,
     "status": "ok",
     "timestamp": 1706107092973,
     "user": {
      "displayName": "irem küçük",
      "userId": "04336480501228632065"
     },
     "user_tz": -180
    },
    "id": "qNyOddLI408f",
    "outputId": "946dfe00-d546-4911-bf91-9028a1a81d7a"
   },
   "outputs": [
    {
     "data": {
      "text/plain": [
       "0    1\n",
       "1    2\n",
       "2    3\n",
       "dtype: int32"
      ]
     },
     "execution_count": 5,
     "metadata": {},
     "output_type": "execute_result"
    }
   ],
   "source": [
    "n=np.array([1,2,3])\n",
    "pd.Series(n)"
   ]
  },
  {
   "cell_type": "code",
   "execution_count": 6,
   "metadata": {
    "colab": {
     "base_uri": "https://localhost:8080/"
    },
    "executionInfo": {
     "elapsed": 274,
     "status": "ok",
     "timestamp": 1706107204062,
     "user": {
      "displayName": "irem küçük",
      "userId": "04336480501228632065"
     },
     "user_tz": -180
    },
    "id": "AgQX1TKW6Dw2",
    "outputId": "8641c389-bcb5-472a-b2b3-083ced30c718"
   },
   "outputs": [
    {
     "data": {
      "text/plain": [
       "a    1\n",
       "b    2\n",
       "c    3\n",
       "dtype: int32"
      ]
     },
     "execution_count": 6,
     "metadata": {},
     "output_type": "execute_result"
    }
   ],
   "source": [
    "pd.Series(data=n,index=(\"a\",\"b\",\"c\"))"
   ]
  },
  {
   "cell_type": "markdown",
   "metadata": {
    "id": "pu11mRRykwkC"
   },
   "source": [
    "serileri pythonda ki sözlük yapısı ile kullanabilir ve biz yine bu sözlüğü seri haline getiririz."
   ]
  },
  {
   "cell_type": "code",
   "execution_count": 7,
   "metadata": {
    "colab": {
     "base_uri": "https://localhost:8080/"
    },
    "executionInfo": {
     "elapsed": 287,
     "status": "ok",
     "timestamp": 1706107316113,
     "user": {
      "displayName": "irem küçük",
      "userId": "04336480501228632065"
     },
     "user_tz": -180
    },
    "id": "dWJ1u_mN6e4l",
    "outputId": "0c3e3705-5aba-4671-89a0-54051f8b93a6"
   },
   "outputs": [
    {
     "data": {
      "text/plain": [
       "sol    9\n",
       "la     8\n",
       "si     7\n",
       "dtype: int64"
      ]
     },
     "execution_count": 7,
     "metadata": {},
     "output_type": "execute_result"
    }
   ],
   "source": [
    "datadict={\"sol\":9,\"la\":8,\"si\":7}\n",
    "pd.Series(datadict)"
   ]
  },
  {
   "cell_type": "markdown",
   "metadata": {
    "id": "0wRoNHHQlATS"
   },
   "source": [
    "Serileri kendi içerisinde işlem yaptırabiliriz dikkat edilmesi gereken kısım ise iki seri içerindeki indexlerin birebir ayı isimle olmasıdır"
   ]
  },
  {
   "cell_type": "code",
   "execution_count": 8,
   "metadata": {
    "colab": {
     "base_uri": "https://localhost:8080/"
    },
    "executionInfo": {
     "elapsed": 267,
     "status": "ok",
     "timestamp": 1706107686771,
     "user": {
      "displayName": "irem küçük",
      "userId": "04336480501228632065"
     },
     "user_tz": -180
    },
    "id": "0ThQE5K76xqg",
    "outputId": "de82c6fa-78ba-4b0b-e9c4-d708d7b425a6"
   },
   "outputs": [
    {
     "data": {
      "text/plain": [
       "elma     35.0\n",
       "erik     70.0\n",
       "kiraz     NaN\n",
       "üzüm      NaN\n",
       "dtype: float64"
      ]
     },
     "execution_count": 8,
     "metadata": {},
     "output_type": "execute_result"
    }
   ],
   "source": [
    "ser2017=pd.Series([5,10,20],[\"elma\",\"kiraz\",\"erik\"])\n",
    "ser2018=pd.Series([30,40,50],[\"elma\",\"üzüm\",\"erik\"])\n",
    "total =ser2017+ser2018\n",
    "total#burada yukarıda belirtiğimiz gibi aynı olmayan değerler toplanamadığı için NaN olarak karşımıza gelir ."
   ]
  },
  {
   "cell_type": "code",
   "execution_count": 9,
   "metadata": {
    "colab": {
     "base_uri": "https://localhost:8080/"
    },
    "executionInfo": {
     "elapsed": 276,
     "status": "ok",
     "timestamp": 1706107723051,
     "user": {
      "displayName": "irem küçük",
      "userId": "04336480501228632065"
     },
     "user_tz": -180
    },
    "id": "BkAwqolm7spR",
    "outputId": "f2aefcfd-cc6a-4e17-cec8-cf76d7602028"
   },
   "outputs": [
    {
     "data": {
      "text/plain": [
       "70.0"
      ]
     },
     "execution_count": 9,
     "metadata": {},
     "output_type": "execute_result"
    }
   ],
   "source": [
    "total[\"erik\"]"
   ]
  },
  {
   "cell_type": "markdown",
   "metadata": {
    "id": "HF3TIYI58lXX"
   },
   "source": [
    "***Dataframe***\n",
    "serilerin yanyana gelmesi excel veya sql tablosu gbi bir çok serilerin birleşimidir.\n",
    "column ,index ,datalardan oluşur şu şekilde yazılır\n",
    "`pd.DataFrame(data,index,column)`"
   ]
  },
  {
   "cell_type": "code",
   "execution_count": 10,
   "metadata": {
    "id": "aiFv-xYO8Z8q"
   },
   "outputs": [],
   "source": [
    "import pandas as pd\n",
    "import numpy as np\n",
    "from numpy.random import rand"
   ]
  },
  {
   "cell_type": "code",
   "execution_count": 11,
   "metadata": {
    "colab": {
     "base_uri": "https://localhost:8080/"
    },
    "executionInfo": {
     "elapsed": 248,
     "status": "ok",
     "timestamp": 1706107945138,
     "user": {
      "displayName": "irem küçük",
      "userId": "04336480501228632065"
     },
     "user_tz": -180
    },
    "id": "DAtKrmhi9SBG",
    "outputId": "2d77ed1b-c68d-4d09-badd-6687bdf5d4e5"
   },
   "outputs": [
    {
     "data": {
      "text/plain": [
       "array([0.42070513, 0.29453368])"
      ]
     },
     "execution_count": 11,
     "metadata": {},
     "output_type": "execute_result"
    }
   ],
   "source": [
    "rand(2)# rand fonksiyonu hatırlamk için örenek yaptım"
   ]
  },
  {
   "cell_type": "code",
   "execution_count": 12,
   "metadata": {
    "colab": {
     "base_uri": "https://localhost:8080/"
    },
    "executionInfo": {
     "elapsed": 276,
     "status": "ok",
     "timestamp": 1706107977613,
     "user": {
      "displayName": "irem küçük",
      "userId": "04336480501228632065"
     },
     "user_tz": -180
    },
    "id": "p5xW8LKx9Tzx",
    "outputId": "64f57a13-a3e1-485d-9b83-9fc4bd981636"
   },
   "outputs": [
    {
     "data": {
      "text/plain": [
       "array([[0.64970936, 0.83654121],\n",
       "       [0.00973563, 0.69250641]])"
      ]
     },
     "execution_count": 12,
     "metadata": {},
     "output_type": "execute_result"
    }
   ],
   "source": [
    "rand(2,2)"
   ]
  },
  {
   "cell_type": "code",
   "execution_count": 13,
   "metadata": {
    "colab": {
     "base_uri": "https://localhost:8080/"
    },
    "executionInfo": {
     "elapsed": 271,
     "status": "ok",
     "timestamp": 1706108393726,
     "user": {
      "displayName": "irem küçük",
      "userId": "04336480501228632065"
     },
     "user_tz": -180
    },
    "id": "EI1DAn7I9bvY",
    "outputId": "494a52f1-cdd7-4fad-c695-355f835a3010"
   },
   "outputs": [
    {
     "name": "stdout",
     "output_type": "stream",
     "text": [
      "          1         2\n",
      "a  0.619630  0.061885\n",
      "b  0.701212  0.116938\n"
     ]
    }
   ],
   "source": [
    "df=pd.DataFrame(data=rand(2,2),index=[\"a\",\"b\"],columns=[1,2])\n",
    "print(df)# bu şekilde istediğimiz şekilde dataframe oluşturduk"
   ]
  },
  {
   "cell_type": "code",
   "execution_count": 14,
   "metadata": {
    "colab": {
     "base_uri": "https://localhost:8080/"
    },
    "executionInfo": {
     "elapsed": 263,
     "status": "ok",
     "timestamp": 1706108476238,
     "user": {
      "displayName": "irem küçük",
      "userId": "04336480501228632065"
     },
     "user_tz": -180
    },
    "id": "ieNw3VS2-4QK",
    "outputId": "e141383a-45cb-4bdd-ea79-3ef592033971"
   },
   "outputs": [
    {
     "data": {
      "text/plain": [
       "a    0.619630\n",
       "b    0.701212\n",
       "Name: 1, dtype: float64"
      ]
     },
     "execution_count": 14,
     "metadata": {},
     "output_type": "execute_result"
    }
   ],
   "source": [
    "df[1]#önceden biliğimiz gibi istediğimiz column  bu şekilde çağrırabiliriz"
   ]
  },
  {
   "cell_type": "code",
   "execution_count": 15,
   "metadata": {
    "colab": {
     "base_uri": "https://localhost:8080/"
    },
    "executionInfo": {
     "elapsed": 2,
     "status": "ok",
     "timestamp": 1706108497077,
     "user": {
      "displayName": "irem küçük",
      "userId": "04336480501228632065"
     },
     "user_tz": -180
    },
    "id": "jb-_4OTm_JQ4",
    "outputId": "12eb5bfe-a641-486f-8d11-8de3711819c5"
   },
   "outputs": [
    {
     "data": {
      "text/plain": [
       "pandas.core.series.Series"
      ]
     },
     "execution_count": 15,
     "metadata": {},
     "output_type": "execute_result"
    }
   ],
   "source": [
    "type(df[1])"
   ]
  },
  {
   "cell_type": "code",
   "execution_count": 16,
   "metadata": {
    "colab": {
     "base_uri": "https://localhost:8080/"
    },
    "executionInfo": {
     "elapsed": 344,
     "status": "ok",
     "timestamp": 1706108564407,
     "user": {
      "displayName": "irem küçük",
      "userId": "04336480501228632065"
     },
     "user_tz": -180
    },
    "id": "Sw016I0P_ans",
    "outputId": "2b24f43a-45fa-4981-9e41-91cba9c4ce09"
   },
   "outputs": [
    {
     "data": {
      "text/plain": [
       "1    0.619630\n",
       "2    0.061885\n",
       "Name: a, dtype: float64"
      ]
     },
     "execution_count": 16,
     "metadata": {},
     "output_type": "execute_result"
    }
   ],
   "source": [
    "df.loc[\"a\"]\n",
    "#index sorgulaması yaparsak bu şekilde yapılması .loc gerekir"
   ]
  },
  {
   "cell_type": "code",
   "execution_count": 17,
   "metadata": {
    "colab": {
     "base_uri": "https://localhost:8080/",
     "height": 112
    },
    "executionInfo": {
     "elapsed": 299,
     "status": "ok",
     "timestamp": 1706108610406,
     "user": {
      "displayName": "irem küçük",
      "userId": "04336480501228632065"
     },
     "user_tz": -180
    },
    "id": "1cTDrNB4_q_2",
    "outputId": "4448c469-c830-4c67-c9db-77309468fa5f"
   },
   "outputs": [
    {
     "data": {
      "text/html": [
       "<div>\n",
       "<style scoped>\n",
       "    .dataframe tbody tr th:only-of-type {\n",
       "        vertical-align: middle;\n",
       "    }\n",
       "\n",
       "    .dataframe tbody tr th {\n",
       "        vertical-align: top;\n",
       "    }\n",
       "\n",
       "    .dataframe thead th {\n",
       "        text-align: right;\n",
       "    }\n",
       "</style>\n",
       "<table border=\"1\" class=\"dataframe\">\n",
       "  <thead>\n",
       "    <tr style=\"text-align: right;\">\n",
       "      <th></th>\n",
       "      <th>1</th>\n",
       "      <th>2</th>\n",
       "    </tr>\n",
       "  </thead>\n",
       "  <tbody>\n",
       "    <tr>\n",
       "      <th>a</th>\n",
       "      <td>0.619630</td>\n",
       "      <td>0.061885</td>\n",
       "    </tr>\n",
       "    <tr>\n",
       "      <th>b</th>\n",
       "      <td>0.701212</td>\n",
       "      <td>0.116938</td>\n",
       "    </tr>\n",
       "  </tbody>\n",
       "</table>\n",
       "</div>"
      ],
      "text/plain": [
       "          1         2\n",
       "a  0.619630  0.061885\n",
       "b  0.701212  0.116938"
      ]
     },
     "execution_count": 17,
     "metadata": {},
     "output_type": "execute_result"
    }
   ],
   "source": [
    "df[[1,2]]\n",
    "#burada column  sorgulamasıdır birden fazla column sorgulanabilir fakat iki tane köşeli parantez olması gerekir"
   ]
  },
  {
   "cell_type": "code",
   "execution_count": 18,
   "metadata": {
    "colab": {
     "base_uri": "https://localhost:8080/",
     "height": 125
    },
    "executionInfo": {
     "elapsed": 428,
     "status": "ok",
     "timestamp": 1706108912765,
     "user": {
      "displayName": "irem küçük",
      "userId": "04336480501228632065"
     },
     "user_tz": -180
    },
    "id": "gBQA0a7B_2OM",
    "outputId": "f81c4056-71ed-42be-c396-efd31d6c7c09"
   },
   "outputs": [
    {
     "data": {
      "text/html": [
       "<div>\n",
       "<style scoped>\n",
       "    .dataframe tbody tr th:only-of-type {\n",
       "        vertical-align: middle;\n",
       "    }\n",
       "\n",
       "    .dataframe tbody tr th {\n",
       "        vertical-align: top;\n",
       "    }\n",
       "\n",
       "    .dataframe thead th {\n",
       "        text-align: right;\n",
       "    }\n",
       "</style>\n",
       "<table border=\"1\" class=\"dataframe\">\n",
       "  <thead>\n",
       "    <tr style=\"text-align: right;\">\n",
       "      <th></th>\n",
       "      <th>1</th>\n",
       "      <th>2</th>\n",
       "      <th>3</th>\n",
       "    </tr>\n",
       "  </thead>\n",
       "  <tbody>\n",
       "    <tr>\n",
       "      <th>a</th>\n",
       "      <td>0.619630</td>\n",
       "      <td>0.061885</td>\n",
       "      <td>0.409174</td>\n",
       "    </tr>\n",
       "    <tr>\n",
       "      <th>b</th>\n",
       "      <td>0.701212</td>\n",
       "      <td>0.116938</td>\n",
       "      <td>0.986574</td>\n",
       "    </tr>\n",
       "  </tbody>\n",
       "</table>\n",
       "</div>"
      ],
      "text/plain": [
       "          1         2         3\n",
       "a  0.619630  0.061885  0.409174\n",
       "b  0.701212  0.116938  0.986574"
      ]
     },
     "execution_count": 18,
     "metadata": {},
     "output_type": "execute_result"
    }
   ],
   "source": [
    "df[3]=pd.Series(rand(2),[\"a\",\"b\"])\n",
    "df\n",
    "#burda yeni bir sutün eklemek istersek"
   ]
  },
  {
   "cell_type": "code",
   "execution_count": 19,
   "metadata": {
    "colab": {
     "base_uri": "https://localhost:8080/",
     "height": 125
    },
    "executionInfo": {
     "elapsed": 279,
     "status": "ok",
     "timestamp": 1706113587506,
     "user": {
      "displayName": "irem küçük",
      "userId": "04336480501228632065"
     },
     "user_tz": -180
    },
    "id": "O831BAbfA3QE",
    "outputId": "75cbc69b-b51d-417c-aff7-a53ebb96bb35"
   },
   "outputs": [
    {
     "data": {
      "text/html": [
       "<div>\n",
       "<style scoped>\n",
       "    .dataframe tbody tr th:only-of-type {\n",
       "        vertical-align: middle;\n",
       "    }\n",
       "\n",
       "    .dataframe tbody tr th {\n",
       "        vertical-align: top;\n",
       "    }\n",
       "\n",
       "    .dataframe thead th {\n",
       "        text-align: right;\n",
       "    }\n",
       "</style>\n",
       "<table border=\"1\" class=\"dataframe\">\n",
       "  <thead>\n",
       "    <tr style=\"text-align: right;\">\n",
       "      <th></th>\n",
       "      <th>1</th>\n",
       "      <th>2</th>\n",
       "      <th>3</th>\n",
       "      <th>4</th>\n",
       "    </tr>\n",
       "  </thead>\n",
       "  <tbody>\n",
       "    <tr>\n",
       "      <th>a</th>\n",
       "      <td>0.619630</td>\n",
       "      <td>0.061885</td>\n",
       "      <td>0.409174</td>\n",
       "      <td>1.090690</td>\n",
       "    </tr>\n",
       "    <tr>\n",
       "      <th>b</th>\n",
       "      <td>0.701212</td>\n",
       "      <td>0.116938</td>\n",
       "      <td>0.986574</td>\n",
       "      <td>1.804724</td>\n",
       "    </tr>\n",
       "  </tbody>\n",
       "</table>\n",
       "</div>"
      ],
      "text/plain": [
       "          1         2         3         4\n",
       "a  0.619630  0.061885  0.409174  1.090690\n",
       "b  0.701212  0.116938  0.986574  1.804724"
      ]
     },
     "execution_count": 19,
     "metadata": {},
     "output_type": "execute_result"
    }
   ],
   "source": [
    "df[4]=df[1]+df[2]+df[3]\n",
    "df\n",
    "#burda yeni eklediğimiz sutnünları toplayıp yeni bir sutünda yazdık"
   ]
  },
  {
   "cell_type": "code",
   "execution_count": 20,
   "metadata": {
    "colab": {
     "base_uri": "https://localhost:8080/",
     "height": 112
    },
    "executionInfo": {
     "elapsed": 279,
     "status": "ok",
     "timestamp": 1706113678450,
     "user": {
      "displayName": "irem küçük",
      "userId": "04336480501228632065"
     },
     "user_tz": -180
    },
    "id": "QYM4NwOHFQ7H",
    "outputId": "14551903-1cd2-43e9-c78c-1a5a591d1610"
   },
   "outputs": [],
   "source": [
    "df.drop(4,axis=1,inplace =True)#axis=1 column=1,row=0 sil demek\n",
    "# burada istenilen sutün silinir inpladce true dememizin nedeni ise kalıcı hale getirmek default çünkü false gelir"
   ]
  },
  {
   "cell_type": "code",
   "execution_count": 21,
   "metadata": {
    "colab": {
     "base_uri": "https://localhost:8080/"
    },
    "executionInfo": {
     "elapsed": 456,
     "status": "ok",
     "timestamp": 1706113956887,
     "user": {
      "displayName": "irem küçük",
      "userId": "04336480501228632065"
     },
     "user_tz": -180
    },
    "id": "7JiClK-xSxrb",
    "outputId": "8c58d435-3eef-4607-9db9-4fa7074990c5"
   },
   "outputs": [
    {
     "data": {
      "text/plain": [
       "1    0.619630\n",
       "2    0.061885\n",
       "3    0.409174\n",
       "Name: a, dtype: float64"
      ]
     },
     "execution_count": 21,
     "metadata": {},
     "output_type": "execute_result"
    }
   ],
   "source": [
    "df.iloc[0]\n",
    "#iloc ta index ararken kullanılır fakat a dememe gerek yoktur"
   ]
  },
  {
   "cell_type": "code",
   "execution_count": 22,
   "metadata": {
    "colab": {
     "base_uri": "https://localhost:8080/"
    },
    "executionInfo": {
     "elapsed": 285,
     "status": "ok",
     "timestamp": 1706114052216,
     "user": {
      "displayName": "irem küçük",
      "userId": "04336480501228632065"
     },
     "user_tz": -180
    },
    "id": "vT51eBPUUPLU",
    "outputId": "55ba7499-1ad3-4d21-a356-7a97fe19432a"
   },
   "outputs": [
    {
     "data": {
      "text/plain": [
       "0.061885361813327155"
      ]
     },
     "execution_count": 22,
     "metadata": {},
     "output_type": "execute_result"
    }
   ],
   "source": [
    "df.loc[\"a\",2]\n",
    "#nokta değeri kullanırken de .loc kullanılır"
   ]
  },
  {
   "cell_type": "code",
   "execution_count": 23,
   "metadata": {
    "colab": {
     "base_uri": "https://localhost:8080/",
     "height": 112
    },
    "executionInfo": {
     "elapsed": 287,
     "status": "ok",
     "timestamp": 1706114142527,
     "user": {
      "displayName": "irem küçük",
      "userId": "04336480501228632065"
     },
     "user_tz": -180
    },
    "id": "KmGbriV9Um29",
    "outputId": "184f0e4b-f849-4ded-af89-6be7d474ecc6"
   },
   "outputs": [
    {
     "data": {
      "text/html": [
       "<div>\n",
       "<style scoped>\n",
       "    .dataframe tbody tr th:only-of-type {\n",
       "        vertical-align: middle;\n",
       "    }\n",
       "\n",
       "    .dataframe tbody tr th {\n",
       "        vertical-align: top;\n",
       "    }\n",
       "\n",
       "    .dataframe thead th {\n",
       "        text-align: right;\n",
       "    }\n",
       "</style>\n",
       "<table border=\"1\" class=\"dataframe\">\n",
       "  <thead>\n",
       "    <tr style=\"text-align: right;\">\n",
       "      <th></th>\n",
       "      <th>3</th>\n",
       "    </tr>\n",
       "  </thead>\n",
       "  <tbody>\n",
       "    <tr>\n",
       "      <th>a</th>\n",
       "      <td>0.409174</td>\n",
       "    </tr>\n",
       "    <tr>\n",
       "      <th>b</th>\n",
       "      <td>0.986574</td>\n",
       "    </tr>\n",
       "  </tbody>\n",
       "</table>\n",
       "</div>"
      ],
      "text/plain": [
       "          3\n",
       "a  0.409174\n",
       "b  0.986574"
      ]
     },
     "execution_count": 23,
     "metadata": {},
     "output_type": "execute_result"
    }
   ],
   "source": [
    "df.loc[[\"a\",\"b\"],[3]]#istenilen satır ve sutünları bu şekilde çağırabilirsiniz"
   ]
  },
  {
   "cell_type": "markdown",
   "metadata": {
    "id": "4Quq87WRVLJW"
   },
   "source": [
    "dataframe firtleme"
   ]
  },
  {
   "cell_type": "code",
   "execution_count": 24,
   "metadata": {
    "id": "itiburctU1K8"
   },
   "outputs": [],
   "source": [
    "import pandas as pd\n",
    "import numpy as np\n",
    "from numpy.random import randn\n",
    "fil=pd.DataFrame(randn(4,3),[\"A\",\"B\",\"C\",\"D\"],[\"COLUMN1\",\"COLUMN2\",\"COLUMN3\"])"
   ]
  },
  {
   "cell_type": "code",
   "execution_count": 25,
   "metadata": {
    "colab": {
     "base_uri": "https://localhost:8080/",
     "height": 175
    },
    "executionInfo": {
     "elapsed": 15,
     "status": "ok",
     "timestamp": 1710988964533,
     "user": {
      "displayName": "irem küçük",
      "userId": "04336480501228632065"
     },
     "user_tz": -180
    },
    "id": "DSN32KdPVCqC",
    "outputId": "1132f2ec-39bf-4ada-e341-7f1103c06d32"
   },
   "outputs": [
    {
     "data": {
      "text/html": [
       "<div>\n",
       "<style scoped>\n",
       "    .dataframe tbody tr th:only-of-type {\n",
       "        vertical-align: middle;\n",
       "    }\n",
       "\n",
       "    .dataframe tbody tr th {\n",
       "        vertical-align: top;\n",
       "    }\n",
       "\n",
       "    .dataframe thead th {\n",
       "        text-align: right;\n",
       "    }\n",
       "</style>\n",
       "<table border=\"1\" class=\"dataframe\">\n",
       "  <thead>\n",
       "    <tr style=\"text-align: right;\">\n",
       "      <th></th>\n",
       "      <th>COLUMN1</th>\n",
       "      <th>COLUMN2</th>\n",
       "      <th>COLUMN3</th>\n",
       "    </tr>\n",
       "  </thead>\n",
       "  <tbody>\n",
       "    <tr>\n",
       "      <th>A</th>\n",
       "      <td>-0.747891</td>\n",
       "      <td>-0.463294</td>\n",
       "      <td>1.226291</td>\n",
       "    </tr>\n",
       "    <tr>\n",
       "      <th>B</th>\n",
       "      <td>0.251466</td>\n",
       "      <td>0.567572</td>\n",
       "      <td>-0.472421</td>\n",
       "    </tr>\n",
       "    <tr>\n",
       "      <th>C</th>\n",
       "      <td>-0.867433</td>\n",
       "      <td>-0.477819</td>\n",
       "      <td>-1.965082</td>\n",
       "    </tr>\n",
       "    <tr>\n",
       "      <th>D</th>\n",
       "      <td>-1.243655</td>\n",
       "      <td>-0.599107</td>\n",
       "      <td>1.516733</td>\n",
       "    </tr>\n",
       "  </tbody>\n",
       "</table>\n",
       "</div>"
      ],
      "text/plain": [
       "    COLUMN1   COLUMN2   COLUMN3\n",
       "A -0.747891 -0.463294  1.226291\n",
       "B  0.251466  0.567572 -0.472421\n",
       "C -0.867433 -0.477819 -1.965082\n",
       "D -1.243655 -0.599107  1.516733"
      ]
     },
     "execution_count": 25,
     "metadata": {},
     "output_type": "execute_result"
    }
   ],
   "source": [
    "fil"
   ]
  },
  {
   "cell_type": "code",
   "execution_count": 26,
   "metadata": {
    "colab": {
     "base_uri": "https://localhost:8080/",
     "height": 175
    },
    "executionInfo": {
     "elapsed": 13,
     "status": "ok",
     "timestamp": 1710988964533,
     "user": {
      "displayName": "irem küçük",
      "userId": "04336480501228632065"
     },
     "user_tz": -180
    },
    "id": "Yuj_VNysWOSu",
    "outputId": "1136de7a-3049-4a62-8d05-82f8701f0c02"
   },
   "outputs": [
    {
     "data": {
      "text/html": [
       "<div>\n",
       "<style scoped>\n",
       "    .dataframe tbody tr th:only-of-type {\n",
       "        vertical-align: middle;\n",
       "    }\n",
       "\n",
       "    .dataframe tbody tr th {\n",
       "        vertical-align: top;\n",
       "    }\n",
       "\n",
       "    .dataframe thead th {\n",
       "        text-align: right;\n",
       "    }\n",
       "</style>\n",
       "<table border=\"1\" class=\"dataframe\">\n",
       "  <thead>\n",
       "    <tr style=\"text-align: right;\">\n",
       "      <th></th>\n",
       "      <th>COLUMN1</th>\n",
       "      <th>COLUMN2</th>\n",
       "      <th>COLUMN3</th>\n",
       "    </tr>\n",
       "  </thead>\n",
       "  <tbody>\n",
       "    <tr>\n",
       "      <th>A</th>\n",
       "      <td>False</td>\n",
       "      <td>False</td>\n",
       "      <td>True</td>\n",
       "    </tr>\n",
       "    <tr>\n",
       "      <th>B</th>\n",
       "      <td>False</td>\n",
       "      <td>False</td>\n",
       "      <td>False</td>\n",
       "    </tr>\n",
       "    <tr>\n",
       "      <th>C</th>\n",
       "      <td>False</td>\n",
       "      <td>False</td>\n",
       "      <td>False</td>\n",
       "    </tr>\n",
       "    <tr>\n",
       "      <th>D</th>\n",
       "      <td>False</td>\n",
       "      <td>False</td>\n",
       "      <td>True</td>\n",
       "    </tr>\n",
       "  </tbody>\n",
       "</table>\n",
       "</div>"
      ],
      "text/plain": [
       "   COLUMN1  COLUMN2  COLUMN3\n",
       "A    False    False     True\n",
       "B    False    False    False\n",
       "C    False    False    False\n",
       "D    False    False     True"
      ]
     },
     "execution_count": 26,
     "metadata": {},
     "output_type": "execute_result"
    }
   ],
   "source": [
    "fil>1\n",
    "#bu koşulu sağlan true olur geri kalan false olur"
   ]
  },
  {
   "cell_type": "code",
   "execution_count": 27,
   "metadata": {
    "id": "XP7kQL3IWVUS"
   },
   "outputs": [],
   "source": [
    "booleanfil=fil>1"
   ]
  },
  {
   "cell_type": "code",
   "execution_count": 28,
   "metadata": {
    "colab": {
     "base_uri": "https://localhost:8080/",
     "height": 175
    },
    "executionInfo": {
     "elapsed": 12,
     "status": "ok",
     "timestamp": 1710988964533,
     "user": {
      "displayName": "irem küçük",
      "userId": "04336480501228632065"
     },
     "user_tz": -180
    },
    "id": "kVZj2qitWuPD",
    "outputId": "a0f4aad6-9973-4d8c-b71b-abed721db56f"
   },
   "outputs": [
    {
     "data": {
      "text/html": [
       "<div>\n",
       "<style scoped>\n",
       "    .dataframe tbody tr th:only-of-type {\n",
       "        vertical-align: middle;\n",
       "    }\n",
       "\n",
       "    .dataframe tbody tr th {\n",
       "        vertical-align: top;\n",
       "    }\n",
       "\n",
       "    .dataframe thead th {\n",
       "        text-align: right;\n",
       "    }\n",
       "</style>\n",
       "<table border=\"1\" class=\"dataframe\">\n",
       "  <thead>\n",
       "    <tr style=\"text-align: right;\">\n",
       "      <th></th>\n",
       "      <th>COLUMN1</th>\n",
       "      <th>COLUMN2</th>\n",
       "      <th>COLUMN3</th>\n",
       "    </tr>\n",
       "  </thead>\n",
       "  <tbody>\n",
       "    <tr>\n",
       "      <th>A</th>\n",
       "      <td>NaN</td>\n",
       "      <td>NaN</td>\n",
       "      <td>1.226291</td>\n",
       "    </tr>\n",
       "    <tr>\n",
       "      <th>B</th>\n",
       "      <td>NaN</td>\n",
       "      <td>NaN</td>\n",
       "      <td>NaN</td>\n",
       "    </tr>\n",
       "    <tr>\n",
       "      <th>C</th>\n",
       "      <td>NaN</td>\n",
       "      <td>NaN</td>\n",
       "      <td>NaN</td>\n",
       "    </tr>\n",
       "    <tr>\n",
       "      <th>D</th>\n",
       "      <td>NaN</td>\n",
       "      <td>NaN</td>\n",
       "      <td>1.516733</td>\n",
       "    </tr>\n",
       "  </tbody>\n",
       "</table>\n",
       "</div>"
      ],
      "text/plain": [
       "   COLUMN1  COLUMN2   COLUMN3\n",
       "A      NaN      NaN  1.226291\n",
       "B      NaN      NaN       NaN\n",
       "C      NaN      NaN       NaN\n",
       "D      NaN      NaN  1.516733"
      ]
     },
     "execution_count": 28,
     "metadata": {},
     "output_type": "execute_result"
    }
   ],
   "source": [
    "fil[booleanfil]\n",
    "# yukarıda gözüktüğü gibi boolean fil biz ayrı tanımladık kendi için de filtreleme yaptık ve true olanlar kendi değerini korudu fakat false olanlar not a number (NaN) şeklinde çıktı"
   ]
  },
  {
   "cell_type": "code",
   "execution_count": 29,
   "metadata": {
    "colab": {
     "base_uri": "https://localhost:8080/"
    },
    "executionInfo": {
     "elapsed": 12,
     "status": "ok",
     "timestamp": 1710988964533,
     "user": {
      "displayName": "irem küçük",
      "userId": "04336480501228632065"
     },
     "user_tz": -180
    },
    "id": "xcBm4vv6W3UC",
    "outputId": "2b6aa05e-c2f0-4419-c9c5-a45bd2329d97"
   },
   "outputs": [
    {
     "data": {
      "text/plain": [
       "A   -0.747891\n",
       "B    0.251466\n",
       "C   -0.867433\n",
       "D   -1.243655\n",
       "Name: COLUMN1, dtype: float64"
      ]
     },
     "execution_count": 29,
     "metadata": {},
     "output_type": "execute_result"
    }
   ],
   "source": [
    "fil[\"COLUMN1\"]"
   ]
  },
  {
   "cell_type": "code",
   "execution_count": 30,
   "metadata": {
    "colab": {
     "base_uri": "https://localhost:8080/"
    },
    "executionInfo": {
     "elapsed": 10,
     "status": "ok",
     "timestamp": 1710988964533,
     "user": {
      "displayName": "irem küçük",
      "userId": "04336480501228632065"
     },
     "user_tz": -180
    },
    "id": "3HfOClnWXlEh",
    "outputId": "d4058a2c-6d65-4a3a-9fc3-9eb0990c3f8e"
   },
   "outputs": [
    {
     "data": {
      "text/plain": [
       "A    False\n",
       "B    False\n",
       "C    False\n",
       "D    False\n",
       "Name: COLUMN1, dtype: bool"
      ]
     },
     "execution_count": 30,
     "metadata": {},
     "output_type": "execute_result"
    }
   ],
   "source": [
    "fil[\"COLUMN1\"]> 1"
   ]
  },
  {
   "cell_type": "code",
   "execution_count": 31,
   "metadata": {
    "colab": {
     "base_uri": "https://localhost:8080/",
     "height": 53
    },
    "executionInfo": {
     "elapsed": 10,
     "status": "ok",
     "timestamp": 1710988964534,
     "user": {
      "displayName": "irem küçük",
      "userId": "04336480501228632065"
     },
     "user_tz": -180
    },
    "id": "yPC6_jOKXvu6",
    "outputId": "7d2a4b6b-1858-4e7b-cd80-06b23bbb4dca"
   },
   "outputs": [
    {
     "data": {
      "text/html": [
       "<div>\n",
       "<style scoped>\n",
       "    .dataframe tbody tr th:only-of-type {\n",
       "        vertical-align: middle;\n",
       "    }\n",
       "\n",
       "    .dataframe tbody tr th {\n",
       "        vertical-align: top;\n",
       "    }\n",
       "\n",
       "    .dataframe thead th {\n",
       "        text-align: right;\n",
       "    }\n",
       "</style>\n",
       "<table border=\"1\" class=\"dataframe\">\n",
       "  <thead>\n",
       "    <tr style=\"text-align: right;\">\n",
       "      <th></th>\n",
       "      <th>COLUMN1</th>\n",
       "      <th>COLUMN2</th>\n",
       "      <th>COLUMN3</th>\n",
       "    </tr>\n",
       "  </thead>\n",
       "  <tbody>\n",
       "    <tr>\n",
       "      <th>B</th>\n",
       "      <td>0.251466</td>\n",
       "      <td>0.567572</td>\n",
       "      <td>-0.472421</td>\n",
       "    </tr>\n",
       "  </tbody>\n",
       "</table>\n",
       "</div>"
      ],
      "text/plain": [
       "    COLUMN1   COLUMN2   COLUMN3\n",
       "B  0.251466  0.567572 -0.472421"
      ]
     },
     "execution_count": 31,
     "metadata": {},
     "output_type": "execute_result"
    }
   ],
   "source": [
    "fil[fil[\"COLUMN1\"]>0]"
   ]
  },
  {
   "cell_type": "code",
   "execution_count": 32,
   "metadata": {
    "colab": {
     "base_uri": "https://localhost:8080/",
     "height": 143
    },
    "executionInfo": {
     "elapsed": 3,
     "status": "ok",
     "timestamp": 1710988970064,
     "user": {
      "displayName": "irem küçük",
      "userId": "04336480501228632065"
     },
     "user_tz": -180
    },
    "id": "WHOh88_iYCGx",
    "outputId": "582da690-61eb-4ec6-8959-5d3a72ad616b"
   },
   "outputs": [
    {
     "data": {
      "text/html": [
       "<div>\n",
       "<style scoped>\n",
       "    .dataframe tbody tr th:only-of-type {\n",
       "        vertical-align: middle;\n",
       "    }\n",
       "\n",
       "    .dataframe tbody tr th {\n",
       "        vertical-align: top;\n",
       "    }\n",
       "\n",
       "    .dataframe thead th {\n",
       "        text-align: right;\n",
       "    }\n",
       "</style>\n",
       "<table border=\"1\" class=\"dataframe\">\n",
       "  <thead>\n",
       "    <tr style=\"text-align: right;\">\n",
       "      <th></th>\n",
       "      <th>COLUMN1</th>\n",
       "      <th>COLUMN2</th>\n",
       "      <th>COLUMN3</th>\n",
       "    </tr>\n",
       "  </thead>\n",
       "  <tbody>\n",
       "    <tr>\n",
       "      <th>A</th>\n",
       "      <td>-0.747891</td>\n",
       "      <td>-0.463294</td>\n",
       "      <td>1.226291</td>\n",
       "    </tr>\n",
       "    <tr>\n",
       "      <th>B</th>\n",
       "      <td>0.251466</td>\n",
       "      <td>0.567572</td>\n",
       "      <td>-0.472421</td>\n",
       "    </tr>\n",
       "    <tr>\n",
       "      <th>C</th>\n",
       "      <td>-0.867433</td>\n",
       "      <td>-0.477819</td>\n",
       "      <td>-1.965082</td>\n",
       "    </tr>\n",
       "  </tbody>\n",
       "</table>\n",
       "</div>"
      ],
      "text/plain": [
       "    COLUMN1   COLUMN2   COLUMN3\n",
       "A -0.747891 -0.463294  1.226291\n",
       "B  0.251466  0.567572 -0.472421\n",
       "C -0.867433 -0.477819 -1.965082"
      ]
     },
     "execution_count": 32,
     "metadata": {},
     "output_type": "execute_result"
    }
   ],
   "source": [
    "fil[fil[\"COLUMN1\"]>-1]"
   ]
  },
  {
   "cell_type": "code",
   "execution_count": 33,
   "metadata": {
    "colab": {
     "base_uri": "https://localhost:8080/",
     "height": 53
    },
    "executionInfo": {
     "elapsed": 320,
     "status": "ok",
     "timestamp": 1710988973003,
     "user": {
      "displayName": "irem küçük",
      "userId": "04336480501228632065"
     },
     "user_tz": -180
    },
    "id": "P_ewE3_CBLx4",
    "outputId": "4dcddf66-42b4-46fb-9349-2fec4e6cc6ca"
   },
   "outputs": [
    {
     "data": {
      "text/html": [
       "<div>\n",
       "<style scoped>\n",
       "    .dataframe tbody tr th:only-of-type {\n",
       "        vertical-align: middle;\n",
       "    }\n",
       "\n",
       "    .dataframe tbody tr th {\n",
       "        vertical-align: top;\n",
       "    }\n",
       "\n",
       "    .dataframe thead th {\n",
       "        text-align: right;\n",
       "    }\n",
       "</style>\n",
       "<table border=\"1\" class=\"dataframe\">\n",
       "  <thead>\n",
       "    <tr style=\"text-align: right;\">\n",
       "      <th></th>\n",
       "      <th>COLUMN1</th>\n",
       "      <th>COLUMN2</th>\n",
       "      <th>COLUMN3</th>\n",
       "    </tr>\n",
       "  </thead>\n",
       "  <tbody>\n",
       "    <tr>\n",
       "      <th>B</th>\n",
       "      <td>0.251466</td>\n",
       "      <td>0.567572</td>\n",
       "      <td>-0.472421</td>\n",
       "    </tr>\n",
       "  </tbody>\n",
       "</table>\n",
       "</div>"
      ],
      "text/plain": [
       "    COLUMN1   COLUMN2   COLUMN3\n",
       "B  0.251466  0.567572 -0.472421"
      ]
     },
     "execution_count": 33,
     "metadata": {},
     "output_type": "execute_result"
    }
   ],
   "source": [
    "fil[(fil[\"COLUMN1\"]>0 )& (fil[\"COLUMN1\"]>-1)]\n",
    "# pandas ta  and ve or semboller ile ifade edilir  & and sembolüdür | bu da or sembolüdür"
   ]
  },
  {
   "cell_type": "code",
   "execution_count": 34,
   "metadata": {
    "colab": {
     "base_uri": "https://localhost:8080/",
     "height": 143
    },
    "executionInfo": {
     "elapsed": 3,
     "status": "ok",
     "timestamp": 1710988974796,
     "user": {
      "displayName": "irem küçük",
      "userId": "04336480501228632065"
     },
     "user_tz": -180
    },
    "id": "mN5WKEAsBh7K",
    "outputId": "92b5cebb-cfb7-47a8-d877-5ff63656555f"
   },
   "outputs": [
    {
     "data": {
      "text/html": [
       "<div>\n",
       "<style scoped>\n",
       "    .dataframe tbody tr th:only-of-type {\n",
       "        vertical-align: middle;\n",
       "    }\n",
       "\n",
       "    .dataframe tbody tr th {\n",
       "        vertical-align: top;\n",
       "    }\n",
       "\n",
       "    .dataframe thead th {\n",
       "        text-align: right;\n",
       "    }\n",
       "</style>\n",
       "<table border=\"1\" class=\"dataframe\">\n",
       "  <thead>\n",
       "    <tr style=\"text-align: right;\">\n",
       "      <th></th>\n",
       "      <th>COLUMN1</th>\n",
       "      <th>COLUMN2</th>\n",
       "      <th>COLUMN3</th>\n",
       "    </tr>\n",
       "  </thead>\n",
       "  <tbody>\n",
       "    <tr>\n",
       "      <th>A</th>\n",
       "      <td>-0.747891</td>\n",
       "      <td>-0.463294</td>\n",
       "      <td>1.226291</td>\n",
       "    </tr>\n",
       "    <tr>\n",
       "      <th>B</th>\n",
       "      <td>0.251466</td>\n",
       "      <td>0.567572</td>\n",
       "      <td>-0.472421</td>\n",
       "    </tr>\n",
       "    <tr>\n",
       "      <th>C</th>\n",
       "      <td>-0.867433</td>\n",
       "      <td>-0.477819</td>\n",
       "      <td>-1.965082</td>\n",
       "    </tr>\n",
       "  </tbody>\n",
       "</table>\n",
       "</div>"
      ],
      "text/plain": [
       "    COLUMN1   COLUMN2   COLUMN3\n",
       "A -0.747891 -0.463294  1.226291\n",
       "B  0.251466  0.567572 -0.472421\n",
       "C -0.867433 -0.477819 -1.965082"
      ]
     },
     "execution_count": 34,
     "metadata": {},
     "output_type": "execute_result"
    }
   ],
   "source": [
    "fil[(fil[\"COLUMN1\"]>0 ) | (fil[\"COLUMN1\"]>-1)]"
   ]
  },
  {
   "cell_type": "code",
   "execution_count": 35,
   "metadata": {
    "id": "3YKElVlNB7hI"
   },
   "outputs": [],
   "source": [
    "fil[\"COLUMN4\"]= pd.Series(randn(4),[\"A\",\"B\",\"C\",\"D\"])"
   ]
  },
  {
   "cell_type": "code",
   "execution_count": 36,
   "metadata": {
    "colab": {
     "base_uri": "https://localhost:8080/",
     "height": 175
    },
    "executionInfo": {
     "elapsed": 373,
     "status": "ok",
     "timestamp": 1710988982865,
     "user": {
      "displayName": "irem küçük",
      "userId": "04336480501228632065"
     },
     "user_tz": -180
    },
    "id": "eYFK-zYcCkYp",
    "outputId": "e3cfbc53-b4e7-4e62-8665-1cba092e1877"
   },
   "outputs": [
    {
     "data": {
      "text/html": [
       "<div>\n",
       "<style scoped>\n",
       "    .dataframe tbody tr th:only-of-type {\n",
       "        vertical-align: middle;\n",
       "    }\n",
       "\n",
       "    .dataframe tbody tr th {\n",
       "        vertical-align: top;\n",
       "    }\n",
       "\n",
       "    .dataframe thead th {\n",
       "        text-align: right;\n",
       "    }\n",
       "</style>\n",
       "<table border=\"1\" class=\"dataframe\">\n",
       "  <thead>\n",
       "    <tr style=\"text-align: right;\">\n",
       "      <th></th>\n",
       "      <th>COLUMN1</th>\n",
       "      <th>COLUMN2</th>\n",
       "      <th>COLUMN3</th>\n",
       "      <th>COLUMN4</th>\n",
       "    </tr>\n",
       "  </thead>\n",
       "  <tbody>\n",
       "    <tr>\n",
       "      <th>A</th>\n",
       "      <td>-0.747891</td>\n",
       "      <td>-0.463294</td>\n",
       "      <td>1.226291</td>\n",
       "      <td>-1.813399</td>\n",
       "    </tr>\n",
       "    <tr>\n",
       "      <th>B</th>\n",
       "      <td>0.251466</td>\n",
       "      <td>0.567572</td>\n",
       "      <td>-0.472421</td>\n",
       "      <td>0.439545</td>\n",
       "    </tr>\n",
       "    <tr>\n",
       "      <th>C</th>\n",
       "      <td>-0.867433</td>\n",
       "      <td>-0.477819</td>\n",
       "      <td>-1.965082</td>\n",
       "      <td>-1.179635</td>\n",
       "    </tr>\n",
       "    <tr>\n",
       "      <th>D</th>\n",
       "      <td>-1.243655</td>\n",
       "      <td>-0.599107</td>\n",
       "      <td>1.516733</td>\n",
       "      <td>0.203813</td>\n",
       "    </tr>\n",
       "  </tbody>\n",
       "</table>\n",
       "</div>"
      ],
      "text/plain": [
       "    COLUMN1   COLUMN2   COLUMN3   COLUMN4\n",
       "A -0.747891 -0.463294  1.226291 -1.813399\n",
       "B  0.251466  0.567572 -0.472421  0.439545\n",
       "C -0.867433 -0.477819 -1.965082 -1.179635\n",
       "D -1.243655 -0.599107  1.516733  0.203813"
      ]
     },
     "execution_count": 36,
     "metadata": {},
     "output_type": "execute_result"
    }
   ],
   "source": [
    "fil"
   ]
  },
  {
   "cell_type": "code",
   "execution_count": 37,
   "metadata": {
    "id": "OeFfI3cRCuvb"
   },
   "outputs": [],
   "source": [
    "fil[\"COLUMN5\"]= randn(4)"
   ]
  },
  {
   "cell_type": "code",
   "execution_count": 38,
   "metadata": {
    "colab": {
     "base_uri": "https://localhost:8080/",
     "height": 175
    },
    "executionInfo": {
     "elapsed": 3,
     "status": "ok",
     "timestamp": 1710988985294,
     "user": {
      "displayName": "irem küçük",
      "userId": "04336480501228632065"
     },
     "user_tz": -180
    },
    "id": "WJIoywO4DDOf",
    "outputId": "b2abbb4e-8500-4d4e-930f-9632da95f6f3"
   },
   "outputs": [
    {
     "data": {
      "text/html": [
       "<div>\n",
       "<style scoped>\n",
       "    .dataframe tbody tr th:only-of-type {\n",
       "        vertical-align: middle;\n",
       "    }\n",
       "\n",
       "    .dataframe tbody tr th {\n",
       "        vertical-align: top;\n",
       "    }\n",
       "\n",
       "    .dataframe thead th {\n",
       "        text-align: right;\n",
       "    }\n",
       "</style>\n",
       "<table border=\"1\" class=\"dataframe\">\n",
       "  <thead>\n",
       "    <tr style=\"text-align: right;\">\n",
       "      <th></th>\n",
       "      <th>COLUMN1</th>\n",
       "      <th>COLUMN2</th>\n",
       "      <th>COLUMN3</th>\n",
       "      <th>COLUMN4</th>\n",
       "      <th>COLUMN5</th>\n",
       "    </tr>\n",
       "  </thead>\n",
       "  <tbody>\n",
       "    <tr>\n",
       "      <th>A</th>\n",
       "      <td>-0.747891</td>\n",
       "      <td>-0.463294</td>\n",
       "      <td>1.226291</td>\n",
       "      <td>-1.813399</td>\n",
       "      <td>0.702645</td>\n",
       "    </tr>\n",
       "    <tr>\n",
       "      <th>B</th>\n",
       "      <td>0.251466</td>\n",
       "      <td>0.567572</td>\n",
       "      <td>-0.472421</td>\n",
       "      <td>0.439545</td>\n",
       "      <td>0.062497</td>\n",
       "    </tr>\n",
       "    <tr>\n",
       "      <th>C</th>\n",
       "      <td>-0.867433</td>\n",
       "      <td>-0.477819</td>\n",
       "      <td>-1.965082</td>\n",
       "      <td>-1.179635</td>\n",
       "      <td>-0.635424</td>\n",
       "    </tr>\n",
       "    <tr>\n",
       "      <th>D</th>\n",
       "      <td>-1.243655</td>\n",
       "      <td>-0.599107</td>\n",
       "      <td>1.516733</td>\n",
       "      <td>0.203813</td>\n",
       "      <td>1.906720</td>\n",
       "    </tr>\n",
       "  </tbody>\n",
       "</table>\n",
       "</div>"
      ],
      "text/plain": [
       "    COLUMN1   COLUMN2   COLUMN3   COLUMN4   COLUMN5\n",
       "A -0.747891 -0.463294  1.226291 -1.813399  0.702645\n",
       "B  0.251466  0.567572 -0.472421  0.439545  0.062497\n",
       "C -0.867433 -0.477819 -1.965082 -1.179635 -0.635424\n",
       "D -1.243655 -0.599107  1.516733  0.203813  1.906720"
      ]
     },
     "execution_count": 38,
     "metadata": {},
     "output_type": "execute_result"
    }
   ],
   "source": [
    "fil"
   ]
  },
  {
   "cell_type": "code",
   "execution_count": 39,
   "metadata": {
    "id": "hSBoauBLDEq4"
   },
   "outputs": [],
   "source": [
    "fil [\"column6\"]=[1,2,3,4]"
   ]
  },
  {
   "cell_type": "code",
   "execution_count": 40,
   "metadata": {
    "colab": {
     "base_uri": "https://localhost:8080/",
     "height": 175
    },
    "executionInfo": {
     "elapsed": 300,
     "status": "ok",
     "timestamp": 1710988994665,
     "user": {
      "displayName": "irem küçük",
      "userId": "04336480501228632065"
     },
     "user_tz": -180
    },
    "id": "_4jy4T-pDRxv",
    "outputId": "910751e0-fc66-4cdc-c54d-1eb2dc1a71d3"
   },
   "outputs": [
    {
     "data": {
      "text/html": [
       "<div>\n",
       "<style scoped>\n",
       "    .dataframe tbody tr th:only-of-type {\n",
       "        vertical-align: middle;\n",
       "    }\n",
       "\n",
       "    .dataframe tbody tr th {\n",
       "        vertical-align: top;\n",
       "    }\n",
       "\n",
       "    .dataframe thead th {\n",
       "        text-align: right;\n",
       "    }\n",
       "</style>\n",
       "<table border=\"1\" class=\"dataframe\">\n",
       "  <thead>\n",
       "    <tr style=\"text-align: right;\">\n",
       "      <th></th>\n",
       "      <th>COLUMN1</th>\n",
       "      <th>COLUMN2</th>\n",
       "      <th>COLUMN3</th>\n",
       "      <th>COLUMN4</th>\n",
       "      <th>COLUMN5</th>\n",
       "      <th>column6</th>\n",
       "    </tr>\n",
       "  </thead>\n",
       "  <tbody>\n",
       "    <tr>\n",
       "      <th>A</th>\n",
       "      <td>-0.747891</td>\n",
       "      <td>-0.463294</td>\n",
       "      <td>1.226291</td>\n",
       "      <td>-1.813399</td>\n",
       "      <td>0.702645</td>\n",
       "      <td>1</td>\n",
       "    </tr>\n",
       "    <tr>\n",
       "      <th>B</th>\n",
       "      <td>0.251466</td>\n",
       "      <td>0.567572</td>\n",
       "      <td>-0.472421</td>\n",
       "      <td>0.439545</td>\n",
       "      <td>0.062497</td>\n",
       "      <td>2</td>\n",
       "    </tr>\n",
       "    <tr>\n",
       "      <th>C</th>\n",
       "      <td>-0.867433</td>\n",
       "      <td>-0.477819</td>\n",
       "      <td>-1.965082</td>\n",
       "      <td>-1.179635</td>\n",
       "      <td>-0.635424</td>\n",
       "      <td>3</td>\n",
       "    </tr>\n",
       "    <tr>\n",
       "      <th>D</th>\n",
       "      <td>-1.243655</td>\n",
       "      <td>-0.599107</td>\n",
       "      <td>1.516733</td>\n",
       "      <td>0.203813</td>\n",
       "      <td>1.906720</td>\n",
       "      <td>4</td>\n",
       "    </tr>\n",
       "  </tbody>\n",
       "</table>\n",
       "</div>"
      ],
      "text/plain": [
       "    COLUMN1   COLUMN2   COLUMN3   COLUMN4   COLUMN5  column6\n",
       "A -0.747891 -0.463294  1.226291 -1.813399  0.702645        1\n",
       "B  0.251466  0.567572 -0.472421  0.439545  0.062497        2\n",
       "C -0.867433 -0.477819 -1.965082 -1.179635 -0.635424        3\n",
       "D -1.243655 -0.599107  1.516733  0.203813  1.906720        4"
      ]
     },
     "execution_count": 40,
     "metadata": {},
     "output_type": "execute_result"
    }
   ],
   "source": [
    "fil"
   ]
  },
  {
   "cell_type": "code",
   "execution_count": 41,
   "metadata": {
    "colab": {
     "base_uri": "https://localhost:8080/",
     "height": 206
    },
    "executionInfo": {
     "elapsed": 288,
     "status": "ok",
     "timestamp": 1710988996615,
     "user": {
      "displayName": "irem küçük",
      "userId": "04336480501228632065"
     },
     "user_tz": -180
    },
    "id": "WWS8nHtKDS4X",
    "outputId": "2052cb7a-073c-4864-fc09-8ea153f99fc0"
   },
   "outputs": [
    {
     "data": {
      "text/html": [
       "<div>\n",
       "<style scoped>\n",
       "    .dataframe tbody tr th:only-of-type {\n",
       "        vertical-align: middle;\n",
       "    }\n",
       "\n",
       "    .dataframe tbody tr th {\n",
       "        vertical-align: top;\n",
       "    }\n",
       "\n",
       "    .dataframe thead th {\n",
       "        text-align: right;\n",
       "    }\n",
       "</style>\n",
       "<table border=\"1\" class=\"dataframe\">\n",
       "  <thead>\n",
       "    <tr style=\"text-align: right;\">\n",
       "      <th></th>\n",
       "      <th>COLUMN1</th>\n",
       "      <th>COLUMN2</th>\n",
       "      <th>COLUMN3</th>\n",
       "      <th>COLUMN4</th>\n",
       "      <th>COLUMN5</th>\n",
       "    </tr>\n",
       "    <tr>\n",
       "      <th>column6</th>\n",
       "      <th></th>\n",
       "      <th></th>\n",
       "      <th></th>\n",
       "      <th></th>\n",
       "      <th></th>\n",
       "    </tr>\n",
       "  </thead>\n",
       "  <tbody>\n",
       "    <tr>\n",
       "      <th>1</th>\n",
       "      <td>-0.747891</td>\n",
       "      <td>-0.463294</td>\n",
       "      <td>1.226291</td>\n",
       "      <td>-1.813399</td>\n",
       "      <td>0.702645</td>\n",
       "    </tr>\n",
       "    <tr>\n",
       "      <th>2</th>\n",
       "      <td>0.251466</td>\n",
       "      <td>0.567572</td>\n",
       "      <td>-0.472421</td>\n",
       "      <td>0.439545</td>\n",
       "      <td>0.062497</td>\n",
       "    </tr>\n",
       "    <tr>\n",
       "      <th>3</th>\n",
       "      <td>-0.867433</td>\n",
       "      <td>-0.477819</td>\n",
       "      <td>-1.965082</td>\n",
       "      <td>-1.179635</td>\n",
       "      <td>-0.635424</td>\n",
       "    </tr>\n",
       "    <tr>\n",
       "      <th>4</th>\n",
       "      <td>-1.243655</td>\n",
       "      <td>-0.599107</td>\n",
       "      <td>1.516733</td>\n",
       "      <td>0.203813</td>\n",
       "      <td>1.906720</td>\n",
       "    </tr>\n",
       "  </tbody>\n",
       "</table>\n",
       "</div>"
      ],
      "text/plain": [
       "          COLUMN1   COLUMN2   COLUMN3   COLUMN4   COLUMN5\n",
       "column6                                                  \n",
       "1       -0.747891 -0.463294  1.226291 -1.813399  0.702645\n",
       "2        0.251466  0.567572 -0.472421  0.439545  0.062497\n",
       "3       -0.867433 -0.477819 -1.965082 -1.179635 -0.635424\n",
       "4       -1.243655 -0.599107  1.516733  0.203813  1.906720"
      ]
     },
     "execution_count": 41,
     "metadata": {},
     "output_type": "execute_result"
    }
   ],
   "source": [
    "fil.set_index(\"column6\")"
   ]
  },
  {
   "cell_type": "code",
   "execution_count": 42,
   "metadata": {
    "colab": {
     "base_uri": "https://localhost:8080/"
    },
    "executionInfo": {
     "elapsed": 287,
     "status": "ok",
     "timestamp": 1710988998748,
     "user": {
      "displayName": "irem küçük",
      "userId": "04336480501228632065"
     },
     "user_tz": -180
    },
    "id": "tBL3gTQ8HUQ1",
    "outputId": "4468389c-366e-4554-8dcd-5213fe58eaf5"
   },
   "outputs": [
    {
     "data": {
      "text/plain": [
       "FrozenList([None])"
      ]
     },
     "execution_count": 42,
     "metadata": {},
     "output_type": "execute_result"
    }
   ],
   "source": [
    "fil.index.names"
   ]
  },
  {
   "cell_type": "code",
   "execution_count": 43,
   "metadata": {
    "colab": {
     "base_uri": "https://localhost:8080/",
     "height": 175
    },
    "executionInfo": {
     "elapsed": 3,
     "status": "ok",
     "timestamp": 1710989142099,
     "user": {
      "displayName": "irem küçük",
      "userId": "04336480501228632065"
     },
     "user_tz": -180
    },
    "id": "GywD3r7X5Evj",
    "outputId": "d01bfd87-e3bf-4901-d9f9-3782a66d4862"
   },
   "outputs": [
    {
     "data": {
      "text/html": [
       "<div>\n",
       "<style scoped>\n",
       "    .dataframe tbody tr th:only-of-type {\n",
       "        vertical-align: middle;\n",
       "    }\n",
       "\n",
       "    .dataframe tbody tr th {\n",
       "        vertical-align: top;\n",
       "    }\n",
       "\n",
       "    .dataframe thead th {\n",
       "        text-align: right;\n",
       "    }\n",
       "</style>\n",
       "<table border=\"1\" class=\"dataframe\">\n",
       "  <thead>\n",
       "    <tr style=\"text-align: right;\">\n",
       "      <th></th>\n",
       "      <th>COLUMN1</th>\n",
       "      <th>COLUMN2</th>\n",
       "      <th>COLUMN3</th>\n",
       "      <th>COLUMN4</th>\n",
       "      <th>COLUMN5</th>\n",
       "      <th>column6</th>\n",
       "    </tr>\n",
       "  </thead>\n",
       "  <tbody>\n",
       "    <tr>\n",
       "      <th>A</th>\n",
       "      <td>-0.747891</td>\n",
       "      <td>-0.463294</td>\n",
       "      <td>1.226291</td>\n",
       "      <td>-1.813399</td>\n",
       "      <td>0.702645</td>\n",
       "      <td>1</td>\n",
       "    </tr>\n",
       "    <tr>\n",
       "      <th>B</th>\n",
       "      <td>0.251466</td>\n",
       "      <td>0.567572</td>\n",
       "      <td>-0.472421</td>\n",
       "      <td>0.439545</td>\n",
       "      <td>0.062497</td>\n",
       "      <td>2</td>\n",
       "    </tr>\n",
       "    <tr>\n",
       "      <th>C</th>\n",
       "      <td>-0.867433</td>\n",
       "      <td>-0.477819</td>\n",
       "      <td>-1.965082</td>\n",
       "      <td>-1.179635</td>\n",
       "      <td>-0.635424</td>\n",
       "      <td>3</td>\n",
       "    </tr>\n",
       "    <tr>\n",
       "      <th>D</th>\n",
       "      <td>-1.243655</td>\n",
       "      <td>-0.599107</td>\n",
       "      <td>1.516733</td>\n",
       "      <td>0.203813</td>\n",
       "      <td>1.906720</td>\n",
       "      <td>4</td>\n",
       "    </tr>\n",
       "  </tbody>\n",
       "</table>\n",
       "</div>"
      ],
      "text/plain": [
       "    COLUMN1   COLUMN2   COLUMN3   COLUMN4   COLUMN5  column6\n",
       "A -0.747891 -0.463294  1.226291 -1.813399  0.702645        1\n",
       "B  0.251466  0.567572 -0.472421  0.439545  0.062497        2\n",
       "C -0.867433 -0.477819 -1.965082 -1.179635 -0.635424        3\n",
       "D -1.243655 -0.599107  1.516733  0.203813  1.906720        4"
      ]
     },
     "execution_count": 43,
     "metadata": {},
     "output_type": "execute_result"
    }
   ],
   "source": [
    "fil"
   ]
  },
  {
   "cell_type": "code",
   "execution_count": 44,
   "metadata": {
    "colab": {
     "base_uri": "https://localhost:8080/",
     "height": 175
    },
    "executionInfo": {
     "elapsed": 285,
     "status": "ok",
     "timestamp": 1710989223964,
     "user": {
      "displayName": "irem küçük",
      "userId": "04336480501228632065"
     },
     "user_tz": -180
    },
    "id": "Dd8oqkMZ5nxi",
    "outputId": "0f69e2fc-778a-4047-9213-2b74721a77fa"
   },
   "outputs": [
    {
     "data": {
      "text/html": [
       "<div>\n",
       "<style scoped>\n",
       "    .dataframe tbody tr th:only-of-type {\n",
       "        vertical-align: middle;\n",
       "    }\n",
       "\n",
       "    .dataframe tbody tr th {\n",
       "        vertical-align: top;\n",
       "    }\n",
       "\n",
       "    .dataframe thead th {\n",
       "        text-align: right;\n",
       "    }\n",
       "</style>\n",
       "<table border=\"1\" class=\"dataframe\">\n",
       "  <thead>\n",
       "    <tr style=\"text-align: right;\">\n",
       "      <th></th>\n",
       "      <th>index</th>\n",
       "      <th>COLUMN1</th>\n",
       "      <th>COLUMN2</th>\n",
       "      <th>COLUMN3</th>\n",
       "      <th>COLUMN4</th>\n",
       "      <th>COLUMN5</th>\n",
       "      <th>column6</th>\n",
       "    </tr>\n",
       "  </thead>\n",
       "  <tbody>\n",
       "    <tr>\n",
       "      <th>0</th>\n",
       "      <td>A</td>\n",
       "      <td>-0.747891</td>\n",
       "      <td>-0.463294</td>\n",
       "      <td>1.226291</td>\n",
       "      <td>-1.813399</td>\n",
       "      <td>0.702645</td>\n",
       "      <td>1</td>\n",
       "    </tr>\n",
       "    <tr>\n",
       "      <th>1</th>\n",
       "      <td>B</td>\n",
       "      <td>0.251466</td>\n",
       "      <td>0.567572</td>\n",
       "      <td>-0.472421</td>\n",
       "      <td>0.439545</td>\n",
       "      <td>0.062497</td>\n",
       "      <td>2</td>\n",
       "    </tr>\n",
       "    <tr>\n",
       "      <th>2</th>\n",
       "      <td>C</td>\n",
       "      <td>-0.867433</td>\n",
       "      <td>-0.477819</td>\n",
       "      <td>-1.965082</td>\n",
       "      <td>-1.179635</td>\n",
       "      <td>-0.635424</td>\n",
       "      <td>3</td>\n",
       "    </tr>\n",
       "    <tr>\n",
       "      <th>3</th>\n",
       "      <td>D</td>\n",
       "      <td>-1.243655</td>\n",
       "      <td>-0.599107</td>\n",
       "      <td>1.516733</td>\n",
       "      <td>0.203813</td>\n",
       "      <td>1.906720</td>\n",
       "      <td>4</td>\n",
       "    </tr>\n",
       "  </tbody>\n",
       "</table>\n",
       "</div>"
      ],
      "text/plain": [
       "  index   COLUMN1   COLUMN2   COLUMN3   COLUMN4   COLUMN5  column6\n",
       "0     A -0.747891 -0.463294  1.226291 -1.813399  0.702645        1\n",
       "1     B  0.251466  0.567572 -0.472421  0.439545  0.062497        2\n",
       "2     C -0.867433 -0.477819 -1.965082 -1.179635 -0.635424        3\n",
       "3     D -1.243655 -0.599107  1.516733  0.203813  1.906720        4"
      ]
     },
     "execution_count": 44,
     "metadata": {},
     "output_type": "execute_result"
    }
   ],
   "source": [
    "fil.reset_index()#verdiğimiz indexleri siler 0 dan indexlemeye başlar burada da inplace var onu kullanıp kalıcı hale getirebilirsiniz"
   ]
  },
  {
   "cell_type": "code",
   "execution_count": 45,
   "metadata": {
    "id": "821V9CMQ6AYg"
   },
   "outputs": [],
   "source": [
    "new_index=[\"F\",\"G\",\"H\",\"J\"]\n"
   ]
  },
  {
   "cell_type": "markdown",
   "metadata": {
    "id": "N42XjllCH2TV"
   },
   "source": [
    "Data frame de multi index tanımlama burada önemli olan sırası ve sayısı buna dikkat edilmesi gerekir .\n",
    "`pd.MultiIndex.from_tuples(hierarchy)`\n",
    "burada multi index dizisini oluşturduk isterseniz array veya dataframe olarak düzenleip kullanabilirsiniz mantık olarak bir değerin birden fazla index durumu olduğunda kullanılır örenklerini aşağıda bulabilirsiniz"
   ]
  },
  {
   "cell_type": "code",
   "execution_count": 46,
   "metadata": {
    "id": "bwA5TLKpHxPe"
   },
   "outputs": [],
   "source": [
    "import numpy as np\n",
    "import pandas as pd\n",
    "from numpy.random import randn"
   ]
  },
  {
   "cell_type": "code",
   "execution_count": 47,
   "metadata": {
    "id": "Q6IG-n93HxY1"
   },
   "outputs": [],
   "source": [
    "outher_index=[\"group1\",\"group2\",\"group3\",\"group1\",\"group2\",\"group3\"]\n",
    "inner_index=[\"index1\",\"index2\",\"index3\",\"index1\",\"index2\",\"index3\"]"
   ]
  },
  {
   "cell_type": "code",
   "execution_count": 48,
   "metadata": {
    "colab": {
     "base_uri": "https://localhost:8080/"
    },
    "executionInfo": {
     "elapsed": 399,
     "status": "ok",
     "timestamp": 1706557684744,
     "user": {
      "displayName": "irem küçük",
      "userId": "04336480501228632065"
     },
     "user_tz": -180
    },
    "id": "cfOzI8lSHxcN",
    "outputId": "b7ba265d-5bc0-41b5-a391-78e4350c5029"
   },
   "outputs": [
    {
     "data": {
      "text/plain": [
       "[('group1', 'index1'),\n",
       " ('group2', 'index2'),\n",
       " ('group3', 'index3'),\n",
       " ('group1', 'index1'),\n",
       " ('group2', 'index2'),\n",
       " ('group3', 'index3')]"
      ]
     },
     "execution_count": 48,
     "metadata": {},
     "output_type": "execute_result"
    }
   ],
   "source": [
    "list(zip(outher_index,inner_index))"
   ]
  },
  {
   "cell_type": "code",
   "execution_count": 49,
   "metadata": {
    "id": "6jc7UfuLHxe1"
   },
   "outputs": [],
   "source": [
    "hierarchy =list(zip(outher_index,inner_index))"
   ]
  },
  {
   "cell_type": "code",
   "execution_count": 50,
   "metadata": {
    "id": "NxrI9XtFHxhd"
   },
   "outputs": [],
   "source": [
    "hierarchy=pd.MultiIndex.from_tuples(hierarchy)"
   ]
  },
  {
   "cell_type": "code",
   "execution_count": 51,
   "metadata": {
    "colab": {
     "base_uri": "https://localhost:8080/"
    },
    "executionInfo": {
     "elapsed": 2,
     "status": "ok",
     "timestamp": 1706557870280,
     "user": {
      "displayName": "irem küçük",
      "userId": "04336480501228632065"
     },
     "user_tz": -180
    },
    "id": "1ubstfRLHxj6",
    "outputId": "fd99b047-38ed-4389-80cf-4cf23e049cad"
   },
   "outputs": [
    {
     "data": {
      "text/plain": [
       "MultiIndex([('group1', 'index1'),\n",
       "            ('group2', 'index2'),\n",
       "            ('group3', 'index3'),\n",
       "            ('group1', 'index1'),\n",
       "            ('group2', 'index2'),\n",
       "            ('group3', 'index3')],\n",
       "           )"
      ]
     },
     "execution_count": 51,
     "metadata": {},
     "output_type": "execute_result"
    }
   ],
   "source": [
    "hierarchy"
   ]
  },
  {
   "cell_type": "code",
   "execution_count": 52,
   "metadata": {
    "id": "8jeEh9oOHxmV"
   },
   "outputs": [],
   "source": [
    "df =pd.DataFrame(randn(6,3),hierarchy,columns=[\"column1\",\"column2\",\"columns3\"])"
   ]
  },
  {
   "cell_type": "code",
   "execution_count": 53,
   "metadata": {
    "colab": {
     "base_uri": "https://localhost:8080/",
     "height": 238
    },
    "executionInfo": {
     "elapsed": 399,
     "status": "ok",
     "timestamp": 1706560107105,
     "user": {
      "displayName": "irem küçük",
      "userId": "04336480501228632065"
     },
     "user_tz": -180
    },
    "id": "C-04yBA4Hxo2",
    "outputId": "bc331008-8c62-49dc-b061-8bc7c1424fc8"
   },
   "outputs": [
    {
     "data": {
      "text/html": [
       "<div>\n",
       "<style scoped>\n",
       "    .dataframe tbody tr th:only-of-type {\n",
       "        vertical-align: middle;\n",
       "    }\n",
       "\n",
       "    .dataframe tbody tr th {\n",
       "        vertical-align: top;\n",
       "    }\n",
       "\n",
       "    .dataframe thead th {\n",
       "        text-align: right;\n",
       "    }\n",
       "</style>\n",
       "<table border=\"1\" class=\"dataframe\">\n",
       "  <thead>\n",
       "    <tr style=\"text-align: right;\">\n",
       "      <th></th>\n",
       "      <th></th>\n",
       "      <th>column1</th>\n",
       "      <th>column2</th>\n",
       "      <th>columns3</th>\n",
       "    </tr>\n",
       "  </thead>\n",
       "  <tbody>\n",
       "    <tr>\n",
       "      <th>group1</th>\n",
       "      <th>index1</th>\n",
       "      <td>0.946876</td>\n",
       "      <td>0.022715</td>\n",
       "      <td>1.373680</td>\n",
       "    </tr>\n",
       "    <tr>\n",
       "      <th>group2</th>\n",
       "      <th>index2</th>\n",
       "      <td>0.466014</td>\n",
       "      <td>1.036153</td>\n",
       "      <td>0.811216</td>\n",
       "    </tr>\n",
       "    <tr>\n",
       "      <th>group3</th>\n",
       "      <th>index3</th>\n",
       "      <td>-0.623556</td>\n",
       "      <td>-0.862229</td>\n",
       "      <td>-0.789548</td>\n",
       "    </tr>\n",
       "    <tr>\n",
       "      <th>group1</th>\n",
       "      <th>index1</th>\n",
       "      <td>1.499582</td>\n",
       "      <td>1.558871</td>\n",
       "      <td>0.613915</td>\n",
       "    </tr>\n",
       "    <tr>\n",
       "      <th>group2</th>\n",
       "      <th>index2</th>\n",
       "      <td>-0.840612</td>\n",
       "      <td>-0.550275</td>\n",
       "      <td>-0.294403</td>\n",
       "    </tr>\n",
       "    <tr>\n",
       "      <th>group3</th>\n",
       "      <th>index3</th>\n",
       "      <td>1.728735</td>\n",
       "      <td>-0.382953</td>\n",
       "      <td>-1.106492</td>\n",
       "    </tr>\n",
       "  </tbody>\n",
       "</table>\n",
       "</div>"
      ],
      "text/plain": [
       "                column1   column2  columns3\n",
       "group1 index1  0.946876  0.022715  1.373680\n",
       "group2 index2  0.466014  1.036153  0.811216\n",
       "group3 index3 -0.623556 -0.862229 -0.789548\n",
       "group1 index1  1.499582  1.558871  0.613915\n",
       "group2 index2 -0.840612 -0.550275 -0.294403\n",
       "group3 index3  1.728735 -0.382953 -1.106492"
      ]
     },
     "execution_count": 53,
     "metadata": {},
     "output_type": "execute_result"
    }
   ],
   "source": [
    "df"
   ]
  },
  {
   "cell_type": "code",
   "execution_count": 54,
   "metadata": {
    "id": "PdIInQcenILc"
   },
   "outputs": [],
   "source": [
    "ilk=[\"Spor\",\"Spor\",\"Spor\",\"Sanat\",\"Sanat\"]\n",
    "son=[\"Futbol\",\"Basketbol\",\"Tennis\",\"Resim\",\"Heykel\"]"
   ]
  },
  {
   "cell_type": "code",
   "execution_count": 55,
   "metadata": {
    "colab": {
     "base_uri": "https://localhost:8080/"
    },
    "executionInfo": {
     "elapsed": 4,
     "status": "ok",
     "timestamp": 1711538174038,
     "user": {
      "displayName": "irem küçük",
      "userId": "04336480501228632065"
     },
     "user_tz": -180
    },
    "id": "aniG9-N7nInk",
    "outputId": "cf98bc39-859b-4eec-ed5b-84e45c77faef"
   },
   "outputs": [
    {
     "data": {
      "text/plain": [
       "[('Spor', 'Futbol'),\n",
       " ('Spor', 'Basketbol'),\n",
       " ('Spor', 'Tennis'),\n",
       " ('Sanat', 'Resim'),\n",
       " ('Sanat', 'Heykel')]"
      ]
     },
     "execution_count": 55,
     "metadata": {},
     "output_type": "execute_result"
    }
   ],
   "source": [
    "birlestirme=list(zip(ilk,son))\n",
    "birlestirme"
   ]
  },
  {
   "cell_type": "code",
   "execution_count": 56,
   "metadata": {
    "colab": {
     "base_uri": "https://localhost:8080/"
    },
    "executionInfo": {
     "elapsed": 344,
     "status": "ok",
     "timestamp": 1711538337754,
     "user": {
      "displayName": "irem küçük",
      "userId": "04336480501228632065"
     },
     "user_tz": -180
    },
    "id": "SVp-FrtHnLB7",
    "outputId": "234f4e0c-4c88-4f25-c4c3-e44f252a60c3"
   },
   "outputs": [
    {
     "data": {
      "text/plain": [
       "MultiIndex([( 'Spor',    'Futbol'),\n",
       "            ( 'Spor', 'Basketbol'),\n",
       "            ( 'Spor',    'Tennis'),\n",
       "            ('Sanat',     'Resim'),\n",
       "            ('Sanat',    'Heykel')],\n",
       "           )"
      ]
     },
     "execution_count": 56,
     "metadata": {},
     "output_type": "execute_result"
    }
   ],
   "source": [
    "birlestirme=pd.MultiIndex.from_tuples(birlestirme)\n",
    "birlestirme"
   ]
  },
  {
   "cell_type": "code",
   "execution_count": 57,
   "metadata": {
    "id": "m-RXtngkpZHa"
   },
   "outputs": [],
   "source": [
    "alan=[[1,\"SP\"],[2,\"SP\"],[3,\"SP\"],[4,\"SN\"],[5,\"SN\"]]"
   ]
  },
  {
   "cell_type": "code",
   "execution_count": 58,
   "metadata": {
    "id": "1fEv_PjMsTso"
   },
   "outputs": [],
   "source": [
    "alanarray=np.array(alan)#Numpy"
   ]
  },
  {
   "cell_type": "code",
   "execution_count": 59,
   "metadata": {
    "id": "SAfTfdNMsTjN"
   },
   "outputs": [],
   "source": [
    "alandatframe=pd.DataFrame(alanarray,index=birlestirme,columns=[\"Number\",\"Code\"]) #dataframe pandas"
   ]
  },
  {
   "cell_type": "code",
   "execution_count": 60,
   "metadata": {
    "colab": {
     "base_uri": "https://localhost:8080/",
     "height": 206
    },
    "executionInfo": {
     "elapsed": 8,
     "status": "ok",
     "timestamp": 1711540047156,
     "user": {
      "displayName": "irem küçük",
      "userId": "04336480501228632065"
     },
     "user_tz": -180
    },
    "id": "d7OhEazuswwL",
    "outputId": "7436a17c-58f3-4057-84ea-c6f0c7d57c3c"
   },
   "outputs": [
    {
     "data": {
      "text/html": [
       "<div>\n",
       "<style scoped>\n",
       "    .dataframe tbody tr th:only-of-type {\n",
       "        vertical-align: middle;\n",
       "    }\n",
       "\n",
       "    .dataframe tbody tr th {\n",
       "        vertical-align: top;\n",
       "    }\n",
       "\n",
       "    .dataframe thead th {\n",
       "        text-align: right;\n",
       "    }\n",
       "</style>\n",
       "<table border=\"1\" class=\"dataframe\">\n",
       "  <thead>\n",
       "    <tr style=\"text-align: right;\">\n",
       "      <th></th>\n",
       "      <th></th>\n",
       "      <th>Number</th>\n",
       "      <th>Code</th>\n",
       "    </tr>\n",
       "  </thead>\n",
       "  <tbody>\n",
       "    <tr>\n",
       "      <th rowspan=\"3\" valign=\"top\">Spor</th>\n",
       "      <th>Futbol</th>\n",
       "      <td>1</td>\n",
       "      <td>SP</td>\n",
       "    </tr>\n",
       "    <tr>\n",
       "      <th>Basketbol</th>\n",
       "      <td>2</td>\n",
       "      <td>SP</td>\n",
       "    </tr>\n",
       "    <tr>\n",
       "      <th>Tennis</th>\n",
       "      <td>3</td>\n",
       "      <td>SP</td>\n",
       "    </tr>\n",
       "    <tr>\n",
       "      <th rowspan=\"2\" valign=\"top\">Sanat</th>\n",
       "      <th>Resim</th>\n",
       "      <td>4</td>\n",
       "      <td>SN</td>\n",
       "    </tr>\n",
       "    <tr>\n",
       "      <th>Heykel</th>\n",
       "      <td>5</td>\n",
       "      <td>SN</td>\n",
       "    </tr>\n",
       "  </tbody>\n",
       "</table>\n",
       "</div>"
      ],
      "text/plain": [
       "                Number Code\n",
       "Spor  Futbol         1   SP\n",
       "      Basketbol      2   SP\n",
       "      Tennis         3   SP\n",
       "Sanat Resim          4   SN\n",
       "      Heykel         5   SN"
      ]
     },
     "execution_count": 60,
     "metadata": {},
     "output_type": "execute_result"
    }
   ],
   "source": [
    "alandatframe"
   ]
  },
  {
   "cell_type": "code",
   "execution_count": 61,
   "metadata": {
    "colab": {
     "base_uri": "https://localhost:8080/",
     "height": 143
    },
    "executionInfo": {
     "elapsed": 305,
     "status": "ok",
     "timestamp": 1711539865010,
     "user": {
      "displayName": "irem küçük",
      "userId": "04336480501228632065"
     },
     "user_tz": -180
    },
    "id": "H45OH08HuU1V",
    "outputId": "bfa1bbbf-c368-4d7b-f647-d4db58b5bf68"
   },
   "outputs": [
    {
     "data": {
      "text/html": [
       "<div>\n",
       "<style scoped>\n",
       "    .dataframe tbody tr th:only-of-type {\n",
       "        vertical-align: middle;\n",
       "    }\n",
       "\n",
       "    .dataframe tbody tr th {\n",
       "        vertical-align: top;\n",
       "    }\n",
       "\n",
       "    .dataframe thead th {\n",
       "        text-align: right;\n",
       "    }\n",
       "</style>\n",
       "<table border=\"1\" class=\"dataframe\">\n",
       "  <thead>\n",
       "    <tr style=\"text-align: right;\">\n",
       "      <th></th>\n",
       "      <th>Number</th>\n",
       "      <th>Code</th>\n",
       "    </tr>\n",
       "  </thead>\n",
       "  <tbody>\n",
       "    <tr>\n",
       "      <th>Futbol</th>\n",
       "      <td>1</td>\n",
       "      <td>SP</td>\n",
       "    </tr>\n",
       "    <tr>\n",
       "      <th>Basketbol</th>\n",
       "      <td>2</td>\n",
       "      <td>SP</td>\n",
       "    </tr>\n",
       "    <tr>\n",
       "      <th>Tennis</th>\n",
       "      <td>3</td>\n",
       "      <td>SP</td>\n",
       "    </tr>\n",
       "  </tbody>\n",
       "</table>\n",
       "</div>"
      ],
      "text/plain": [
       "          Number Code\n",
       "Futbol         1   SP\n",
       "Basketbol      2   SP\n",
       "Tennis         3   SP"
      ]
     },
     "execution_count": 61,
     "metadata": {},
     "output_type": "execute_result"
    }
   ],
   "source": [
    "alandatframe.loc[\"Spor\"]#.loc burada istenilen başlığın altındaki elamalrı çağırır"
   ]
  },
  {
   "cell_type": "code",
   "execution_count": 62,
   "metadata": {
    "colab": {
     "base_uri": "https://localhost:8080/"
    },
    "executionInfo": {
     "elapsed": 265,
     "status": "ok",
     "timestamp": 1711540050325,
     "user": {
      "displayName": "irem küçük",
      "userId": "04336480501228632065"
     },
     "user_tz": -180
    },
    "id": "uqCifgPYunPU",
    "outputId": "21a655a7-51ef-4ed4-8859-a4ff4ab8f4b5"
   },
   "outputs": [
    {
     "data": {
      "text/plain": [
       "Number     3\n",
       "Code      SP\n",
       "Name: Tennis, dtype: object"
      ]
     },
     "execution_count": 62,
     "metadata": {},
     "output_type": "execute_result"
    }
   ],
   "source": [
    "alandatframe.loc[\"Spor\"].loc[\"Tennis\"]#elemaının kendisine ulaşmak istersek ikidefa .loc dememiz gerekir"
   ]
  },
  {
   "cell_type": "code",
   "execution_count": 63,
   "metadata": {
    "colab": {
     "base_uri": "https://localhost:8080/",
     "height": 238
    },
    "executionInfo": {
     "elapsed": 5,
     "status": "ok",
     "timestamp": 1711540068686,
     "user": {
      "displayName": "irem küçük",
      "userId": "04336480501228632065"
     },
     "user_tz": -180
    },
    "id": "N7MXpraYu3o7",
    "outputId": "320ddb79-5796-470f-8e20-5708a840df33"
   },
   "outputs": [
    {
     "data": {
      "text/html": [
       "<div>\n",
       "<style scoped>\n",
       "    .dataframe tbody tr th:only-of-type {\n",
       "        vertical-align: middle;\n",
       "    }\n",
       "\n",
       "    .dataframe tbody tr th {\n",
       "        vertical-align: top;\n",
       "    }\n",
       "\n",
       "    .dataframe thead th {\n",
       "        text-align: right;\n",
       "    }\n",
       "</style>\n",
       "<table border=\"1\" class=\"dataframe\">\n",
       "  <thead>\n",
       "    <tr style=\"text-align: right;\">\n",
       "      <th></th>\n",
       "      <th></th>\n",
       "      <th>Number</th>\n",
       "      <th>Code</th>\n",
       "    </tr>\n",
       "    <tr>\n",
       "      <th>Hobi</th>\n",
       "      <th>Name</th>\n",
       "      <th></th>\n",
       "      <th></th>\n",
       "    </tr>\n",
       "  </thead>\n",
       "  <tbody>\n",
       "    <tr>\n",
       "      <th rowspan=\"3\" valign=\"top\">Spor</th>\n",
       "      <th>Futbol</th>\n",
       "      <td>1</td>\n",
       "      <td>SP</td>\n",
       "    </tr>\n",
       "    <tr>\n",
       "      <th>Basketbol</th>\n",
       "      <td>2</td>\n",
       "      <td>SP</td>\n",
       "    </tr>\n",
       "    <tr>\n",
       "      <th>Tennis</th>\n",
       "      <td>3</td>\n",
       "      <td>SP</td>\n",
       "    </tr>\n",
       "    <tr>\n",
       "      <th rowspan=\"2\" valign=\"top\">Sanat</th>\n",
       "      <th>Resim</th>\n",
       "      <td>4</td>\n",
       "      <td>SN</td>\n",
       "    </tr>\n",
       "    <tr>\n",
       "      <th>Heykel</th>\n",
       "      <td>5</td>\n",
       "      <td>SN</td>\n",
       "    </tr>\n",
       "  </tbody>\n",
       "</table>\n",
       "</div>"
      ],
      "text/plain": [
       "                Number Code\n",
       "Hobi  Name                 \n",
       "Spor  Futbol         1   SP\n",
       "      Basketbol      2   SP\n",
       "      Tennis         3   SP\n",
       "Sanat Resim          4   SN\n",
       "      Heykel         5   SN"
      ]
     },
     "execution_count": 63,
     "metadata": {},
     "output_type": "execute_result"
    }
   ],
   "source": [
    "alandatframe.index.names=[\"Hobi\",\"Name\"]\n",
    "alandatframe\n",
    "#yeniden index ismi verebiliriz bunuda .index.names yazıp [ hangi başlığın altına gelmesi istiyorsam o satırları yazarız]"
   ]
  },
  {
   "cell_type": "markdown",
   "metadata": {
    "id": "D2HOPwDSCg7u"
   },
   "source": [
    "dat ön işleme işlemi burada yapılır kayıp veriler ve bozuk veriler(missing value)"
   ]
  },
  {
   "cell_type": "code",
   "execution_count": 64,
   "metadata": {
    "executionInfo": {
     "elapsed": 929,
     "status": "ok",
     "timestamp": 1712543506650,
     "user": {
      "displayName": "irem küçük",
      "userId": "04336480501228632065"
     },
     "user_tz": -180
    },
    "id": "DFVq4uHeCT5X"
   },
   "outputs": [],
   "source": [
    "import  numpy as np\n",
    "import pandas as pd"
   ]
  },
  {
   "cell_type": "code",
   "execution_count": 65,
   "metadata": {
    "executionInfo": {
     "elapsed": 273,
     "status": "ok",
     "timestamp": 1712543899559,
     "user": {
      "displayName": "irem küçük",
      "userId": "04336480501228632065"
     },
     "user_tz": -180
    },
    "id": "UVvpjJPUjrBp"
   },
   "outputs": [],
   "source": [
    "sozluk={\"istanbul\":[30,29,np.nan],\"ankara\":[20,np.nan,20],\"antalya\":[35,30,27]}\n",
    "hava=pd.DataFrame(sozluk)"
   ]
  },
  {
   "cell_type": "code",
   "execution_count": 66,
   "metadata": {
    "colab": {
     "base_uri": "https://localhost:8080/",
     "height": 143
    },
    "executionInfo": {
     "elapsed": 4,
     "status": "ok",
     "timestamp": 1712543958136,
     "user": {
      "displayName": "irem küçük",
      "userId": "04336480501228632065"
     },
     "user_tz": -180
    },
    "id": "iozPVKLukmXd",
    "outputId": "c0d1e913-2738-4b47-b272-1a72113be084"
   },
   "outputs": [
    {
     "data": {
      "text/html": [
       "<div>\n",
       "<style scoped>\n",
       "    .dataframe tbody tr th:only-of-type {\n",
       "        vertical-align: middle;\n",
       "    }\n",
       "\n",
       "    .dataframe tbody tr th {\n",
       "        vertical-align: top;\n",
       "    }\n",
       "\n",
       "    .dataframe thead th {\n",
       "        text-align: right;\n",
       "    }\n",
       "</style>\n",
       "<table border=\"1\" class=\"dataframe\">\n",
       "  <thead>\n",
       "    <tr style=\"text-align: right;\">\n",
       "      <th></th>\n",
       "      <th>istanbul</th>\n",
       "      <th>ankara</th>\n",
       "      <th>antalya</th>\n",
       "    </tr>\n",
       "  </thead>\n",
       "  <tbody>\n",
       "    <tr>\n",
       "      <th>0</th>\n",
       "      <td>30.0</td>\n",
       "      <td>20.0</td>\n",
       "      <td>35</td>\n",
       "    </tr>\n",
       "    <tr>\n",
       "      <th>1</th>\n",
       "      <td>29.0</td>\n",
       "      <td>NaN</td>\n",
       "      <td>30</td>\n",
       "    </tr>\n",
       "    <tr>\n",
       "      <th>2</th>\n",
       "      <td>NaN</td>\n",
       "      <td>20.0</td>\n",
       "      <td>27</td>\n",
       "    </tr>\n",
       "  </tbody>\n",
       "</table>\n",
       "</div>"
      ],
      "text/plain": [
       "   istanbul  ankara  antalya\n",
       "0      30.0    20.0       35\n",
       "1      29.0     NaN       30\n",
       "2       NaN    20.0       27"
      ]
     },
     "execution_count": 66,
     "metadata": {},
     "output_type": "execute_result"
    }
   ],
   "source": [
    "hava"
   ]
  },
  {
   "cell_type": "markdown",
   "metadata": {
    "id": "J5aReORelKqn"
   },
   "source": [
    "eksik veriler (NaN )iki türlü düzeltebirisinz ya silme işlemi yapacaksınız ya da bu NaN değerleri doldurma işlemi yapmalısınz silme işlemi pek tercih edilen bir yöntem değildir"
   ]
  },
  {
   "cell_type": "markdown",
   "metadata": {
    "id": "4oy0dq_ZmzNY"
   },
   "source": [
    "burada hem sözlük hemde numpy dizisini kullanarak iki türlü örnek vermek istedim"
   ]
  },
  {
   "cell_type": "code",
   "execution_count": 67,
   "metadata": {
    "executionInfo": {
     "elapsed": 268,
     "status": "ok",
     "timestamp": 1712543908371,
     "user": {
      "displayName": "irem küçük",
      "userId": "04336480501228632065"
     },
     "user_tz": -180
    },
    "id": "Wve-QRFtSkVU"
   },
   "outputs": [],
   "source": [
    "arr=np.array([[10,20,np.nan],[5,np.nan,np.nan],[20,np.nan,10]])"
   ]
  },
  {
   "cell_type": "code",
   "execution_count": 68,
   "metadata": {
    "colab": {
     "base_uri": "https://localhost:8080/"
    },
    "executionInfo": {
     "elapsed": 9,
     "status": "ok",
     "timestamp": 1707506173396,
     "user": {
      "displayName": "irem küçük",
      "userId": "04336480501228632065"
     },
     "user_tz": -180
    },
    "id": "7-Mf3HS3TG9a",
    "outputId": "ed1bb781-a802-43a6-e794-bfce08196f9a"
   },
   "outputs": [
    {
     "data": {
      "text/plain": [
       "array([[10., 20., nan],\n",
       "       [ 5., nan, nan],\n",
       "       [20., nan, 10.]])"
      ]
     },
     "execution_count": 68,
     "metadata": {},
     "output_type": "execute_result"
    }
   ],
   "source": [
    "arr"
   ]
  },
  {
   "cell_type": "code",
   "execution_count": 69,
   "metadata": {
    "id": "ekCB_kMxTICt"
   },
   "outputs": [],
   "source": [
    "df=pd.DataFrame(arr,index=[\"Index1\",\"Index2\",\"Index3\"],columns =[\"Colum1\",\"Column2\",\"Column3\"])"
   ]
  },
  {
   "cell_type": "code",
   "execution_count": 70,
   "metadata": {
    "colab": {
     "base_uri": "https://localhost:8080/",
     "height": 143
    },
    "executionInfo": {
     "elapsed": 14,
     "status": "ok",
     "timestamp": 1707506341732,
     "user": {
      "displayName": "irem küçük",
      "userId": "04336480501228632065"
     },
     "user_tz": -180
    },
    "id": "3jXy6aKLTwOz",
    "outputId": "ce2bab68-ba96-48ec-e133-07579760f2ba"
   },
   "outputs": [
    {
     "data": {
      "text/html": [
       "<div>\n",
       "<style scoped>\n",
       "    .dataframe tbody tr th:only-of-type {\n",
       "        vertical-align: middle;\n",
       "    }\n",
       "\n",
       "    .dataframe tbody tr th {\n",
       "        vertical-align: top;\n",
       "    }\n",
       "\n",
       "    .dataframe thead th {\n",
       "        text-align: right;\n",
       "    }\n",
       "</style>\n",
       "<table border=\"1\" class=\"dataframe\">\n",
       "  <thead>\n",
       "    <tr style=\"text-align: right;\">\n",
       "      <th></th>\n",
       "      <th>Colum1</th>\n",
       "      <th>Column2</th>\n",
       "      <th>Column3</th>\n",
       "    </tr>\n",
       "  </thead>\n",
       "  <tbody>\n",
       "    <tr>\n",
       "      <th>Index1</th>\n",
       "      <td>10.0</td>\n",
       "      <td>20.0</td>\n",
       "      <td>NaN</td>\n",
       "    </tr>\n",
       "    <tr>\n",
       "      <th>Index2</th>\n",
       "      <td>5.0</td>\n",
       "      <td>NaN</td>\n",
       "      <td>NaN</td>\n",
       "    </tr>\n",
       "    <tr>\n",
       "      <th>Index3</th>\n",
       "      <td>20.0</td>\n",
       "      <td>NaN</td>\n",
       "      <td>10.0</td>\n",
       "    </tr>\n",
       "  </tbody>\n",
       "</table>\n",
       "</div>"
      ],
      "text/plain": [
       "        Colum1  Column2  Column3\n",
       "Index1    10.0     20.0      NaN\n",
       "Index2     5.0      NaN      NaN\n",
       "Index3    20.0      NaN     10.0"
      ]
     },
     "execution_count": 70,
     "metadata": {},
     "output_type": "execute_result"
    }
   ],
   "source": [
    "df"
   ]
  },
  {
   "cell_type": "code",
   "execution_count": 71,
   "metadata": {
    "colab": {
     "base_uri": "https://localhost:8080/",
     "height": 53
    },
    "executionInfo": {
     "elapsed": 328,
     "status": "ok",
     "timestamp": 1707506568991,
     "user": {
      "displayName": "irem küçük",
      "userId": "04336480501228632065"
     },
     "user_tz": -180
    },
    "id": "hcec4G-zTxMM",
    "outputId": "d876d0d3-1d7c-4fae-d597-2f935b623a29"
   },
   "outputs": [
    {
     "data": {
      "text/html": [
       "<div>\n",
       "<style scoped>\n",
       "    .dataframe tbody tr th:only-of-type {\n",
       "        vertical-align: middle;\n",
       "    }\n",
       "\n",
       "    .dataframe tbody tr th {\n",
       "        vertical-align: top;\n",
       "    }\n",
       "\n",
       "    .dataframe thead th {\n",
       "        text-align: right;\n",
       "    }\n",
       "</style>\n",
       "<table border=\"1\" class=\"dataframe\">\n",
       "  <thead>\n",
       "    <tr style=\"text-align: right;\">\n",
       "      <th></th>\n",
       "      <th>Colum1</th>\n",
       "      <th>Column2</th>\n",
       "      <th>Column3</th>\n",
       "    </tr>\n",
       "  </thead>\n",
       "  <tbody>\n",
       "  </tbody>\n",
       "</table>\n",
       "</div>"
      ],
      "text/plain": [
       "Empty DataFrame\n",
       "Columns: [Colum1, Column2, Column3]\n",
       "Index: []"
      ]
     },
     "execution_count": 71,
     "metadata": {},
     "output_type": "execute_result"
    }
   ],
   "source": [
    "df.dropna()\n",
    "#bunun içindeki axsis =0 ise index göre axsis=1 ise column göre siler\n",
    "#dropna() aslında arkada başka bir değişkene eşitler isterseniz bir değişkenin içindede tutabilirsinz yada inplace true derseniz dataframe kalıcı olarak değiştirisiniz"
   ]
  },
  {
   "cell_type": "code",
   "execution_count": 72,
   "metadata": {
    "colab": {
     "base_uri": "https://localhost:8080/",
     "height": 143
    },
    "executionInfo": {
     "elapsed": 347,
     "status": "ok",
     "timestamp": 1707506576472,
     "user": {
      "displayName": "irem küçük",
      "userId": "04336480501228632065"
     },
     "user_tz": -180
    },
    "id": "qSqTaroVUorQ",
    "outputId": "07b2fa3e-f8bc-4503-d396-c215683b6a09"
   },
   "outputs": [
    {
     "data": {
      "text/html": [
       "<div>\n",
       "<style scoped>\n",
       "    .dataframe tbody tr th:only-of-type {\n",
       "        vertical-align: middle;\n",
       "    }\n",
       "\n",
       "    .dataframe tbody tr th {\n",
       "        vertical-align: top;\n",
       "    }\n",
       "\n",
       "    .dataframe thead th {\n",
       "        text-align: right;\n",
       "    }\n",
       "</style>\n",
       "<table border=\"1\" class=\"dataframe\">\n",
       "  <thead>\n",
       "    <tr style=\"text-align: right;\">\n",
       "      <th></th>\n",
       "      <th>Colum1</th>\n",
       "      <th>Column2</th>\n",
       "      <th>Column3</th>\n",
       "    </tr>\n",
       "  </thead>\n",
       "  <tbody>\n",
       "    <tr>\n",
       "      <th>Index1</th>\n",
       "      <td>10.0</td>\n",
       "      <td>20.0</td>\n",
       "      <td>NaN</td>\n",
       "    </tr>\n",
       "    <tr>\n",
       "      <th>Index2</th>\n",
       "      <td>5.0</td>\n",
       "      <td>NaN</td>\n",
       "      <td>NaN</td>\n",
       "    </tr>\n",
       "    <tr>\n",
       "      <th>Index3</th>\n",
       "      <td>20.0</td>\n",
       "      <td>NaN</td>\n",
       "      <td>10.0</td>\n",
       "    </tr>\n",
       "  </tbody>\n",
       "</table>\n",
       "</div>"
      ],
      "text/plain": [
       "        Colum1  Column2  Column3\n",
       "Index1    10.0     20.0      NaN\n",
       "Index2     5.0      NaN      NaN\n",
       "Index3    20.0      NaN     10.0"
      ]
     },
     "execution_count": 72,
     "metadata": {},
     "output_type": "execute_result"
    }
   ],
   "source": [
    "df\n"
   ]
  },
  {
   "cell_type": "code",
   "execution_count": 73,
   "metadata": {
    "colab": {
     "base_uri": "https://localhost:8080/",
     "height": 112
    },
    "executionInfo": {
     "elapsed": 12,
     "status": "ok",
     "timestamp": 1707506610592,
     "user": {
      "displayName": "irem küçük",
      "userId": "04336480501228632065"
     },
     "user_tz": -180
    },
    "id": "GB5WK3sYUqgL",
    "outputId": "89f402fc-43d6-4d14-f9ee-788eee239774"
   },
   "outputs": [
    {
     "data": {
      "text/html": [
       "<div>\n",
       "<style scoped>\n",
       "    .dataframe tbody tr th:only-of-type {\n",
       "        vertical-align: middle;\n",
       "    }\n",
       "\n",
       "    .dataframe tbody tr th {\n",
       "        vertical-align: top;\n",
       "    }\n",
       "\n",
       "    .dataframe thead th {\n",
       "        text-align: right;\n",
       "    }\n",
       "</style>\n",
       "<table border=\"1\" class=\"dataframe\">\n",
       "  <thead>\n",
       "    <tr style=\"text-align: right;\">\n",
       "      <th></th>\n",
       "      <th>Colum1</th>\n",
       "      <th>Column2</th>\n",
       "      <th>Column3</th>\n",
       "    </tr>\n",
       "  </thead>\n",
       "  <tbody>\n",
       "    <tr>\n",
       "      <th>Index1</th>\n",
       "      <td>10.0</td>\n",
       "      <td>20.0</td>\n",
       "      <td>NaN</td>\n",
       "    </tr>\n",
       "    <tr>\n",
       "      <th>Index3</th>\n",
       "      <td>20.0</td>\n",
       "      <td>NaN</td>\n",
       "      <td>10.0</td>\n",
       "    </tr>\n",
       "  </tbody>\n",
       "</table>\n",
       "</div>"
      ],
      "text/plain": [
       "        Colum1  Column2  Column3\n",
       "Index1    10.0     20.0      NaN\n",
       "Index3    20.0      NaN     10.0"
      ]
     },
     "execution_count": 73,
     "metadata": {},
     "output_type": "execute_result"
    }
   ],
   "source": [
    "df.dropna(thresh=2)\n",
    "#tresh bir indexte kaç tane NaN sayısı olmasını gerektiğini söyler bu şekilde filitreler 2 tane olanları siler burda birde  fark etiyseniz axis verilmediği için axis=0 olarka işlemi yapar"
   ]
  },
  {
   "cell_type": "code",
   "execution_count": 74,
   "metadata": {
    "colab": {
     "base_uri": "https://localhost:8080/",
     "height": 143
    },
    "executionInfo": {
     "elapsed": 11,
     "status": "ok",
     "timestamp": 1707506817938,
     "user": {
      "displayName": "irem küçük",
      "userId": "04336480501228632065"
     },
     "user_tz": -180
    },
    "id": "MbhHpWdiUy1L",
    "outputId": "137c3853-e5fe-4057-ab42-e53224e10af5"
   },
   "outputs": [
    {
     "data": {
      "text/html": [
       "<div>\n",
       "<style scoped>\n",
       "    .dataframe tbody tr th:only-of-type {\n",
       "        vertical-align: middle;\n",
       "    }\n",
       "\n",
       "    .dataframe tbody tr th {\n",
       "        vertical-align: top;\n",
       "    }\n",
       "\n",
       "    .dataframe thead th {\n",
       "        text-align: right;\n",
       "    }\n",
       "</style>\n",
       "<table border=\"1\" class=\"dataframe\">\n",
       "  <thead>\n",
       "    <tr style=\"text-align: right;\">\n",
       "      <th></th>\n",
       "      <th>Colum1</th>\n",
       "      <th>Column2</th>\n",
       "      <th>Column3</th>\n",
       "    </tr>\n",
       "  </thead>\n",
       "  <tbody>\n",
       "    <tr>\n",
       "      <th>Index1</th>\n",
       "      <td>10.0</td>\n",
       "      <td>20.0</td>\n",
       "      <td>NaN</td>\n",
       "    </tr>\n",
       "    <tr>\n",
       "      <th>Index2</th>\n",
       "      <td>5.0</td>\n",
       "      <td>NaN</td>\n",
       "      <td>NaN</td>\n",
       "    </tr>\n",
       "    <tr>\n",
       "      <th>Index3</th>\n",
       "      <td>20.0</td>\n",
       "      <td>NaN</td>\n",
       "      <td>10.0</td>\n",
       "    </tr>\n",
       "  </tbody>\n",
       "</table>\n",
       "</div>"
      ],
      "text/plain": [
       "        Colum1  Column2  Column3\n",
       "Index1    10.0     20.0      NaN\n",
       "Index2     5.0      NaN      NaN\n",
       "Index3    20.0      NaN     10.0"
      ]
     },
     "execution_count": 74,
     "metadata": {},
     "output_type": "execute_result"
    }
   ],
   "source": [
    "df\n"
   ]
  },
  {
   "cell_type": "code",
   "execution_count": 75,
   "metadata": {
    "colab": {
     "base_uri": "https://localhost:8080/",
     "height": 143
    },
    "executionInfo": {
     "elapsed": 311,
     "status": "ok",
     "timestamp": 1707506847129,
     "user": {
      "displayName": "irem küçük",
      "userId": "04336480501228632065"
     },
     "user_tz": -180
    },
    "id": "NzqAbxaIVlaa",
    "outputId": "155d0839-6dd3-449b-d2ad-fb8a2d193d2c"
   },
   "outputs": [
    {
     "data": {
      "text/html": [
       "<div>\n",
       "<style scoped>\n",
       "    .dataframe tbody tr th:only-of-type {\n",
       "        vertical-align: middle;\n",
       "    }\n",
       "\n",
       "    .dataframe tbody tr th {\n",
       "        vertical-align: top;\n",
       "    }\n",
       "\n",
       "    .dataframe thead th {\n",
       "        text-align: right;\n",
       "    }\n",
       "</style>\n",
       "<table border=\"1\" class=\"dataframe\">\n",
       "  <thead>\n",
       "    <tr style=\"text-align: right;\">\n",
       "      <th></th>\n",
       "      <th>Colum1</th>\n",
       "      <th>Column2</th>\n",
       "      <th>Column3</th>\n",
       "    </tr>\n",
       "  </thead>\n",
       "  <tbody>\n",
       "    <tr>\n",
       "      <th>Index1</th>\n",
       "      <td>10.0</td>\n",
       "      <td>20.0</td>\n",
       "      <td>1.0</td>\n",
       "    </tr>\n",
       "    <tr>\n",
       "      <th>Index2</th>\n",
       "      <td>5.0</td>\n",
       "      <td>1.0</td>\n",
       "      <td>1.0</td>\n",
       "    </tr>\n",
       "    <tr>\n",
       "      <th>Index3</th>\n",
       "      <td>20.0</td>\n",
       "      <td>1.0</td>\n",
       "      <td>10.0</td>\n",
       "    </tr>\n",
       "  </tbody>\n",
       "</table>\n",
       "</div>"
      ],
      "text/plain": [
       "        Colum1  Column2  Column3\n",
       "Index1    10.0     20.0      1.0\n",
       "Index2     5.0      1.0      1.0\n",
       "Index3    20.0      1.0     10.0"
      ]
     },
     "execution_count": 75,
     "metadata": {},
     "output_type": "execute_result"
    }
   ],
   "source": [
    "df.fillna(value=1)\n",
    "# nan değerlerin yerine sabit bir değer atmak istersek kullanırız"
   ]
  },
  {
   "cell_type": "code",
   "execution_count": 76,
   "metadata": {
    "colab": {
     "base_uri": "https://localhost:8080/"
    },
    "executionInfo": {
     "elapsed": 313,
     "status": "ok",
     "timestamp": 1707506945627,
     "user": {
      "displayName": "irem küçük",
      "userId": "04336480501228632065"
     },
     "user_tz": -180
    },
    "id": "_nFmzPhDVslv",
    "outputId": "d3dc6434-2163-4287-c71b-e7abe2249fda"
   },
   "outputs": [
    {
     "data": {
      "text/plain": [
       "65.0"
      ]
     },
     "execution_count": 76,
     "metadata": {},
     "output_type": "execute_result"
    }
   ],
   "source": [
    "df.sum().sum()\n",
    "# burda 1 kere sum yazınca sadece tek tek column ları toplar ikiciyi yazınca tüm elemanlrı toplar"
   ]
  },
  {
   "cell_type": "code",
   "execution_count": 77,
   "metadata": {
    "colab": {
     "base_uri": "https://localhost:8080/"
    },
    "executionInfo": {
     "elapsed": 6,
     "status": "ok",
     "timestamp": 1707506980252,
     "user": {
      "displayName": "irem küçük",
      "userId": "04336480501228632065"
     },
     "user_tz": -180
    },
    "id": "dVgGJDnrV-Yv",
    "outputId": "9ace7b5e-6c6c-4569-8516-e97e3eef02c5"
   },
   "outputs": [
    {
     "data": {
      "text/plain": [
       "9"
      ]
     },
     "execution_count": 77,
     "metadata": {},
     "output_type": "execute_result"
    }
   ],
   "source": [
    "df.size\n",
    "# size kaç tane elemanı sayısı olduğunu soyler"
   ]
  },
  {
   "cell_type": "code",
   "execution_count": 78,
   "metadata": {
    "colab": {
     "base_uri": "https://localhost:8080/"
    },
    "executionInfo": {
     "elapsed": 368,
     "status": "ok",
     "timestamp": 1707507039600,
     "user": {
      "displayName": "irem küçük",
      "userId": "04336480501228632065"
     },
     "user_tz": -180
    },
    "id": "WBtD2HHuWK-U",
    "outputId": "8ca84de0-9369-48e7-942a-698527988507"
   },
   "outputs": [
    {
     "data": {
      "text/plain": [
       "4"
      ]
     },
     "execution_count": 78,
     "metadata": {},
     "output_type": "execute_result"
    }
   ],
   "source": [
    "df.isnull().sum().sum()\n",
    "# isnull nan değerleri sayısyını bulur 2 yazınca hepsini toplar"
   ]
  },
  {
   "cell_type": "code",
   "execution_count": 79,
   "metadata": {
    "id": "xsN0Ub-9WXpw"
   },
   "outputs": [],
   "source": [
    "def Avargen(df):\n",
    "  tottalsum=df.sum().sum()\n",
    "  totalnum=df.size-df.isnull().sum().sum()\n",
    "  return tottalsum/totalnum\n",
    "  # ortalama bir değer oluşturma fonksiyonu yazarak filna kullanarak fonksiyonu çağırıp değer atama işlemi yapabilirsiniz"
   ]
  },
  {
   "cell_type": "code",
   "execution_count": 80,
   "metadata": {
    "colab": {
     "base_uri": "https://localhost:8080/",
     "height": 143
    },
    "executionInfo": {
     "elapsed": 378,
     "status": "ok",
     "timestamp": 1707507286152,
     "user": {
      "displayName": "irem küçük",
      "userId": "04336480501228632065"
     },
     "user_tz": -180
    },
    "id": "rYLqDkYzW-eX",
    "outputId": "57090020-cf71-4174-f437-b95882fd6608"
   },
   "outputs": [
    {
     "data": {
      "text/html": [
       "<div>\n",
       "<style scoped>\n",
       "    .dataframe tbody tr th:only-of-type {\n",
       "        vertical-align: middle;\n",
       "    }\n",
       "\n",
       "    .dataframe tbody tr th {\n",
       "        vertical-align: top;\n",
       "    }\n",
       "\n",
       "    .dataframe thead th {\n",
       "        text-align: right;\n",
       "    }\n",
       "</style>\n",
       "<table border=\"1\" class=\"dataframe\">\n",
       "  <thead>\n",
       "    <tr style=\"text-align: right;\">\n",
       "      <th></th>\n",
       "      <th>Colum1</th>\n",
       "      <th>Column2</th>\n",
       "      <th>Column3</th>\n",
       "    </tr>\n",
       "  </thead>\n",
       "  <tbody>\n",
       "    <tr>\n",
       "      <th>Index1</th>\n",
       "      <td>10.0</td>\n",
       "      <td>20.0</td>\n",
       "      <td>13.0</td>\n",
       "    </tr>\n",
       "    <tr>\n",
       "      <th>Index2</th>\n",
       "      <td>5.0</td>\n",
       "      <td>13.0</td>\n",
       "      <td>13.0</td>\n",
       "    </tr>\n",
       "    <tr>\n",
       "      <th>Index3</th>\n",
       "      <td>20.0</td>\n",
       "      <td>13.0</td>\n",
       "      <td>10.0</td>\n",
       "    </tr>\n",
       "  </tbody>\n",
       "</table>\n",
       "</div>"
      ],
      "text/plain": [
       "        Colum1  Column2  Column3\n",
       "Index1    10.0     20.0     13.0\n",
       "Index2     5.0     13.0     13.0\n",
       "Index3    20.0     13.0     10.0"
      ]
     },
     "execution_count": 80,
     "metadata": {},
     "output_type": "execute_result"
    }
   ],
   "source": [
    "df.fillna(value=Avargen(df))\n"
   ]
  },
  {
   "cell_type": "markdown",
   "metadata": {
    "id": "wOKjZ24_YC3a"
   },
   "source": [
    "GRUPY\n",
    "groupby sql deki gruplandırmaya benzer yapıdadır sql where koşulu sonrası gibi düşünmeliyiz yine burada sözluk kullanabilrsiniz ."
   ]
  },
  {
   "cell_type": "code",
   "execution_count": 81,
   "metadata": {
    "executionInfo": {
     "elapsed": 2,
     "status": "ok",
     "timestamp": 1712545148712,
     "user": {
      "displayName": "irem küçük",
      "userId": "04336480501228632065"
     },
     "user_tz": -180
    },
    "id": "q5pib6oxXCH4"
   },
   "outputs": [],
   "source": [
    "dataset={\"meyve\":[\"elma\",\"üzüm\",\"nar\",\"muz\",\"elma\",\"nar\",\"erik\"],\n",
    "         \"isim\":[\"mustafa\",\"jale\",\"kadir\",\"murat\",\"ahmet\",\"zeynep\",\"irem\"],\n",
    "         \"adet\":[5,2,10,6,3,4,1]}"
   ]
  },
  {
   "cell_type": "code",
   "execution_count": 82,
   "metadata": {
    "executionInfo": {
     "elapsed": 1,
     "status": "ok",
     "timestamp": 1712545149797,
     "user": {
      "displayName": "irem küçük",
      "userId": "04336480501228632065"
     },
     "user_tz": -180
    },
    "id": "7FHrOaPZZfN3"
   },
   "outputs": [],
   "source": [
    "x=pd.DataFrame(dataset)"
   ]
  },
  {
   "cell_type": "code",
   "execution_count": 83,
   "metadata": {
    "colab": {
     "base_uri": "https://localhost:8080/",
     "height": 269
    },
    "executionInfo": {
     "elapsed": 4,
     "status": "ok",
     "timestamp": 1712545151052,
     "user": {
      "displayName": "irem küçük",
      "userId": "04336480501228632065"
     },
     "user_tz": -180
    },
    "id": "Fy8TMgn7ZpwC",
    "outputId": "f616dfa4-0734-4a45-c6dd-1ee38b15c1f1"
   },
   "outputs": [
    {
     "data": {
      "text/html": [
       "<div>\n",
       "<style scoped>\n",
       "    .dataframe tbody tr th:only-of-type {\n",
       "        vertical-align: middle;\n",
       "    }\n",
       "\n",
       "    .dataframe tbody tr th {\n",
       "        vertical-align: top;\n",
       "    }\n",
       "\n",
       "    .dataframe thead th {\n",
       "        text-align: right;\n",
       "    }\n",
       "</style>\n",
       "<table border=\"1\" class=\"dataframe\">\n",
       "  <thead>\n",
       "    <tr style=\"text-align: right;\">\n",
       "      <th></th>\n",
       "      <th>meyve</th>\n",
       "      <th>isim</th>\n",
       "      <th>adet</th>\n",
       "    </tr>\n",
       "  </thead>\n",
       "  <tbody>\n",
       "    <tr>\n",
       "      <th>0</th>\n",
       "      <td>elma</td>\n",
       "      <td>mustafa</td>\n",
       "      <td>5</td>\n",
       "    </tr>\n",
       "    <tr>\n",
       "      <th>1</th>\n",
       "      <td>üzüm</td>\n",
       "      <td>jale</td>\n",
       "      <td>2</td>\n",
       "    </tr>\n",
       "    <tr>\n",
       "      <th>2</th>\n",
       "      <td>nar</td>\n",
       "      <td>kadir</td>\n",
       "      <td>10</td>\n",
       "    </tr>\n",
       "    <tr>\n",
       "      <th>3</th>\n",
       "      <td>muz</td>\n",
       "      <td>murat</td>\n",
       "      <td>6</td>\n",
       "    </tr>\n",
       "    <tr>\n",
       "      <th>4</th>\n",
       "      <td>elma</td>\n",
       "      <td>ahmet</td>\n",
       "      <td>3</td>\n",
       "    </tr>\n",
       "    <tr>\n",
       "      <th>5</th>\n",
       "      <td>nar</td>\n",
       "      <td>zeynep</td>\n",
       "      <td>4</td>\n",
       "    </tr>\n",
       "    <tr>\n",
       "      <th>6</th>\n",
       "      <td>erik</td>\n",
       "      <td>irem</td>\n",
       "      <td>1</td>\n",
       "    </tr>\n",
       "  </tbody>\n",
       "</table>\n",
       "</div>"
      ],
      "text/plain": [
       "  meyve     isim  adet\n",
       "0  elma  mustafa     5\n",
       "1  üzüm     jale     2\n",
       "2   nar    kadir    10\n",
       "3   muz    murat     6\n",
       "4  elma    ahmet     3\n",
       "5   nar   zeynep     4\n",
       "6  erik     irem     1"
      ]
     },
     "execution_count": 83,
     "metadata": {},
     "output_type": "execute_result"
    }
   ],
   "source": [
    "x"
   ]
  },
  {
   "cell_type": "code",
   "execution_count": 84,
   "metadata": {
    "executionInfo": {
     "elapsed": 2,
     "status": "ok",
     "timestamp": 1712545153106,
     "user": {
      "displayName": "irem küçük",
      "userId": "04336480501228632065"
     },
     "user_tz": -180
    },
    "id": "TIdwwGsnZrHe"
   },
   "outputs": [],
   "source": [
    "depgroup=x.groupby(\"meyve\")\n",
    "#neye göre gruplandırmak istersek .groupby(\"ismi\") şeklinde yazmalıyız"
   ]
  },
  {
   "cell_type": "code",
   "execution_count": 85,
   "metadata": {
    "colab": {
     "base_uri": "https://localhost:8080/"
    },
    "executionInfo": {
     "elapsed": 265,
     "status": "ok",
     "timestamp": 1712545158440,
     "user": {
      "displayName": "irem küçük",
      "userId": "04336480501228632065"
     },
     "user_tz": -180
    },
    "id": "SHZnUlLJaAAG",
    "outputId": "006daade-3451-4fc5-85d3-ed3cc2f4bb4c"
   },
   "outputs": [
    {
     "data": {
      "text/plain": [
       "<pandas.core.groupby.generic.DataFrameGroupBy object at 0x000002515A885C50>"
      ]
     },
     "execution_count": 85,
     "metadata": {},
     "output_type": "execute_result"
    }
   ],
   "source": [
    "depgroup"
   ]
  },
  {
   "cell_type": "code",
   "execution_count": 86,
   "metadata": {
    "colab": {
     "base_uri": "https://localhost:8080/",
     "height": 269
    },
    "executionInfo": {
     "elapsed": 5,
     "status": "ok",
     "timestamp": 1712545182875,
     "user": {
      "displayName": "irem küçük",
      "userId": "04336480501228632065"
     },
     "user_tz": -180
    },
    "id": "Qfb3VnLepWBu",
    "outputId": "f8474b4d-2978-4048-c44d-102b81196e3b"
   },
   "outputs": [
    {
     "data": {
      "text/html": [
       "<div>\n",
       "<style scoped>\n",
       "    .dataframe tbody tr th:only-of-type {\n",
       "        vertical-align: middle;\n",
       "    }\n",
       "\n",
       "    .dataframe tbody tr th {\n",
       "        vertical-align: top;\n",
       "    }\n",
       "\n",
       "    .dataframe thead tr th {\n",
       "        text-align: left;\n",
       "    }\n",
       "\n",
       "    .dataframe thead tr:last-of-type th {\n",
       "        text-align: right;\n",
       "    }\n",
       "</style>\n",
       "<table border=\"1\" class=\"dataframe\">\n",
       "  <thead>\n",
       "    <tr>\n",
       "      <th></th>\n",
       "      <th colspan=\"8\" halign=\"left\">adet</th>\n",
       "    </tr>\n",
       "    <tr>\n",
       "      <th></th>\n",
       "      <th>count</th>\n",
       "      <th>mean</th>\n",
       "      <th>std</th>\n",
       "      <th>min</th>\n",
       "      <th>25%</th>\n",
       "      <th>50%</th>\n",
       "      <th>75%</th>\n",
       "      <th>max</th>\n",
       "    </tr>\n",
       "    <tr>\n",
       "      <th>meyve</th>\n",
       "      <th></th>\n",
       "      <th></th>\n",
       "      <th></th>\n",
       "      <th></th>\n",
       "      <th></th>\n",
       "      <th></th>\n",
       "      <th></th>\n",
       "      <th></th>\n",
       "    </tr>\n",
       "  </thead>\n",
       "  <tbody>\n",
       "    <tr>\n",
       "      <th>elma</th>\n",
       "      <td>2.0</td>\n",
       "      <td>4.0</td>\n",
       "      <td>1.414214</td>\n",
       "      <td>3.0</td>\n",
       "      <td>3.5</td>\n",
       "      <td>4.0</td>\n",
       "      <td>4.5</td>\n",
       "      <td>5.0</td>\n",
       "    </tr>\n",
       "    <tr>\n",
       "      <th>erik</th>\n",
       "      <td>1.0</td>\n",
       "      <td>1.0</td>\n",
       "      <td>NaN</td>\n",
       "      <td>1.0</td>\n",
       "      <td>1.0</td>\n",
       "      <td>1.0</td>\n",
       "      <td>1.0</td>\n",
       "      <td>1.0</td>\n",
       "    </tr>\n",
       "    <tr>\n",
       "      <th>muz</th>\n",
       "      <td>1.0</td>\n",
       "      <td>6.0</td>\n",
       "      <td>NaN</td>\n",
       "      <td>6.0</td>\n",
       "      <td>6.0</td>\n",
       "      <td>6.0</td>\n",
       "      <td>6.0</td>\n",
       "      <td>6.0</td>\n",
       "    </tr>\n",
       "    <tr>\n",
       "      <th>nar</th>\n",
       "      <td>2.0</td>\n",
       "      <td>7.0</td>\n",
       "      <td>4.242641</td>\n",
       "      <td>4.0</td>\n",
       "      <td>5.5</td>\n",
       "      <td>7.0</td>\n",
       "      <td>8.5</td>\n",
       "      <td>10.0</td>\n",
       "    </tr>\n",
       "    <tr>\n",
       "      <th>üzüm</th>\n",
       "      <td>1.0</td>\n",
       "      <td>2.0</td>\n",
       "      <td>NaN</td>\n",
       "      <td>2.0</td>\n",
       "      <td>2.0</td>\n",
       "      <td>2.0</td>\n",
       "      <td>2.0</td>\n",
       "      <td>2.0</td>\n",
       "    </tr>\n",
       "  </tbody>\n",
       "</table>\n",
       "</div>"
      ],
      "text/plain": [
       "       adet                                         \n",
       "      count mean       std  min  25%  50%  75%   max\n",
       "meyve                                               \n",
       "elma    2.0  4.0  1.414214  3.0  3.5  4.0  4.5   5.0\n",
       "erik    1.0  1.0       NaN  1.0  1.0  1.0  1.0   1.0\n",
       "muz     1.0  6.0       NaN  6.0  6.0  6.0  6.0   6.0\n",
       "nar     2.0  7.0  4.242641  4.0  5.5  7.0  8.5  10.0\n",
       "üzüm    1.0  2.0       NaN  2.0  2.0  2.0  2.0   2.0"
      ]
     },
     "execution_count": 86,
     "metadata": {},
     "output_type": "execute_result"
    }
   ],
   "source": [
    "depgroup.describe()# describe özelliğni kullanabilriz"
   ]
  },
  {
   "cell_type": "code",
   "execution_count": 87,
   "metadata": {
    "colab": {
     "base_uri": "https://localhost:8080/",
     "height": 292
    },
    "executionInfo": {
     "elapsed": 16,
     "status": "ok",
     "timestamp": 1707508120812,
     "user": {
      "displayName": "irem küçük",
      "userId": "04336480501228632065"
     },
     "user_tz": -180
    },
    "id": "zrrRC3yFaDJc",
    "outputId": "cae972a1-fe79-4277-ff54-27042ece3bbd"
   },
   "outputs": [
    {
     "data": {
      "text/html": [
       "<div>\n",
       "<style scoped>\n",
       "    .dataframe tbody tr th:only-of-type {\n",
       "        vertical-align: middle;\n",
       "    }\n",
       "\n",
       "    .dataframe tbody tr th {\n",
       "        vertical-align: top;\n",
       "    }\n",
       "\n",
       "    .dataframe thead th {\n",
       "        text-align: right;\n",
       "    }\n",
       "</style>\n",
       "<table border=\"1\" class=\"dataframe\">\n",
       "  <thead>\n",
       "    <tr style=\"text-align: right;\">\n",
       "      <th></th>\n",
       "      <th>isim</th>\n",
       "      <th>adet</th>\n",
       "    </tr>\n",
       "    <tr>\n",
       "      <th>meyve</th>\n",
       "      <th></th>\n",
       "      <th></th>\n",
       "    </tr>\n",
       "  </thead>\n",
       "  <tbody>\n",
       "    <tr>\n",
       "      <th>elma</th>\n",
       "      <td>mustafaahmet</td>\n",
       "      <td>8</td>\n",
       "    </tr>\n",
       "    <tr>\n",
       "      <th>erik</th>\n",
       "      <td>irem</td>\n",
       "      <td>1</td>\n",
       "    </tr>\n",
       "    <tr>\n",
       "      <th>muz</th>\n",
       "      <td>murat</td>\n",
       "      <td>6</td>\n",
       "    </tr>\n",
       "    <tr>\n",
       "      <th>nar</th>\n",
       "      <td>kadirzeynep</td>\n",
       "      <td>14</td>\n",
       "    </tr>\n",
       "    <tr>\n",
       "      <th>üzüm</th>\n",
       "      <td>jale</td>\n",
       "      <td>2</td>\n",
       "    </tr>\n",
       "  </tbody>\n",
       "</table>\n",
       "</div>"
      ],
      "text/plain": [
       "               isim  adet\n",
       "meyve                    \n",
       "elma   mustafaahmet     8\n",
       "erik           irem     1\n",
       "muz           murat     6\n",
       "nar     kadirzeynep    14\n",
       "üzüm           jale     2"
      ]
     },
     "execution_count": 87,
     "metadata": {},
     "output_type": "execute_result"
    }
   ],
   "source": [
    "depgroup.sum()"
   ]
  },
  {
   "cell_type": "code",
   "execution_count": 88,
   "metadata": {
    "colab": {
     "base_uri": "https://localhost:8080/",
     "height": 292
    },
    "executionInfo": {
     "elapsed": 321,
     "status": "ok",
     "timestamp": 1707508175909,
     "user": {
      "displayName": "irem küçük",
      "userId": "04336480501228632065"
     },
     "user_tz": -180
    },
    "id": "irRHGI9oajjt",
    "outputId": "eef2c4a4-c532-42d8-901e-98bed80dd1d3"
   },
   "outputs": [
    {
     "data": {
      "text/html": [
       "<div>\n",
       "<style scoped>\n",
       "    .dataframe tbody tr th:only-of-type {\n",
       "        vertical-align: middle;\n",
       "    }\n",
       "\n",
       "    .dataframe tbody tr th {\n",
       "        vertical-align: top;\n",
       "    }\n",
       "\n",
       "    .dataframe thead th {\n",
       "        text-align: right;\n",
       "    }\n",
       "</style>\n",
       "<table border=\"1\" class=\"dataframe\">\n",
       "  <thead>\n",
       "    <tr style=\"text-align: right;\">\n",
       "      <th></th>\n",
       "      <th>isim</th>\n",
       "      <th>adet</th>\n",
       "    </tr>\n",
       "    <tr>\n",
       "      <th>meyve</th>\n",
       "      <th></th>\n",
       "      <th></th>\n",
       "    </tr>\n",
       "  </thead>\n",
       "  <tbody>\n",
       "    <tr>\n",
       "      <th>elma</th>\n",
       "      <td>mustafaahmet</td>\n",
       "      <td>8</td>\n",
       "    </tr>\n",
       "    <tr>\n",
       "      <th>erik</th>\n",
       "      <td>irem</td>\n",
       "      <td>1</td>\n",
       "    </tr>\n",
       "    <tr>\n",
       "      <th>muz</th>\n",
       "      <td>murat</td>\n",
       "      <td>6</td>\n",
       "    </tr>\n",
       "    <tr>\n",
       "      <th>nar</th>\n",
       "      <td>kadirzeynep</td>\n",
       "      <td>14</td>\n",
       "    </tr>\n",
       "    <tr>\n",
       "      <th>üzüm</th>\n",
       "      <td>jale</td>\n",
       "      <td>2</td>\n",
       "    </tr>\n",
       "  </tbody>\n",
       "</table>\n",
       "</div>"
      ],
      "text/plain": [
       "               isim  adet\n",
       "meyve                    \n",
       "elma   mustafaahmet     8\n",
       "erik           irem     1\n",
       "muz           murat     6\n",
       "nar     kadirzeynep    14\n",
       "üzüm           jale     2"
      ]
     },
     "execution_count": 88,
     "metadata": {},
     "output_type": "execute_result"
    }
   ],
   "source": [
    "x.groupby(\"meyve\").sum()\n",
    "#sql deki gruplama mantığı gibi gruplama yapılır her bir gruplamada adım adım gidilir burada meyveye göre grupladık"
   ]
  },
  {
   "cell_type": "code",
   "execution_count": 89,
   "metadata": {
    "colab": {
     "base_uri": "https://localhost:8080/"
    },
    "executionInfo": {
     "elapsed": 324,
     "status": "ok",
     "timestamp": 1707508242335,
     "user": {
      "displayName": "irem küçük",
      "userId": "04336480501228632065"
     },
     "user_tz": -180
    },
    "id": "RR6TgfUDaw_C",
    "outputId": "a89354b4-eb8e-4765-ce6f-82facab49ace"
   },
   "outputs": [
    {
     "data": {
      "text/plain": [
       "isim    kadirzeynep\n",
       "adet             14\n",
       "Name: nar, dtype: object"
      ]
     },
     "execution_count": 89,
     "metadata": {},
     "output_type": "execute_result"
    }
   ],
   "source": [
    "x.groupby(\"meyve\").sum().loc[\"nar\"]\n",
    "# burada meyvenin içerisinde ki toplam nar sayısını hesapladık nar burda bir eleman olduğu için index filitresi olan loc ile yaptık"
   ]
  },
  {
   "cell_type": "code",
   "execution_count": 90,
   "metadata": {
    "colab": {
     "base_uri": "https://localhost:8080/"
    },
    "executionInfo": {
     "elapsed": 344,
     "status": "ok",
     "timestamp": 1707508280681,
     "user": {
      "displayName": "irem küçük",
      "userId": "04336480501228632065"
     },
     "user_tz": -180
    },
    "id": "NbLOv-tAbBNJ",
    "outputId": "c483ada9-bc1d-484d-b175-47aa65fd65e9"
   },
   "outputs": [
    {
     "data": {
      "text/plain": [
       "isim    kadirzeynep\n",
       "adet             14\n",
       "Name: nar, dtype: object"
      ]
     },
     "execution_count": 90,
     "metadata": {},
     "output_type": "execute_result"
    }
   ],
   "source": [
    "depgroup.sum().loc[\"nar\"]\n",
    "#burda depgruop değişkeni oluşturup bir obje haline çervirdik"
   ]
  },
  {
   "cell_type": "code",
   "execution_count": 91,
   "metadata": {
    "colab": {
     "base_uri": "https://localhost:8080/",
     "height": 238
    },
    "executionInfo": {
     "elapsed": 379,
     "status": "ok",
     "timestamp": 1707508397820,
     "user": {
      "displayName": "irem küçük",
      "userId": "04336480501228632065"
     },
     "user_tz": -180
    },
    "id": "ccYkB1F9beG0",
    "outputId": "8848d060-9a93-4172-f485-7a76df6da461"
   },
   "outputs": [
    {
     "data": {
      "text/html": [
       "<div>\n",
       "<style scoped>\n",
       "    .dataframe tbody tr th:only-of-type {\n",
       "        vertical-align: middle;\n",
       "    }\n",
       "\n",
       "    .dataframe tbody tr th {\n",
       "        vertical-align: top;\n",
       "    }\n",
       "\n",
       "    .dataframe thead th {\n",
       "        text-align: right;\n",
       "    }\n",
       "</style>\n",
       "<table border=\"1\" class=\"dataframe\">\n",
       "  <thead>\n",
       "    <tr style=\"text-align: right;\">\n",
       "      <th></th>\n",
       "      <th>isim</th>\n",
       "      <th>adet</th>\n",
       "    </tr>\n",
       "    <tr>\n",
       "      <th>meyve</th>\n",
       "      <th></th>\n",
       "      <th></th>\n",
       "    </tr>\n",
       "  </thead>\n",
       "  <tbody>\n",
       "    <tr>\n",
       "      <th>elma</th>\n",
       "      <td>2</td>\n",
       "      <td>2</td>\n",
       "    </tr>\n",
       "    <tr>\n",
       "      <th>erik</th>\n",
       "      <td>1</td>\n",
       "      <td>1</td>\n",
       "    </tr>\n",
       "    <tr>\n",
       "      <th>muz</th>\n",
       "      <td>1</td>\n",
       "      <td>1</td>\n",
       "    </tr>\n",
       "    <tr>\n",
       "      <th>nar</th>\n",
       "      <td>2</td>\n",
       "      <td>2</td>\n",
       "    </tr>\n",
       "    <tr>\n",
       "      <th>üzüm</th>\n",
       "      <td>1</td>\n",
       "      <td>1</td>\n",
       "    </tr>\n",
       "  </tbody>\n",
       "</table>\n",
       "</div>"
      ],
      "text/plain": [
       "       isim  adet\n",
       "meyve            \n",
       "elma      2     2\n",
       "erik      1     1\n",
       "muz       1     1\n",
       "nar       2     2\n",
       "üzüm      1     1"
      ]
     },
     "execution_count": 91,
     "metadata": {},
     "output_type": "execute_result"
    }
   ],
   "source": [
    "x.groupby(\"meyve\").count()"
   ]
  },
  {
   "cell_type": "code",
   "execution_count": 92,
   "metadata": {
    "colab": {
     "base_uri": "https://localhost:8080/",
     "height": 238
    },
    "executionInfo": {
     "elapsed": 347,
     "status": "ok",
     "timestamp": 1707508424313,
     "user": {
      "displayName": "irem küçük",
      "userId": "04336480501228632065"
     },
     "user_tz": -180
    },
    "id": "clW65DRBbnKK",
    "outputId": "ea6c83c7-d28e-464c-b5a4-8e429243f447"
   },
   "outputs": [
    {
     "data": {
      "text/html": [
       "<div>\n",
       "<style scoped>\n",
       "    .dataframe tbody tr th:only-of-type {\n",
       "        vertical-align: middle;\n",
       "    }\n",
       "\n",
       "    .dataframe tbody tr th {\n",
       "        vertical-align: top;\n",
       "    }\n",
       "\n",
       "    .dataframe thead th {\n",
       "        text-align: right;\n",
       "    }\n",
       "</style>\n",
       "<table border=\"1\" class=\"dataframe\">\n",
       "  <thead>\n",
       "    <tr style=\"text-align: right;\">\n",
       "      <th></th>\n",
       "      <th>isim</th>\n",
       "      <th>adet</th>\n",
       "    </tr>\n",
       "    <tr>\n",
       "      <th>meyve</th>\n",
       "      <th></th>\n",
       "      <th></th>\n",
       "    </tr>\n",
       "  </thead>\n",
       "  <tbody>\n",
       "    <tr>\n",
       "      <th>elma</th>\n",
       "      <td>mustafa</td>\n",
       "      <td>5</td>\n",
       "    </tr>\n",
       "    <tr>\n",
       "      <th>erik</th>\n",
       "      <td>irem</td>\n",
       "      <td>1</td>\n",
       "    </tr>\n",
       "    <tr>\n",
       "      <th>muz</th>\n",
       "      <td>murat</td>\n",
       "      <td>6</td>\n",
       "    </tr>\n",
       "    <tr>\n",
       "      <th>nar</th>\n",
       "      <td>zeynep</td>\n",
       "      <td>10</td>\n",
       "    </tr>\n",
       "    <tr>\n",
       "      <th>üzüm</th>\n",
       "      <td>jale</td>\n",
       "      <td>2</td>\n",
       "    </tr>\n",
       "  </tbody>\n",
       "</table>\n",
       "</div>"
      ],
      "text/plain": [
       "          isim  adet\n",
       "meyve               \n",
       "elma   mustafa     5\n",
       "erik      irem     1\n",
       "muz      murat     6\n",
       "nar     zeynep    10\n",
       "üzüm      jale     2"
      ]
     },
     "execution_count": 92,
     "metadata": {},
     "output_type": "execute_result"
    }
   ],
   "source": [
    "x.groupby(\"meyve\").max()"
   ]
  },
  {
   "cell_type": "code",
   "execution_count": 93,
   "metadata": {
    "colab": {
     "base_uri": "https://localhost:8080/"
    },
    "executionInfo": {
     "elapsed": 368,
     "status": "ok",
     "timestamp": 1707508568700,
     "user": {
      "displayName": "irem küçük",
      "userId": "04336480501228632065"
     },
     "user_tz": -180
    },
    "id": "ndR1GpLSbtng",
    "outputId": "9fdf1328-f7b3-425c-c262-91e5c93515db"
   },
   "outputs": [
    {
     "data": {
      "text/plain": [
       "meyve\n",
       "elma    3\n",
       "erik    1\n",
       "muz     6\n",
       "nar     4\n",
       "üzüm    2\n",
       "Name: adet, dtype: int64"
      ]
     },
     "execution_count": 93,
     "metadata": {},
     "output_type": "execute_result"
    }
   ],
   "source": [
    "x.groupby(\"meyve\").min()[\"adet\"]"
   ]
  },
  {
   "cell_type": "code",
   "execution_count": 94,
   "metadata": {
    "colab": {
     "base_uri": "https://localhost:8080/",
     "height": 269
    },
    "executionInfo": {
     "elapsed": 11,
     "status": "ok",
     "timestamp": 1707508587298,
     "user": {
      "displayName": "irem küçük",
      "userId": "04336480501228632065"
     },
     "user_tz": -180
    },
    "id": "NR8eDBlOcQ3A",
    "outputId": "95104020-8e28-4e5d-9f7a-ce710b54a2a1"
   },
   "outputs": [
    {
     "data": {
      "text/html": [
       "<div>\n",
       "<style scoped>\n",
       "    .dataframe tbody tr th:only-of-type {\n",
       "        vertical-align: middle;\n",
       "    }\n",
       "\n",
       "    .dataframe tbody tr th {\n",
       "        vertical-align: top;\n",
       "    }\n",
       "\n",
       "    .dataframe thead th {\n",
       "        text-align: right;\n",
       "    }\n",
       "</style>\n",
       "<table border=\"1\" class=\"dataframe\">\n",
       "  <thead>\n",
       "    <tr style=\"text-align: right;\">\n",
       "      <th></th>\n",
       "      <th>meyve</th>\n",
       "      <th>isim</th>\n",
       "      <th>adet</th>\n",
       "    </tr>\n",
       "  </thead>\n",
       "  <tbody>\n",
       "    <tr>\n",
       "      <th>0</th>\n",
       "      <td>elma</td>\n",
       "      <td>mustafa</td>\n",
       "      <td>5</td>\n",
       "    </tr>\n",
       "    <tr>\n",
       "      <th>1</th>\n",
       "      <td>üzüm</td>\n",
       "      <td>jale</td>\n",
       "      <td>2</td>\n",
       "    </tr>\n",
       "    <tr>\n",
       "      <th>2</th>\n",
       "      <td>nar</td>\n",
       "      <td>kadir</td>\n",
       "      <td>10</td>\n",
       "    </tr>\n",
       "    <tr>\n",
       "      <th>3</th>\n",
       "      <td>muz</td>\n",
       "      <td>murat</td>\n",
       "      <td>6</td>\n",
       "    </tr>\n",
       "    <tr>\n",
       "      <th>4</th>\n",
       "      <td>elma</td>\n",
       "      <td>ahmet</td>\n",
       "      <td>3</td>\n",
       "    </tr>\n",
       "    <tr>\n",
       "      <th>5</th>\n",
       "      <td>nar</td>\n",
       "      <td>zeynep</td>\n",
       "      <td>4</td>\n",
       "    </tr>\n",
       "    <tr>\n",
       "      <th>6</th>\n",
       "      <td>erik</td>\n",
       "      <td>irem</td>\n",
       "      <td>1</td>\n",
       "    </tr>\n",
       "  </tbody>\n",
       "</table>\n",
       "</div>"
      ],
      "text/plain": [
       "  meyve     isim  adet\n",
       "0  elma  mustafa     5\n",
       "1  üzüm     jale     2\n",
       "2   nar    kadir    10\n",
       "3   muz    murat     6\n",
       "4  elma    ahmet     3\n",
       "5   nar   zeynep     4\n",
       "6  erik     irem     1"
      ]
     },
     "execution_count": 94,
     "metadata": {},
     "output_type": "execute_result"
    }
   ],
   "source": [
    "x"
   ]
  },
  {
   "cell_type": "code",
   "execution_count": 95,
   "metadata": {
    "colab": {
     "base_uri": "https://localhost:8080/"
    },
    "executionInfo": {
     "elapsed": 309,
     "status": "ok",
     "timestamp": 1707508640366,
     "user": {
      "displayName": "irem küçük",
      "userId": "04336480501228632065"
     },
     "user_tz": -180
    },
    "id": "1M3lVMcacVW3",
    "outputId": "da376e6e-4932-41f1-eeeb-6d39bfa6df0f"
   },
   "outputs": [
    {
     "data": {
      "text/plain": [
       "3"
      ]
     },
     "execution_count": 95,
     "metadata": {},
     "output_type": "execute_result"
    }
   ],
   "source": [
    "x.groupby(\"meyve\").min()[\"adet\"][\"elma\"]"
   ]
  },
  {
   "cell_type": "code",
   "execution_count": 97,
   "metadata": {
    "colab": {
     "base_uri": "https://localhost:8080/",
     "height": 292
    },
    "executionInfo": {
     "elapsed": 379,
     "status": "ok",
     "timestamp": 1707508685027,
     "user": {
      "displayName": "irem küçük",
      "userId": "04336480501228632065"
     },
     "user_tz": -180
    },
    "id": "xuuhFluIciZE",
    "outputId": "0849632a-68e9-4cae-d845-53f0e6ebd876"
   },
   "outputs": [
    {
     "data": {
      "text/plain": [
       "meyve\n",
       "elma    4.0\n",
       "erik    1.0\n",
       "muz     6.0\n",
       "nar     7.0\n",
       "üzüm    2.0\n",
       "Name: adet, dtype: float64"
      ]
     },
     "execution_count": 97,
     "metadata": {},
     "output_type": "execute_result"
    }
   ],
   "source": [
    "x.groupby(\"meyve\")[\"adet\"].mean()\n"
   ]
  },
  {
   "cell_type": "markdown",
   "metadata": {
    "id": "RNdphrEPepIi"
   },
   "source": [
    "merge join ve concatenate\n",
    "-concatenate (birleştirme)burda iki farklı yerde aynı başlılar ile tablolar geliyormuş gibi düşünün ve bu tabloları .concat([1,2]) iki farklı dataframe (fakat sutün başlıkları aynı olmalı)\n",
    "-merge (kaynaştırma) burada farkı ise sutünlar birebir aynı olması gerekmez sadece en az 1 tane ortak sutün olması gerekmektedir"
   ]
  },
  {
   "cell_type": "code",
   "execution_count": 98,
   "metadata": {
    "id": "GU9aNGqPeooV"
   },
   "outputs": [],
   "source": [
    "data1={\"A\":[\"A1\",\"A2\",\"A3\",\"A4\"],\n",
    "      \"B\":[\"B1\",\"B2\",\"B3\",\"B4\"],\n",
    "      \"C\":[\"C1\",\"C2\",\"C3\",\"C4\"] }\n",
    "data2={\"A\":[\"A5\",\"A6\",\"A7\",\"A8\"],\n",
    "      \"B\":[\"B5\",\"B6\",\"B7\",\"B8\"],\n",
    "      \"C\":[\"C5\",\"C6\",\"C7\",\"C8\"] }\n",
    "df1 = pd.DataFrame(data1,index=[1,2,3,4])\n",
    "df2 = pd.DataFrame(data2,index=[5,6,7,8])"
   ]
  },
  {
   "cell_type": "code",
   "execution_count": 99,
   "metadata": {
    "colab": {
     "base_uri": "https://localhost:8080/",
     "height": 175
    },
    "executionInfo": {
     "elapsed": 318,
     "status": "ok",
     "timestamp": 1707509578415,
     "user": {
      "displayName": "irem küçük",
      "userId": "04336480501228632065"
     },
     "user_tz": -180
    },
    "id": "QhbMExg8ctRu",
    "outputId": "2603dca3-6659-4a83-fb26-9eb7b3a68feb"
   },
   "outputs": [
    {
     "data": {
      "text/html": [
       "<div>\n",
       "<style scoped>\n",
       "    .dataframe tbody tr th:only-of-type {\n",
       "        vertical-align: middle;\n",
       "    }\n",
       "\n",
       "    .dataframe tbody tr th {\n",
       "        vertical-align: top;\n",
       "    }\n",
       "\n",
       "    .dataframe thead th {\n",
       "        text-align: right;\n",
       "    }\n",
       "</style>\n",
       "<table border=\"1\" class=\"dataframe\">\n",
       "  <thead>\n",
       "    <tr style=\"text-align: right;\">\n",
       "      <th></th>\n",
       "      <th>A</th>\n",
       "      <th>B</th>\n",
       "      <th>C</th>\n",
       "    </tr>\n",
       "  </thead>\n",
       "  <tbody>\n",
       "    <tr>\n",
       "      <th>1</th>\n",
       "      <td>A1</td>\n",
       "      <td>B1</td>\n",
       "      <td>C1</td>\n",
       "    </tr>\n",
       "    <tr>\n",
       "      <th>2</th>\n",
       "      <td>A2</td>\n",
       "      <td>B2</td>\n",
       "      <td>C2</td>\n",
       "    </tr>\n",
       "    <tr>\n",
       "      <th>3</th>\n",
       "      <td>A3</td>\n",
       "      <td>B3</td>\n",
       "      <td>C3</td>\n",
       "    </tr>\n",
       "    <tr>\n",
       "      <th>4</th>\n",
       "      <td>A4</td>\n",
       "      <td>B4</td>\n",
       "      <td>C4</td>\n",
       "    </tr>\n",
       "  </tbody>\n",
       "</table>\n",
       "</div>"
      ],
      "text/plain": [
       "    A   B   C\n",
       "1  A1  B1  C1\n",
       "2  A2  B2  C2\n",
       "3  A3  B3  C3\n",
       "4  A4  B4  C4"
      ]
     },
     "execution_count": 99,
     "metadata": {},
     "output_type": "execute_result"
    }
   ],
   "source": [
    "df1"
   ]
  },
  {
   "cell_type": "code",
   "execution_count": 100,
   "metadata": {
    "colab": {
     "base_uri": "https://localhost:8080/",
     "height": 175
    },
    "executionInfo": {
     "elapsed": 377,
     "status": "ok",
     "timestamp": 1707509717461,
     "user": {
      "displayName": "irem küçük",
      "userId": "04336480501228632065"
     },
     "user_tz": -180
    },
    "id": "Z_is6OyBgHTg",
    "outputId": "bdb4670c-830d-40c5-a377-8f9b09f021d8"
   },
   "outputs": [
    {
     "data": {
      "text/html": [
       "<div>\n",
       "<style scoped>\n",
       "    .dataframe tbody tr th:only-of-type {\n",
       "        vertical-align: middle;\n",
       "    }\n",
       "\n",
       "    .dataframe tbody tr th {\n",
       "        vertical-align: top;\n",
       "    }\n",
       "\n",
       "    .dataframe thead th {\n",
       "        text-align: right;\n",
       "    }\n",
       "</style>\n",
       "<table border=\"1\" class=\"dataframe\">\n",
       "  <thead>\n",
       "    <tr style=\"text-align: right;\">\n",
       "      <th></th>\n",
       "      <th>A</th>\n",
       "      <th>B</th>\n",
       "      <th>C</th>\n",
       "    </tr>\n",
       "  </thead>\n",
       "  <tbody>\n",
       "    <tr>\n",
       "      <th>5</th>\n",
       "      <td>A5</td>\n",
       "      <td>B5</td>\n",
       "      <td>C5</td>\n",
       "    </tr>\n",
       "    <tr>\n",
       "      <th>6</th>\n",
       "      <td>A6</td>\n",
       "      <td>B6</td>\n",
       "      <td>C6</td>\n",
       "    </tr>\n",
       "    <tr>\n",
       "      <th>7</th>\n",
       "      <td>A7</td>\n",
       "      <td>B7</td>\n",
       "      <td>C7</td>\n",
       "    </tr>\n",
       "    <tr>\n",
       "      <th>8</th>\n",
       "      <td>A8</td>\n",
       "      <td>B8</td>\n",
       "      <td>C8</td>\n",
       "    </tr>\n",
       "  </tbody>\n",
       "</table>\n",
       "</div>"
      ],
      "text/plain": [
       "    A   B   C\n",
       "5  A5  B5  C5\n",
       "6  A6  B6  C6\n",
       "7  A7  B7  C7\n",
       "8  A8  B8  C8"
      ]
     },
     "execution_count": 100,
     "metadata": {},
     "output_type": "execute_result"
    }
   ],
   "source": [
    "df2"
   ]
  },
  {
   "cell_type": "code",
   "execution_count": 101,
   "metadata": {
    "colab": {
     "base_uri": "https://localhost:8080/",
     "height": 300
    },
    "executionInfo": {
     "elapsed": 9,
     "status": "ok",
     "timestamp": 1707509762538,
     "user": {
      "displayName": "irem küçük",
      "userId": "04336480501228632065"
     },
     "user_tz": -180
    },
    "id": "jFR4TSiAgpCy",
    "outputId": "4c799781-ce56-4b0a-d5d5-e36fc589ca01"
   },
   "outputs": [
    {
     "data": {
      "text/html": [
       "<div>\n",
       "<style scoped>\n",
       "    .dataframe tbody tr th:only-of-type {\n",
       "        vertical-align: middle;\n",
       "    }\n",
       "\n",
       "    .dataframe tbody tr th {\n",
       "        vertical-align: top;\n",
       "    }\n",
       "\n",
       "    .dataframe thead th {\n",
       "        text-align: right;\n",
       "    }\n",
       "</style>\n",
       "<table border=\"1\" class=\"dataframe\">\n",
       "  <thead>\n",
       "    <tr style=\"text-align: right;\">\n",
       "      <th></th>\n",
       "      <th>A</th>\n",
       "      <th>B</th>\n",
       "      <th>C</th>\n",
       "    </tr>\n",
       "  </thead>\n",
       "  <tbody>\n",
       "    <tr>\n",
       "      <th>1</th>\n",
       "      <td>A1</td>\n",
       "      <td>B1</td>\n",
       "      <td>C1</td>\n",
       "    </tr>\n",
       "    <tr>\n",
       "      <th>2</th>\n",
       "      <td>A2</td>\n",
       "      <td>B2</td>\n",
       "      <td>C2</td>\n",
       "    </tr>\n",
       "    <tr>\n",
       "      <th>3</th>\n",
       "      <td>A3</td>\n",
       "      <td>B3</td>\n",
       "      <td>C3</td>\n",
       "    </tr>\n",
       "    <tr>\n",
       "      <th>4</th>\n",
       "      <td>A4</td>\n",
       "      <td>B4</td>\n",
       "      <td>C4</td>\n",
       "    </tr>\n",
       "    <tr>\n",
       "      <th>5</th>\n",
       "      <td>A5</td>\n",
       "      <td>B5</td>\n",
       "      <td>C5</td>\n",
       "    </tr>\n",
       "    <tr>\n",
       "      <th>6</th>\n",
       "      <td>A6</td>\n",
       "      <td>B6</td>\n",
       "      <td>C6</td>\n",
       "    </tr>\n",
       "    <tr>\n",
       "      <th>7</th>\n",
       "      <td>A7</td>\n",
       "      <td>B7</td>\n",
       "      <td>C7</td>\n",
       "    </tr>\n",
       "    <tr>\n",
       "      <th>8</th>\n",
       "      <td>A8</td>\n",
       "      <td>B8</td>\n",
       "      <td>C8</td>\n",
       "    </tr>\n",
       "  </tbody>\n",
       "</table>\n",
       "</div>"
      ],
      "text/plain": [
       "    A   B   C\n",
       "1  A1  B1  C1\n",
       "2  A2  B2  C2\n",
       "3  A3  B3  C3\n",
       "4  A4  B4  C4\n",
       "5  A5  B5  C5\n",
       "6  A6  B6  C6\n",
       "7  A7  B7  C7\n",
       "8  A8  B8  C8"
      ]
     },
     "execution_count": 101,
     "metadata": {},
     "output_type": "execute_result"
    }
   ],
   "source": [
    "pd.concat([df1,df2])\n"
   ]
  },
  {
   "cell_type": "code",
   "execution_count": 102,
   "metadata": {
    "colab": {
     "base_uri": "https://localhost:8080/",
     "height": 300
    },
    "executionInfo": {
     "elapsed": 10,
     "status": "ok",
     "timestamp": 1707509800422,
     "user": {
      "displayName": "irem küçük",
      "userId": "04336480501228632065"
     },
     "user_tz": -180
    },
    "id": "_M_4ep9DgvM5",
    "outputId": "36cbb666-187a-4e54-e691-f61eb618ca87"
   },
   "outputs": [
    {
     "data": {
      "text/html": [
       "<div>\n",
       "<style scoped>\n",
       "    .dataframe tbody tr th:only-of-type {\n",
       "        vertical-align: middle;\n",
       "    }\n",
       "\n",
       "    .dataframe tbody tr th {\n",
       "        vertical-align: top;\n",
       "    }\n",
       "\n",
       "    .dataframe thead th {\n",
       "        text-align: right;\n",
       "    }\n",
       "</style>\n",
       "<table border=\"1\" class=\"dataframe\">\n",
       "  <thead>\n",
       "    <tr style=\"text-align: right;\">\n",
       "      <th></th>\n",
       "      <th>A</th>\n",
       "      <th>B</th>\n",
       "      <th>C</th>\n",
       "      <th>A</th>\n",
       "      <th>B</th>\n",
       "      <th>C</th>\n",
       "    </tr>\n",
       "  </thead>\n",
       "  <tbody>\n",
       "    <tr>\n",
       "      <th>1</th>\n",
       "      <td>A1</td>\n",
       "      <td>B1</td>\n",
       "      <td>C1</td>\n",
       "      <td>NaN</td>\n",
       "      <td>NaN</td>\n",
       "      <td>NaN</td>\n",
       "    </tr>\n",
       "    <tr>\n",
       "      <th>2</th>\n",
       "      <td>A2</td>\n",
       "      <td>B2</td>\n",
       "      <td>C2</td>\n",
       "      <td>NaN</td>\n",
       "      <td>NaN</td>\n",
       "      <td>NaN</td>\n",
       "    </tr>\n",
       "    <tr>\n",
       "      <th>3</th>\n",
       "      <td>A3</td>\n",
       "      <td>B3</td>\n",
       "      <td>C3</td>\n",
       "      <td>NaN</td>\n",
       "      <td>NaN</td>\n",
       "      <td>NaN</td>\n",
       "    </tr>\n",
       "    <tr>\n",
       "      <th>4</th>\n",
       "      <td>A4</td>\n",
       "      <td>B4</td>\n",
       "      <td>C4</td>\n",
       "      <td>NaN</td>\n",
       "      <td>NaN</td>\n",
       "      <td>NaN</td>\n",
       "    </tr>\n",
       "    <tr>\n",
       "      <th>5</th>\n",
       "      <td>NaN</td>\n",
       "      <td>NaN</td>\n",
       "      <td>NaN</td>\n",
       "      <td>A5</td>\n",
       "      <td>B5</td>\n",
       "      <td>C5</td>\n",
       "    </tr>\n",
       "    <tr>\n",
       "      <th>6</th>\n",
       "      <td>NaN</td>\n",
       "      <td>NaN</td>\n",
       "      <td>NaN</td>\n",
       "      <td>A6</td>\n",
       "      <td>B6</td>\n",
       "      <td>C6</td>\n",
       "    </tr>\n",
       "    <tr>\n",
       "      <th>7</th>\n",
       "      <td>NaN</td>\n",
       "      <td>NaN</td>\n",
       "      <td>NaN</td>\n",
       "      <td>A7</td>\n",
       "      <td>B7</td>\n",
       "      <td>C7</td>\n",
       "    </tr>\n",
       "    <tr>\n",
       "      <th>8</th>\n",
       "      <td>NaN</td>\n",
       "      <td>NaN</td>\n",
       "      <td>NaN</td>\n",
       "      <td>A8</td>\n",
       "      <td>B8</td>\n",
       "      <td>C8</td>\n",
       "    </tr>\n",
       "  </tbody>\n",
       "</table>\n",
       "</div>"
      ],
      "text/plain": [
       "     A    B    C    A    B    C\n",
       "1   A1   B1   C1  NaN  NaN  NaN\n",
       "2   A2   B2   C2  NaN  NaN  NaN\n",
       "3   A3   B3   C3  NaN  NaN  NaN\n",
       "4   A4   B4   C4  NaN  NaN  NaN\n",
       "5  NaN  NaN  NaN   A5   B5   C5\n",
       "6  NaN  NaN  NaN   A6   B6   C6\n",
       "7  NaN  NaN  NaN   A7   B7   C7\n",
       "8  NaN  NaN  NaN   A8   B8   C8"
      ]
     },
     "execution_count": 102,
     "metadata": {},
     "output_type": "execute_result"
    }
   ],
   "source": [
    "pd.concat([df1,df2],axis = 1)\n",
    "#concat birbirine ekleme yapar axsis 0 ise indexe değilse 1 eşitse column göre ekler karşılık gelmeyen yereede nan değeri olarak ekler\n"
   ]
  },
  {
   "cell_type": "code",
   "execution_count": 103,
   "metadata": {
    "id": "xinYK-jAg9YB"
   },
   "outputs": [],
   "source": [
    "data3={\"A\":[\"A1\",\"A2\",\"A3\",\"A4\"],\n",
    "      \"B\":[\"B1\",\"B2\",\"B3\",\"B4\"],\n",
    "       }\n",
    "data4={\"x\":[\"x1\",\"x2\",\"x3\"],\n",
    "      \"y\":[\"y1\",\"y2\",\"y3\"],\n",
    "       }\n",
    "df3 = pd.DataFrame(data3,index=[1,2,3,4])\n",
    "df4 = pd.DataFrame(data4,index=[1,2,3])"
   ]
  },
  {
   "cell_type": "code",
   "execution_count": 104,
   "metadata": {
    "colab": {
     "base_uri": "https://localhost:8080/",
     "height": 175
    },
    "executionInfo": {
     "elapsed": 10,
     "status": "ok",
     "timestamp": 1707510144343,
     "user": {
      "displayName": "irem küçük",
      "userId": "04336480501228632065"
     },
     "user_tz": -180
    },
    "id": "lx4BV7g2iLdI",
    "outputId": "3487cc75-4e89-4267-c733-03f8c18a0695"
   },
   "outputs": [
    {
     "data": {
      "text/html": [
       "<div>\n",
       "<style scoped>\n",
       "    .dataframe tbody tr th:only-of-type {\n",
       "        vertical-align: middle;\n",
       "    }\n",
       "\n",
       "    .dataframe tbody tr th {\n",
       "        vertical-align: top;\n",
       "    }\n",
       "\n",
       "    .dataframe thead th {\n",
       "        text-align: right;\n",
       "    }\n",
       "</style>\n",
       "<table border=\"1\" class=\"dataframe\">\n",
       "  <thead>\n",
       "    <tr style=\"text-align: right;\">\n",
       "      <th></th>\n",
       "      <th>A</th>\n",
       "      <th>B</th>\n",
       "    </tr>\n",
       "  </thead>\n",
       "  <tbody>\n",
       "    <tr>\n",
       "      <th>1</th>\n",
       "      <td>A1</td>\n",
       "      <td>B1</td>\n",
       "    </tr>\n",
       "    <tr>\n",
       "      <th>2</th>\n",
       "      <td>A2</td>\n",
       "      <td>B2</td>\n",
       "    </tr>\n",
       "    <tr>\n",
       "      <th>3</th>\n",
       "      <td>A3</td>\n",
       "      <td>B3</td>\n",
       "    </tr>\n",
       "    <tr>\n",
       "      <th>4</th>\n",
       "      <td>A4</td>\n",
       "      <td>B4</td>\n",
       "    </tr>\n",
       "  </tbody>\n",
       "</table>\n",
       "</div>"
      ],
      "text/plain": [
       "    A   B\n",
       "1  A1  B1\n",
       "2  A2  B2\n",
       "3  A3  B3\n",
       "4  A4  B4"
      ]
     },
     "execution_count": 104,
     "metadata": {},
     "output_type": "execute_result"
    }
   ],
   "source": [
    "df3"
   ]
  },
  {
   "cell_type": "code",
   "execution_count": 105,
   "metadata": {
    "colab": {
     "base_uri": "https://localhost:8080/",
     "height": 143
    },
    "executionInfo": {
     "elapsed": 13,
     "status": "ok",
     "timestamp": 1707510149914,
     "user": {
      "displayName": "irem küçük",
      "userId": "04336480501228632065"
     },
     "user_tz": -180
    },
    "id": "j02CzhCiiQUT",
    "outputId": "f704a11c-e42b-419c-e618-75b9d6711f81"
   },
   "outputs": [
    {
     "data": {
      "text/html": [
       "<div>\n",
       "<style scoped>\n",
       "    .dataframe tbody tr th:only-of-type {\n",
       "        vertical-align: middle;\n",
       "    }\n",
       "\n",
       "    .dataframe tbody tr th {\n",
       "        vertical-align: top;\n",
       "    }\n",
       "\n",
       "    .dataframe thead th {\n",
       "        text-align: right;\n",
       "    }\n",
       "</style>\n",
       "<table border=\"1\" class=\"dataframe\">\n",
       "  <thead>\n",
       "    <tr style=\"text-align: right;\">\n",
       "      <th></th>\n",
       "      <th>x</th>\n",
       "      <th>y</th>\n",
       "    </tr>\n",
       "  </thead>\n",
       "  <tbody>\n",
       "    <tr>\n",
       "      <th>1</th>\n",
       "      <td>x1</td>\n",
       "      <td>y1</td>\n",
       "    </tr>\n",
       "    <tr>\n",
       "      <th>2</th>\n",
       "      <td>x2</td>\n",
       "      <td>y2</td>\n",
       "    </tr>\n",
       "    <tr>\n",
       "      <th>3</th>\n",
       "      <td>x3</td>\n",
       "      <td>y3</td>\n",
       "    </tr>\n",
       "  </tbody>\n",
       "</table>\n",
       "</div>"
      ],
      "text/plain": [
       "    x   y\n",
       "1  x1  y1\n",
       "2  x2  y2\n",
       "3  x3  y3"
      ]
     },
     "execution_count": 105,
     "metadata": {},
     "output_type": "execute_result"
    }
   ],
   "source": [
    "df4"
   ]
  },
  {
   "cell_type": "code",
   "execution_count": 106,
   "metadata": {
    "colab": {
     "base_uri": "https://localhost:8080/",
     "height": 175
    },
    "executionInfo": {
     "elapsed": 407,
     "status": "ok",
     "timestamp": 1707510230756,
     "user": {
      "displayName": "irem küçük",
      "userId": "04336480501228632065"
     },
     "user_tz": -180
    },
    "id": "aEbIkbFgiS3l",
    "outputId": "9de8017d-9027-48dc-ba54-e6ca35e13b16"
   },
   "outputs": [
    {
     "data": {
      "text/html": [
       "<div>\n",
       "<style scoped>\n",
       "    .dataframe tbody tr th:only-of-type {\n",
       "        vertical-align: middle;\n",
       "    }\n",
       "\n",
       "    .dataframe tbody tr th {\n",
       "        vertical-align: top;\n",
       "    }\n",
       "\n",
       "    .dataframe thead th {\n",
       "        text-align: right;\n",
       "    }\n",
       "</style>\n",
       "<table border=\"1\" class=\"dataframe\">\n",
       "  <thead>\n",
       "    <tr style=\"text-align: right;\">\n",
       "      <th></th>\n",
       "      <th>A</th>\n",
       "      <th>B</th>\n",
       "      <th>x</th>\n",
       "      <th>y</th>\n",
       "    </tr>\n",
       "  </thead>\n",
       "  <tbody>\n",
       "    <tr>\n",
       "      <th>1</th>\n",
       "      <td>A1</td>\n",
       "      <td>B1</td>\n",
       "      <td>x1</td>\n",
       "      <td>y1</td>\n",
       "    </tr>\n",
       "    <tr>\n",
       "      <th>2</th>\n",
       "      <td>A2</td>\n",
       "      <td>B2</td>\n",
       "      <td>x2</td>\n",
       "      <td>y2</td>\n",
       "    </tr>\n",
       "    <tr>\n",
       "      <th>3</th>\n",
       "      <td>A3</td>\n",
       "      <td>B3</td>\n",
       "      <td>x3</td>\n",
       "      <td>y3</td>\n",
       "    </tr>\n",
       "    <tr>\n",
       "      <th>4</th>\n",
       "      <td>A4</td>\n",
       "      <td>B4</td>\n",
       "      <td>NaN</td>\n",
       "      <td>NaN</td>\n",
       "    </tr>\n",
       "  </tbody>\n",
       "</table>\n",
       "</div>"
      ],
      "text/plain": [
       "    A   B    x    y\n",
       "1  A1  B1   x1   y1\n",
       "2  A2  B2   x2   y2\n",
       "3  A3  B3   x3   y3\n",
       "4  A4  B4  NaN  NaN"
      ]
     },
     "execution_count": 106,
     "metadata": {},
     "output_type": "execute_result"
    }
   ],
   "source": [
    "df3.join(df4)\n",
    "# join de index göre left join yapar sql deki gibi"
   ]
  },
  {
   "cell_type": "code",
   "execution_count": 107,
   "metadata": {
    "colab": {
     "base_uri": "https://localhost:8080/",
     "height": 143
    },
    "executionInfo": {
     "elapsed": 10,
     "status": "ok",
     "timestamp": 1707510313945,
     "user": {
      "displayName": "irem küçük",
      "userId": "04336480501228632065"
     },
     "user_tz": -180
    },
    "id": "vP9KkkpUimo7",
    "outputId": "b1e17f6e-d342-43ef-94d2-a8601391713a"
   },
   "outputs": [
    {
     "data": {
      "text/html": [
       "<div>\n",
       "<style scoped>\n",
       "    .dataframe tbody tr th:only-of-type {\n",
       "        vertical-align: middle;\n",
       "    }\n",
       "\n",
       "    .dataframe tbody tr th {\n",
       "        vertical-align: top;\n",
       "    }\n",
       "\n",
       "    .dataframe thead th {\n",
       "        text-align: right;\n",
       "    }\n",
       "</style>\n",
       "<table border=\"1\" class=\"dataframe\">\n",
       "  <thead>\n",
       "    <tr style=\"text-align: right;\">\n",
       "      <th></th>\n",
       "      <th>x</th>\n",
       "      <th>y</th>\n",
       "      <th>A</th>\n",
       "      <th>B</th>\n",
       "    </tr>\n",
       "  </thead>\n",
       "  <tbody>\n",
       "    <tr>\n",
       "      <th>1</th>\n",
       "      <td>x1</td>\n",
       "      <td>y1</td>\n",
       "      <td>A1</td>\n",
       "      <td>B1</td>\n",
       "    </tr>\n",
       "    <tr>\n",
       "      <th>2</th>\n",
       "      <td>x2</td>\n",
       "      <td>y2</td>\n",
       "      <td>A2</td>\n",
       "      <td>B2</td>\n",
       "    </tr>\n",
       "    <tr>\n",
       "      <th>3</th>\n",
       "      <td>x3</td>\n",
       "      <td>y3</td>\n",
       "      <td>A3</td>\n",
       "      <td>B3</td>\n",
       "    </tr>\n",
       "  </tbody>\n",
       "</table>\n",
       "</div>"
      ],
      "text/plain": [
       "    x   y   A   B\n",
       "1  x1  y1  A1  B1\n",
       "2  x2  y2  A2  B2\n",
       "3  x3  y3  A3  B3"
      ]
     },
     "execution_count": 107,
     "metadata": {},
     "output_type": "execute_result"
    }
   ],
   "source": [
    "df4.join(df3)"
   ]
  },
  {
   "cell_type": "code",
   "execution_count": 108,
   "metadata": {
    "id": "k_Ov-rBMi65W"
   },
   "outputs": [],
   "source": [
    "data5={\"A\":[\"A1\",\"A2\",\"A3\"],\n",
    "      \"B\":[\"B1\",\"B2\",\"B3\"],\n",
    "       \"anahtar\":[\"k1\",\"k2\",\"k3\"]}\n",
    "data6={\"x\":[\"x1\",\"x2\",\"x3\",\"x4\"],\n",
    "      \"y\":[\"y1\",\"y2\",\"y3\",\"y4\"],\n",
    "      \"anahtar\":[\"k1\",\"k2\",\"k5\",\"k4\"]  }\n",
    "df5 = pd.DataFrame(data5,index=[1,2,3])\n",
    "df6 = pd.DataFrame(data6,index=[1,2,3,4])"
   ]
  },
  {
   "cell_type": "code",
   "execution_count": 109,
   "metadata": {
    "colab": {
     "base_uri": "https://localhost:8080/",
     "height": 143
    },
    "executionInfo": {
     "elapsed": 342,
     "status": "ok",
     "timestamp": 1707510617637,
     "user": {
      "displayName": "irem küçük",
      "userId": "04336480501228632065"
     },
     "user_tz": -180
    },
    "id": "gG4VG6Anjyf7",
    "outputId": "c5ea31c0-3cc6-4eb4-dce0-b7c10b2916c1"
   },
   "outputs": [
    {
     "data": {
      "text/html": [
       "<div>\n",
       "<style scoped>\n",
       "    .dataframe tbody tr th:only-of-type {\n",
       "        vertical-align: middle;\n",
       "    }\n",
       "\n",
       "    .dataframe tbody tr th {\n",
       "        vertical-align: top;\n",
       "    }\n",
       "\n",
       "    .dataframe thead th {\n",
       "        text-align: right;\n",
       "    }\n",
       "</style>\n",
       "<table border=\"1\" class=\"dataframe\">\n",
       "  <thead>\n",
       "    <tr style=\"text-align: right;\">\n",
       "      <th></th>\n",
       "      <th>A</th>\n",
       "      <th>B</th>\n",
       "      <th>anahtar</th>\n",
       "    </tr>\n",
       "  </thead>\n",
       "  <tbody>\n",
       "    <tr>\n",
       "      <th>1</th>\n",
       "      <td>A1</td>\n",
       "      <td>B1</td>\n",
       "      <td>k1</td>\n",
       "    </tr>\n",
       "    <tr>\n",
       "      <th>2</th>\n",
       "      <td>A2</td>\n",
       "      <td>B2</td>\n",
       "      <td>k2</td>\n",
       "    </tr>\n",
       "    <tr>\n",
       "      <th>3</th>\n",
       "      <td>A3</td>\n",
       "      <td>B3</td>\n",
       "      <td>k3</td>\n",
       "    </tr>\n",
       "  </tbody>\n",
       "</table>\n",
       "</div>"
      ],
      "text/plain": [
       "    A   B anahtar\n",
       "1  A1  B1      k1\n",
       "2  A2  B2      k2\n",
       "3  A3  B3      k3"
      ]
     },
     "execution_count": 109,
     "metadata": {},
     "output_type": "execute_result"
    }
   ],
   "source": [
    "df5"
   ]
  },
  {
   "cell_type": "code",
   "execution_count": 110,
   "metadata": {
    "colab": {
     "base_uri": "https://localhost:8080/",
     "height": 175
    },
    "executionInfo": {
     "elapsed": 10,
     "status": "ok",
     "timestamp": 1707510622220,
     "user": {
      "displayName": "irem küçük",
      "userId": "04336480501228632065"
     },
     "user_tz": -180
    },
    "id": "BAHDkhsskFGC",
    "outputId": "9886fe1b-f9b5-4c5f-8afd-fee18faaf1e1"
   },
   "outputs": [
    {
     "data": {
      "text/html": [
       "<div>\n",
       "<style scoped>\n",
       "    .dataframe tbody tr th:only-of-type {\n",
       "        vertical-align: middle;\n",
       "    }\n",
       "\n",
       "    .dataframe tbody tr th {\n",
       "        vertical-align: top;\n",
       "    }\n",
       "\n",
       "    .dataframe thead th {\n",
       "        text-align: right;\n",
       "    }\n",
       "</style>\n",
       "<table border=\"1\" class=\"dataframe\">\n",
       "  <thead>\n",
       "    <tr style=\"text-align: right;\">\n",
       "      <th></th>\n",
       "      <th>x</th>\n",
       "      <th>y</th>\n",
       "      <th>anahtar</th>\n",
       "    </tr>\n",
       "  </thead>\n",
       "  <tbody>\n",
       "    <tr>\n",
       "      <th>1</th>\n",
       "      <td>x1</td>\n",
       "      <td>y1</td>\n",
       "      <td>k1</td>\n",
       "    </tr>\n",
       "    <tr>\n",
       "      <th>2</th>\n",
       "      <td>x2</td>\n",
       "      <td>y2</td>\n",
       "      <td>k2</td>\n",
       "    </tr>\n",
       "    <tr>\n",
       "      <th>3</th>\n",
       "      <td>x3</td>\n",
       "      <td>y3</td>\n",
       "      <td>k5</td>\n",
       "    </tr>\n",
       "    <tr>\n",
       "      <th>4</th>\n",
       "      <td>x4</td>\n",
       "      <td>y4</td>\n",
       "      <td>k4</td>\n",
       "    </tr>\n",
       "  </tbody>\n",
       "</table>\n",
       "</div>"
      ],
      "text/plain": [
       "    x   y anahtar\n",
       "1  x1  y1      k1\n",
       "2  x2  y2      k2\n",
       "3  x3  y3      k5\n",
       "4  x4  y4      k4"
      ]
     },
     "execution_count": 110,
     "metadata": {},
     "output_type": "execute_result"
    }
   ],
   "source": [
    "df6"
   ]
  },
  {
   "cell_type": "code",
   "execution_count": 111,
   "metadata": {
    "colab": {
     "base_uri": "https://localhost:8080/",
     "height": 112
    },
    "executionInfo": {
     "elapsed": 338,
     "status": "ok",
     "timestamp": 1707510840366,
     "user": {
      "displayName": "irem küçük",
      "userId": "04336480501228632065"
     },
     "user_tz": -180
    },
    "id": "bXQDjH8ekGTw",
    "outputId": "13a5f8a9-e5af-467e-f62f-d556eb2a97de"
   },
   "outputs": [
    {
     "data": {
      "text/html": [
       "<div>\n",
       "<style scoped>\n",
       "    .dataframe tbody tr th:only-of-type {\n",
       "        vertical-align: middle;\n",
       "    }\n",
       "\n",
       "    .dataframe tbody tr th {\n",
       "        vertical-align: top;\n",
       "    }\n",
       "\n",
       "    .dataframe thead th {\n",
       "        text-align: right;\n",
       "    }\n",
       "</style>\n",
       "<table border=\"1\" class=\"dataframe\">\n",
       "  <thead>\n",
       "    <tr style=\"text-align: right;\">\n",
       "      <th></th>\n",
       "      <th>A</th>\n",
       "      <th>B</th>\n",
       "      <th>anahtar</th>\n",
       "      <th>x</th>\n",
       "      <th>y</th>\n",
       "    </tr>\n",
       "  </thead>\n",
       "  <tbody>\n",
       "    <tr>\n",
       "      <th>0</th>\n",
       "      <td>A1</td>\n",
       "      <td>B1</td>\n",
       "      <td>k1</td>\n",
       "      <td>x1</td>\n",
       "      <td>y1</td>\n",
       "    </tr>\n",
       "    <tr>\n",
       "      <th>1</th>\n",
       "      <td>A2</td>\n",
       "      <td>B2</td>\n",
       "      <td>k2</td>\n",
       "      <td>x2</td>\n",
       "      <td>y2</td>\n",
       "    </tr>\n",
       "  </tbody>\n",
       "</table>\n",
       "</div>"
      ],
      "text/plain": [
       "    A   B anahtar   x   y\n",
       "0  A1  B1      k1  x1  y1\n",
       "1  A2  B2      k2  x2  y2"
      ]
     },
     "execution_count": 111,
     "metadata": {},
     "output_type": "execute_result"
    }
   ],
   "source": [
    "pd.merge(df5,df6 ,on=\"anahtar\")\n",
    "# burda data sette ki hangi column istersek ona göre iki kümeninin kesişimi gibi çıktı veririr"
   ]
  },
  {
   "cell_type": "markdown",
   "metadata": {
    "id": "QAzj0xEal0WK"
   },
   "source": [
    "Dataframe opresyonları"
   ]
  },
  {
   "cell_type": "code",
   "execution_count": 112,
   "metadata": {
    "executionInfo": {
     "elapsed": 267,
     "status": "ok",
     "timestamp": 1712546621993,
     "user": {
      "displayName": "irem küçük",
      "userId": "04336480501228632065"
     },
     "user_tz": -180
    },
    "id": "tBPLS6dbk7fO"
   },
   "outputs": [],
   "source": [
    "z=pd.DataFrame({\"column1\":[1,2,3,4,5,6],\n",
    "                \"column2\":[100,100,300,200,300,100],\n",
    "                \"column3\":[\"mustafa\",\"kamil\",\"emre\",\"ayşe\",\"murat\",\"zeynep\"]})\n"
   ]
  },
  {
   "cell_type": "code",
   "execution_count": 113,
   "metadata": {
    "colab": {
     "base_uri": "https://localhost:8080/",
     "height": 238
    },
    "executionInfo": {
     "elapsed": 4,
     "status": "ok",
     "timestamp": 1712546623199,
     "user": {
      "displayName": "irem küçük",
      "userId": "04336480501228632065"
     },
     "user_tz": -180
    },
    "id": "btJHL0m_v9tQ",
    "outputId": "b1980b93-e951-47d4-ce14-4dd8e8078986"
   },
   "outputs": [
    {
     "data": {
      "text/html": [
       "<div>\n",
       "<style scoped>\n",
       "    .dataframe tbody tr th:only-of-type {\n",
       "        vertical-align: middle;\n",
       "    }\n",
       "\n",
       "    .dataframe tbody tr th {\n",
       "        vertical-align: top;\n",
       "    }\n",
       "\n",
       "    .dataframe thead th {\n",
       "        text-align: right;\n",
       "    }\n",
       "</style>\n",
       "<table border=\"1\" class=\"dataframe\">\n",
       "  <thead>\n",
       "    <tr style=\"text-align: right;\">\n",
       "      <th></th>\n",
       "      <th>column1</th>\n",
       "      <th>column2</th>\n",
       "      <th>column3</th>\n",
       "    </tr>\n",
       "  </thead>\n",
       "  <tbody>\n",
       "    <tr>\n",
       "      <th>0</th>\n",
       "      <td>1</td>\n",
       "      <td>100</td>\n",
       "      <td>mustafa</td>\n",
       "    </tr>\n",
       "    <tr>\n",
       "      <th>1</th>\n",
       "      <td>2</td>\n",
       "      <td>100</td>\n",
       "      <td>kamil</td>\n",
       "    </tr>\n",
       "    <tr>\n",
       "      <th>2</th>\n",
       "      <td>3</td>\n",
       "      <td>300</td>\n",
       "      <td>emre</td>\n",
       "    </tr>\n",
       "    <tr>\n",
       "      <th>3</th>\n",
       "      <td>4</td>\n",
       "      <td>200</td>\n",
       "      <td>ayşe</td>\n",
       "    </tr>\n",
       "    <tr>\n",
       "      <th>4</th>\n",
       "      <td>5</td>\n",
       "      <td>300</td>\n",
       "      <td>murat</td>\n",
       "    </tr>\n",
       "    <tr>\n",
       "      <th>5</th>\n",
       "      <td>6</td>\n",
       "      <td>100</td>\n",
       "      <td>zeynep</td>\n",
       "    </tr>\n",
       "  </tbody>\n",
       "</table>\n",
       "</div>"
      ],
      "text/plain": [
       "   column1  column2  column3\n",
       "0        1      100  mustafa\n",
       "1        2      100    kamil\n",
       "2        3      300     emre\n",
       "3        4      200     ayşe\n",
       "4        5      300    murat\n",
       "5        6      100   zeynep"
      ]
     },
     "execution_count": 113,
     "metadata": {},
     "output_type": "execute_result"
    }
   ],
   "source": [
    "z"
   ]
  },
  {
   "cell_type": "code",
   "execution_count": 114,
   "metadata": {
    "colab": {
     "base_uri": "https://localhost:8080/",
     "height": 143
    },
    "executionInfo": {
     "elapsed": 277,
     "status": "ok",
     "timestamp": 1712546627386,
     "user": {
      "displayName": "irem küçük",
      "userId": "04336480501228632065"
     },
     "user_tz": -180
    },
    "id": "A-th4sWUwJoa",
    "outputId": "6e65d015-0af4-404d-9660-8706ad19d759"
   },
   "outputs": [
    {
     "data": {
      "text/html": [
       "<div>\n",
       "<style scoped>\n",
       "    .dataframe tbody tr th:only-of-type {\n",
       "        vertical-align: middle;\n",
       "    }\n",
       "\n",
       "    .dataframe tbody tr th {\n",
       "        vertical-align: top;\n",
       "    }\n",
       "\n",
       "    .dataframe thead th {\n",
       "        text-align: right;\n",
       "    }\n",
       "</style>\n",
       "<table border=\"1\" class=\"dataframe\">\n",
       "  <thead>\n",
       "    <tr style=\"text-align: right;\">\n",
       "      <th></th>\n",
       "      <th>column1</th>\n",
       "      <th>column2</th>\n",
       "      <th>column3</th>\n",
       "    </tr>\n",
       "  </thead>\n",
       "  <tbody>\n",
       "    <tr>\n",
       "      <th>0</th>\n",
       "      <td>1</td>\n",
       "      <td>100</td>\n",
       "      <td>mustafa</td>\n",
       "    </tr>\n",
       "    <tr>\n",
       "      <th>1</th>\n",
       "      <td>2</td>\n",
       "      <td>100</td>\n",
       "      <td>kamil</td>\n",
       "    </tr>\n",
       "    <tr>\n",
       "      <th>2</th>\n",
       "      <td>3</td>\n",
       "      <td>300</td>\n",
       "      <td>emre</td>\n",
       "    </tr>\n",
       "  </tbody>\n",
       "</table>\n",
       "</div>"
      ],
      "text/plain": [
       "   column1  column2  column3\n",
       "0        1      100  mustafa\n",
       "1        2      100    kamil\n",
       "2        3      300     emre"
      ]
     },
     "execution_count": 114,
     "metadata": {},
     "output_type": "execute_result"
    }
   ],
   "source": [
    "z.head (n=3)\n",
    "#ilk 3 satırı döndürür"
   ]
  },
  {
   "cell_type": "code",
   "execution_count": 115,
   "metadata": {
    "colab": {
     "base_uri": "https://localhost:8080/"
    },
    "executionInfo": {
     "elapsed": 2,
     "status": "ok",
     "timestamp": 1712546629204,
     "user": {
      "displayName": "irem küçük",
      "userId": "04336480501228632065"
     },
     "user_tz": -180
    },
    "id": "2j-ndqjIwj3q",
    "outputId": "5cf5595b-f2aa-4f0f-c321-f6f167dc1e33"
   },
   "outputs": [
    {
     "data": {
      "text/plain": [
       "array([100, 300, 200], dtype=int64)"
      ]
     },
     "execution_count": 115,
     "metadata": {},
     "output_type": "execute_result"
    }
   ],
   "source": [
    "z[\"column2\"].unique()\n",
    "# istenilen kolumn da eşssiz değerleri bulur"
   ]
  },
  {
   "cell_type": "code",
   "execution_count": 116,
   "metadata": {
    "colab": {
     "base_uri": "https://localhost:8080/"
    },
    "executionInfo": {
     "elapsed": 286,
     "status": "ok",
     "timestamp": 1712546632813,
     "user": {
      "displayName": "irem küçük",
      "userId": "04336480501228632065"
     },
     "user_tz": -180
    },
    "id": "X_VBwYYhw2rG",
    "outputId": "ccd74c41-31b0-46e6-8618-117da56568ba"
   },
   "outputs": [
    {
     "data": {
      "text/plain": [
       "3"
      ]
     },
     "execution_count": 116,
     "metadata": {},
     "output_type": "execute_result"
    }
   ],
   "source": [
    "z[\"column2\"].nunique()\n",
    "# burada kaç tane eşsiz  olduğunu söyler"
   ]
  },
  {
   "cell_type": "code",
   "execution_count": 117,
   "metadata": {
    "colab": {
     "base_uri": "https://localhost:8080/"
    },
    "executionInfo": {
     "elapsed": 305,
     "status": "ok",
     "timestamp": 1712546634457,
     "user": {
      "displayName": "irem küçük",
      "userId": "04336480501228632065"
     },
     "user_tz": -180
    },
    "id": "x8G85CEkxAJ2",
    "outputId": "7cacce61-39b7-4dee-a529-0d8af1f061b0"
   },
   "outputs": [
    {
     "data": {
      "text/plain": [
       "column2\n",
       "100    3\n",
       "300    2\n",
       "200    1\n",
       "Name: count, dtype: int64"
      ]
     },
     "execution_count": 117,
     "metadata": {},
     "output_type": "execute_result"
    }
   ],
   "source": [
    "z[\"column2\"].value_counts()# kaç tane aynı değerden olduğunu söyler"
   ]
  },
  {
   "cell_type": "code",
   "execution_count": 118,
   "metadata": {
    "colab": {
     "base_uri": "https://localhost:8080/",
     "height": 238
    },
    "executionInfo": {
     "elapsed": 277,
     "status": "ok",
     "timestamp": 1712546832133,
     "user": {
      "displayName": "irem küçük",
      "userId": "04336480501228632065"
     },
     "user_tz": -180
    },
    "id": "RVdyeOYHvrvq",
    "outputId": "7fd94422-8c64-4bd8-ea1e-714ce8e8d9b5"
   },
   "outputs": [
    {
     "data": {
      "text/html": [
       "<div>\n",
       "<style scoped>\n",
       "    .dataframe tbody tr th:only-of-type {\n",
       "        vertical-align: middle;\n",
       "    }\n",
       "\n",
       "    .dataframe tbody tr th {\n",
       "        vertical-align: top;\n",
       "    }\n",
       "\n",
       "    .dataframe thead th {\n",
       "        text-align: right;\n",
       "    }\n",
       "</style>\n",
       "<table border=\"1\" class=\"dataframe\">\n",
       "  <thead>\n",
       "    <tr style=\"text-align: right;\">\n",
       "      <th></th>\n",
       "      <th>column1</th>\n",
       "      <th>column2</th>\n",
       "      <th>column3</th>\n",
       "    </tr>\n",
       "  </thead>\n",
       "  <tbody>\n",
       "    <tr>\n",
       "      <th>0</th>\n",
       "      <td>False</td>\n",
       "      <td>False</td>\n",
       "      <td>False</td>\n",
       "    </tr>\n",
       "    <tr>\n",
       "      <th>1</th>\n",
       "      <td>False</td>\n",
       "      <td>False</td>\n",
       "      <td>False</td>\n",
       "    </tr>\n",
       "    <tr>\n",
       "      <th>2</th>\n",
       "      <td>False</td>\n",
       "      <td>False</td>\n",
       "      <td>False</td>\n",
       "    </tr>\n",
       "    <tr>\n",
       "      <th>3</th>\n",
       "      <td>False</td>\n",
       "      <td>False</td>\n",
       "      <td>False</td>\n",
       "    </tr>\n",
       "    <tr>\n",
       "      <th>4</th>\n",
       "      <td>False</td>\n",
       "      <td>False</td>\n",
       "      <td>False</td>\n",
       "    </tr>\n",
       "    <tr>\n",
       "      <th>5</th>\n",
       "      <td>False</td>\n",
       "      <td>False</td>\n",
       "      <td>False</td>\n",
       "    </tr>\n",
       "  </tbody>\n",
       "</table>\n",
       "</div>"
      ],
      "text/plain": [
       "   column1  column2  column3\n",
       "0    False    False    False\n",
       "1    False    False    False\n",
       "2    False    False    False\n",
       "3    False    False    False\n",
       "4    False    False    False\n",
       "5    False    False    False"
      ]
     },
     "execution_count": 118,
     "metadata": {},
     "output_type": "execute_result"
    }
   ],
   "source": [
    "z.isnull()#isnull yani NaN değerleri getir True varsa NaN değer vardır"
   ]
  },
  {
   "cell_type": "code",
   "execution_count": 119,
   "metadata": {
    "colab": {
     "base_uri": "https://localhost:8080/"
    },
    "executionInfo": {
     "elapsed": 3,
     "status": "ok",
     "timestamp": 1712546911549,
     "user": {
      "displayName": "irem küçük",
      "userId": "04336480501228632065"
     },
     "user_tz": -180
    },
    "id": "yC7KOWE7v-UQ",
    "outputId": "abe4d721-7188-454e-c525-38a953663e78"
   },
   "outputs": [
    {
     "data": {
      "text/plain": [
       "column1    0\n",
       "column2    0\n",
       "column3    0\n",
       "dtype: int64"
      ]
     },
     "execution_count": 119,
     "metadata": {},
     "output_type": "execute_result"
    }
   ],
   "source": [
    "z.isnull().sum() #burdada hang sutünda kaç tane NaN değeri olan toplamı çıktısı alınır"
   ]
  },
  {
   "cell_type": "code",
   "execution_count": 120,
   "metadata": {
    "colab": {
     "base_uri": "https://localhost:8080/",
     "height": 81
    },
    "executionInfo": {
     "elapsed": 309,
     "status": "ok",
     "timestamp": 1707732447471,
     "user": {
      "displayName": "irem küçük",
      "userId": "04336480501228632065"
     },
     "user_tz": -180
    },
    "id": "5xRAeJRuxp3Q",
    "outputId": "03b36601-dd30-4f84-ddc4-3bbcd2a97288"
   },
   "outputs": [
    {
     "data": {
      "text/html": [
       "<div>\n",
       "<style scoped>\n",
       "    .dataframe tbody tr th:only-of-type {\n",
       "        vertical-align: middle;\n",
       "    }\n",
       "\n",
       "    .dataframe tbody tr th {\n",
       "        vertical-align: top;\n",
       "    }\n",
       "\n",
       "    .dataframe thead th {\n",
       "        text-align: right;\n",
       "    }\n",
       "</style>\n",
       "<table border=\"1\" class=\"dataframe\">\n",
       "  <thead>\n",
       "    <tr style=\"text-align: right;\">\n",
       "      <th></th>\n",
       "      <th>column1</th>\n",
       "      <th>column2</th>\n",
       "      <th>column3</th>\n",
       "    </tr>\n",
       "  </thead>\n",
       "  <tbody>\n",
       "    <tr>\n",
       "      <th>4</th>\n",
       "      <td>5</td>\n",
       "      <td>300</td>\n",
       "      <td>murat</td>\n",
       "    </tr>\n",
       "  </tbody>\n",
       "</table>\n",
       "</div>"
      ],
      "text/plain": [
       "   column1  column2 column3\n",
       "4        5      300   murat"
      ]
     },
     "execution_count": 120,
     "metadata": {},
     "output_type": "execute_result"
    }
   ],
   "source": [
    "z[(z[\"column1\"]>=4) & (z[\"column2\"]== 300)]# flitreleme koşul koyabilirsiniz"
   ]
  },
  {
   "cell_type": "code",
   "execution_count": 121,
   "metadata": {
    "colab": {
     "base_uri": "https://localhost:8080/"
    },
    "executionInfo": {
     "elapsed": 278,
     "status": "ok",
     "timestamp": 1707732518201,
     "user": {
      "displayName": "irem küçük",
      "userId": "04336480501228632065"
     },
     "user_tz": -180
    },
    "id": "EhPgwfLbyS0H",
    "outputId": "e71af777-4ebd-4c67-a5c8-1276c8a18474"
   },
   "outputs": [
    {
     "data": {
      "text/plain": [
       "0    300\n",
       "1    300\n",
       "2    900\n",
       "3    600\n",
       "4    900\n",
       "5    300\n",
       "Name: column2, dtype: int64"
      ]
     },
     "execution_count": 121,
     "metadata": {},
     "output_type": "execute_result"
    }
   ],
   "source": [
    "z[\"column2\"]*3"
   ]
  },
  {
   "cell_type": "code",
   "execution_count": 122,
   "metadata": {
    "id": "vlB-xq53ykF_"
   },
   "outputs": [],
   "source": [
    "def carp(d):\n",
    "  return d*3 # fonksiyon oluşturup dataframe uygulama yapabilirsiniz"
   ]
  },
  {
   "cell_type": "code",
   "execution_count": 123,
   "metadata": {
    "colab": {
     "base_uri": "https://localhost:8080/"
    },
    "executionInfo": {
     "elapsed": 268,
     "status": "ok",
     "timestamp": 1707732660388,
     "user": {
      "displayName": "irem küçük",
      "userId": "04336480501228632065"
     },
     "user_tz": -180
    },
    "id": "T54R67Tly9BF",
    "outputId": "88e94816-632c-454c-cf82-14fb83d0962a"
   },
   "outputs": [
    {
     "data": {
      "text/plain": [
       "0    300\n",
       "1    300\n",
       "2    900\n",
       "3    600\n",
       "4    900\n",
       "5    300\n",
       "Name: column2, dtype: int64"
      ]
     },
     "execution_count": 123,
     "metadata": {},
     "output_type": "execute_result"
    }
   ],
   "source": [
    "z[\"column2\"].apply(carp)"
   ]
  },
  {
   "cell_type": "code",
   "execution_count": 124,
   "metadata": {
    "id": "YqVMp59KzGz2"
   },
   "outputs": [],
   "source": [
    "z[\"column2\"]=z[\"column2\"].apply(carp)"
   ]
  },
  {
   "cell_type": "code",
   "execution_count": 125,
   "metadata": {
    "colab": {
     "base_uri": "https://localhost:8080/",
     "height": 238
    },
    "executionInfo": {
     "elapsed": 4,
     "status": "ok",
     "timestamp": 1707732736680,
     "user": {
      "displayName": "irem küçük",
      "userId": "04336480501228632065"
     },
     "user_tz": -180
    },
    "id": "x5bd93HyzYa0",
    "outputId": "17bea659-07cd-4da4-9d65-ebfd031dbab4"
   },
   "outputs": [
    {
     "data": {
      "text/html": [
       "<div>\n",
       "<style scoped>\n",
       "    .dataframe tbody tr th:only-of-type {\n",
       "        vertical-align: middle;\n",
       "    }\n",
       "\n",
       "    .dataframe tbody tr th {\n",
       "        vertical-align: top;\n",
       "    }\n",
       "\n",
       "    .dataframe thead th {\n",
       "        text-align: right;\n",
       "    }\n",
       "</style>\n",
       "<table border=\"1\" class=\"dataframe\">\n",
       "  <thead>\n",
       "    <tr style=\"text-align: right;\">\n",
       "      <th></th>\n",
       "      <th>column1</th>\n",
       "      <th>column2</th>\n",
       "      <th>column3</th>\n",
       "    </tr>\n",
       "  </thead>\n",
       "  <tbody>\n",
       "    <tr>\n",
       "      <th>0</th>\n",
       "      <td>1</td>\n",
       "      <td>300</td>\n",
       "      <td>mustafa</td>\n",
       "    </tr>\n",
       "    <tr>\n",
       "      <th>1</th>\n",
       "      <td>2</td>\n",
       "      <td>300</td>\n",
       "      <td>kamil</td>\n",
       "    </tr>\n",
       "    <tr>\n",
       "      <th>2</th>\n",
       "      <td>3</td>\n",
       "      <td>900</td>\n",
       "      <td>emre</td>\n",
       "    </tr>\n",
       "    <tr>\n",
       "      <th>3</th>\n",
       "      <td>4</td>\n",
       "      <td>600</td>\n",
       "      <td>ayşe</td>\n",
       "    </tr>\n",
       "    <tr>\n",
       "      <th>4</th>\n",
       "      <td>5</td>\n",
       "      <td>900</td>\n",
       "      <td>murat</td>\n",
       "    </tr>\n",
       "    <tr>\n",
       "      <th>5</th>\n",
       "      <td>6</td>\n",
       "      <td>300</td>\n",
       "      <td>zeynep</td>\n",
       "    </tr>\n",
       "  </tbody>\n",
       "</table>\n",
       "</div>"
      ],
      "text/plain": [
       "   column1  column2  column3\n",
       "0        1      300  mustafa\n",
       "1        2      300    kamil\n",
       "2        3      900     emre\n",
       "3        4      600     ayşe\n",
       "4        5      900    murat\n",
       "5        6      300   zeynep"
      ]
     },
     "execution_count": 125,
     "metadata": {},
     "output_type": "execute_result"
    }
   ],
   "source": [
    "z"
   ]
  },
  {
   "cell_type": "code",
   "execution_count": 126,
   "metadata": {
    "colab": {
     "base_uri": "https://localhost:8080/"
    },
    "executionInfo": {
     "elapsed": 319,
     "status": "ok",
     "timestamp": 1707732890507,
     "user": {
      "displayName": "irem küçük",
      "userId": "04336480501228632065"
     },
     "user_tz": -180
    },
    "id": "0DufJ6KnzZV8",
    "outputId": "e4de865e-e41f-4b1b-f469-4335931ef7b9"
   },
   "outputs": [
    {
     "data": {
      "text/plain": [
       "0    7\n",
       "1    5\n",
       "2    4\n",
       "3    4\n",
       "4    5\n",
       "5    6\n",
       "Name: column3, dtype: int64"
      ]
     },
     "execution_count": 126,
     "metadata": {},
     "output_type": "execute_result"
    }
   ],
   "source": [
    "z[\"column3\"].apply(len)"
   ]
  },
  {
   "cell_type": "code",
   "execution_count": 127,
   "metadata": {
    "colab": {
     "base_uri": "https://localhost:8080/"
    },
    "executionInfo": {
     "elapsed": 263,
     "status": "ok",
     "timestamp": 1707733021020,
     "user": {
      "displayName": "irem küçük",
      "userId": "04336480501228632065"
     },
     "user_tz": -180
    },
    "id": "UZxXlnlOz7sd",
    "outputId": "e20aa0bf-8bb2-4a19-d428-0e717d19b521"
   },
   "outputs": [
    {
     "data": {
      "text/plain": [
       "Index(['column1', 'column2', 'column3'], dtype='object')"
      ]
     },
     "execution_count": 127,
     "metadata": {},
     "output_type": "execute_result"
    }
   ],
   "source": [
    "z.columns"
   ]
  },
  {
   "cell_type": "code",
   "execution_count": 128,
   "metadata": {
    "colab": {
     "base_uri": "https://localhost:8080/"
    },
    "executionInfo": {
     "elapsed": 2,
     "status": "ok",
     "timestamp": 1707733037251,
     "user": {
      "displayName": "irem küçük",
      "userId": "04336480501228632065"
     },
     "user_tz": -180
    },
    "id": "SfAUN9dt0e20",
    "outputId": "fbd53cf8-2206-4f42-bbf2-37df54a63d88"
   },
   "outputs": [
    {
     "data": {
      "text/plain": [
       "RangeIndex(start=0, stop=6, step=1)"
      ]
     },
     "execution_count": 128,
     "metadata": {},
     "output_type": "execute_result"
    }
   ],
   "source": [
    "z.index"
   ]
  },
  {
   "cell_type": "code",
   "execution_count": 129,
   "metadata": {
    "colab": {
     "base_uri": "https://localhost:8080/"
    },
    "executionInfo": {
     "elapsed": 2,
     "status": "ok",
     "timestamp": 1707733057227,
     "user": {
      "displayName": "irem küçük",
      "userId": "04336480501228632065"
     },
     "user_tz": -180
    },
    "id": "jacFKXGe0izM",
    "outputId": "76d9d8e7-3348-46a1-b03e-82d9043de4a5"
   },
   "outputs": [
    {
     "data": {
      "text/plain": [
       "6"
      ]
     },
     "execution_count": 129,
     "metadata": {},
     "output_type": "execute_result"
    }
   ],
   "source": [
    "len(z.index)"
   ]
  },
  {
   "cell_type": "code",
   "execution_count": 130,
   "metadata": {
    "colab": {
     "base_uri": "https://localhost:8080/"
    },
    "executionInfo": {
     "elapsed": 269,
     "status": "ok",
     "timestamp": 1707733071448,
     "user": {
      "displayName": "irem küçük",
      "userId": "04336480501228632065"
     },
     "user_tz": -180
    },
    "id": "xk9_SazK0nuM",
    "outputId": "a44bfe26-f15f-4969-872b-064f56b1f9c2"
   },
   "outputs": [
    {
     "data": {
      "text/plain": [
       "3"
      ]
     },
     "execution_count": 130,
     "metadata": {},
     "output_type": "execute_result"
    }
   ],
   "source": [
    "len(z.columns)"
   ]
  },
  {
   "cell_type": "code",
   "execution_count": 131,
   "metadata": {
    "colab": {
     "base_uri": "https://localhost:8080/"
    },
    "executionInfo": {
     "elapsed": 2,
     "status": "ok",
     "timestamp": 1707733089351,
     "user": {
      "displayName": "irem küçük",
      "userId": "04336480501228632065"
     },
     "user_tz": -180
    },
    "id": "RXGjlRlf0rKr",
    "outputId": "5d8c9333-39f6-4cb7-b353-9b77441c566a"
   },
   "outputs": [
    {
     "data": {
      "text/plain": [
       "FrozenList([None])"
      ]
     },
     "execution_count": 131,
     "metadata": {},
     "output_type": "execute_result"
    }
   ],
   "source": [
    "z.index.names"
   ]
  },
  {
   "cell_type": "code",
   "execution_count": 132,
   "metadata": {
    "colab": {
     "base_uri": "https://localhost:8080/",
     "height": 238
    },
    "executionInfo": {
     "elapsed": 264,
     "status": "ok",
     "timestamp": 1707733291637,
     "user": {
      "displayName": "irem küçük",
      "userId": "04336480501228632065"
     },
     "user_tz": -180
    },
    "id": "i2-rJIoN0vkc",
    "outputId": "2798bfc8-b231-4671-b36a-15529030a0e3"
   },
   "outputs": [
    {
     "data": {
      "text/html": [
       "<div>\n",
       "<style scoped>\n",
       "    .dataframe tbody tr th:only-of-type {\n",
       "        vertical-align: middle;\n",
       "    }\n",
       "\n",
       "    .dataframe tbody tr th {\n",
       "        vertical-align: top;\n",
       "    }\n",
       "\n",
       "    .dataframe thead th {\n",
       "        text-align: right;\n",
       "    }\n",
       "</style>\n",
       "<table border=\"1\" class=\"dataframe\">\n",
       "  <thead>\n",
       "    <tr style=\"text-align: right;\">\n",
       "      <th></th>\n",
       "      <th>column1</th>\n",
       "      <th>column2</th>\n",
       "      <th>column3</th>\n",
       "    </tr>\n",
       "  </thead>\n",
       "  <tbody>\n",
       "    <tr>\n",
       "      <th>5</th>\n",
       "      <td>6</td>\n",
       "      <td>300</td>\n",
       "      <td>zeynep</td>\n",
       "    </tr>\n",
       "    <tr>\n",
       "      <th>0</th>\n",
       "      <td>1</td>\n",
       "      <td>300</td>\n",
       "      <td>mustafa</td>\n",
       "    </tr>\n",
       "    <tr>\n",
       "      <th>4</th>\n",
       "      <td>5</td>\n",
       "      <td>900</td>\n",
       "      <td>murat</td>\n",
       "    </tr>\n",
       "    <tr>\n",
       "      <th>1</th>\n",
       "      <td>2</td>\n",
       "      <td>300</td>\n",
       "      <td>kamil</td>\n",
       "    </tr>\n",
       "    <tr>\n",
       "      <th>2</th>\n",
       "      <td>3</td>\n",
       "      <td>900</td>\n",
       "      <td>emre</td>\n",
       "    </tr>\n",
       "    <tr>\n",
       "      <th>3</th>\n",
       "      <td>4</td>\n",
       "      <td>600</td>\n",
       "      <td>ayşe</td>\n",
       "    </tr>\n",
       "  </tbody>\n",
       "</table>\n",
       "</div>"
      ],
      "text/plain": [
       "   column1  column2  column3\n",
       "5        6      300   zeynep\n",
       "0        1      300  mustafa\n",
       "4        5      900    murat\n",
       "1        2      300    kamil\n",
       "2        3      900     emre\n",
       "3        4      600     ayşe"
      ]
     },
     "execution_count": 132,
     "metadata": {},
     "output_type": "execute_result"
    }
   ],
   "source": [
    "z.sort_values(\"column3\",ascending=False)"
   ]
  },
  {
   "cell_type": "code",
   "execution_count": 133,
   "metadata": {
    "colab": {
     "base_uri": "https://localhost:8080/",
     "height": 238
    },
    "executionInfo": {
     "elapsed": 281,
     "status": "ok",
     "timestamp": 1707733304579,
     "user": {
      "displayName": "irem küçük",
      "userId": "04336480501228632065"
     },
     "user_tz": -180
    },
    "id": "MEkDKqpX06Xs",
    "outputId": "8178d6fe-df5b-4623-c220-41c284d3a342"
   },
   "outputs": [
    {
     "data": {
      "text/html": [
       "<div>\n",
       "<style scoped>\n",
       "    .dataframe tbody tr th:only-of-type {\n",
       "        vertical-align: middle;\n",
       "    }\n",
       "\n",
       "    .dataframe tbody tr th {\n",
       "        vertical-align: top;\n",
       "    }\n",
       "\n",
       "    .dataframe thead th {\n",
       "        text-align: right;\n",
       "    }\n",
       "</style>\n",
       "<table border=\"1\" class=\"dataframe\">\n",
       "  <thead>\n",
       "    <tr style=\"text-align: right;\">\n",
       "      <th></th>\n",
       "      <th>column1</th>\n",
       "      <th>column2</th>\n",
       "      <th>column3</th>\n",
       "    </tr>\n",
       "  </thead>\n",
       "  <tbody>\n",
       "    <tr>\n",
       "      <th>3</th>\n",
       "      <td>4</td>\n",
       "      <td>600</td>\n",
       "      <td>ayşe</td>\n",
       "    </tr>\n",
       "    <tr>\n",
       "      <th>2</th>\n",
       "      <td>3</td>\n",
       "      <td>900</td>\n",
       "      <td>emre</td>\n",
       "    </tr>\n",
       "    <tr>\n",
       "      <th>1</th>\n",
       "      <td>2</td>\n",
       "      <td>300</td>\n",
       "      <td>kamil</td>\n",
       "    </tr>\n",
       "    <tr>\n",
       "      <th>4</th>\n",
       "      <td>5</td>\n",
       "      <td>900</td>\n",
       "      <td>murat</td>\n",
       "    </tr>\n",
       "    <tr>\n",
       "      <th>0</th>\n",
       "      <td>1</td>\n",
       "      <td>300</td>\n",
       "      <td>mustafa</td>\n",
       "    </tr>\n",
       "    <tr>\n",
       "      <th>5</th>\n",
       "      <td>6</td>\n",
       "      <td>300</td>\n",
       "      <td>zeynep</td>\n",
       "    </tr>\n",
       "  </tbody>\n",
       "</table>\n",
       "</div>"
      ],
      "text/plain": [
       "   column1  column2  column3\n",
       "3        4      600     ayşe\n",
       "2        3      900     emre\n",
       "1        2      300    kamil\n",
       "4        5      900    murat\n",
       "0        1      300  mustafa\n",
       "5        6      300   zeynep"
      ]
     },
     "execution_count": 133,
     "metadata": {},
     "output_type": "execute_result"
    }
   ],
   "source": [
    "z.sort_values(\"column3\")"
   ]
  },
  {
   "cell_type": "code",
   "execution_count": 134,
   "metadata": {
    "executionInfo": {
     "elapsed": 264,
     "status": "ok",
     "timestamp": 1712547063618,
     "user": {
      "displayName": "irem küçük",
      "userId": "04336480501228632065"
     },
     "user_tz": -180
    },
    "id": "jMIIJkYj1kEy"
   },
   "outputs": [],
   "source": [
    "c=pd.DataFrame({\"ay\":[\"temmuz\",\"mart\",\"nisan\"],\n",
    "             \"şehir\":[\"antalya\",\"ankara\",\"istanbul\"],\n",
    "             \"nem\":[80,30,40]})"
   ]
  },
  {
   "cell_type": "code",
   "execution_count": 135,
   "metadata": {
    "colab": {
     "base_uri": "https://localhost:8080/",
     "height": 143
    },
    "executionInfo": {
     "elapsed": 4,
     "status": "ok",
     "timestamp": 1712547124487,
     "user": {
      "displayName": "irem küçük",
      "userId": "04336480501228632065"
     },
     "user_tz": -180
    },
    "id": "KLYcCqsDw0ex",
    "outputId": "7d931413-3c54-4d47-c8ff-38b44da03a68"
   },
   "outputs": [
    {
     "data": {
      "text/html": [
       "<div>\n",
       "<style scoped>\n",
       "    .dataframe tbody tr th:only-of-type {\n",
       "        vertical-align: middle;\n",
       "    }\n",
       "\n",
       "    .dataframe tbody tr th {\n",
       "        vertical-align: top;\n",
       "    }\n",
       "\n",
       "    .dataframe thead th {\n",
       "        text-align: right;\n",
       "    }\n",
       "</style>\n",
       "<table border=\"1\" class=\"dataframe\">\n",
       "  <thead>\n",
       "    <tr style=\"text-align: right;\">\n",
       "      <th></th>\n",
       "      <th>ay</th>\n",
       "      <th>şehir</th>\n",
       "      <th>nem</th>\n",
       "    </tr>\n",
       "  </thead>\n",
       "  <tbody>\n",
       "    <tr>\n",
       "      <th>0</th>\n",
       "      <td>temmuz</td>\n",
       "      <td>antalya</td>\n",
       "      <td>80</td>\n",
       "    </tr>\n",
       "    <tr>\n",
       "      <th>1</th>\n",
       "      <td>mart</td>\n",
       "      <td>ankara</td>\n",
       "      <td>30</td>\n",
       "    </tr>\n",
       "    <tr>\n",
       "      <th>2</th>\n",
       "      <td>nisan</td>\n",
       "      <td>istanbul</td>\n",
       "      <td>40</td>\n",
       "    </tr>\n",
       "  </tbody>\n",
       "</table>\n",
       "</div>"
      ],
      "text/plain": [
       "       ay     şehir  nem\n",
       "0  temmuz   antalya   80\n",
       "1    mart    ankara   30\n",
       "2   nisan  istanbul   40"
      ]
     },
     "execution_count": 135,
     "metadata": {},
     "output_type": "execute_result"
    }
   ],
   "source": [
    "c"
   ]
  },
  {
   "cell_type": "markdown",
   "metadata": {
    "id": "rrs0p-Mb2qAU"
   },
   "source": [
    "pivot table\n",
    "veri setlerini düzenler istediğimiz halde sütunu ve satır bilgilrini düzenleyerek gösterir"
   ]
  },
  {
   "cell_type": "code",
   "execution_count": 136,
   "metadata": {
    "colab": {
     "base_uri": "https://localhost:8080/",
     "height": 175
    },
    "executionInfo": {
     "elapsed": 4,
     "status": "ok",
     "timestamp": 1712547064798,
     "user": {
      "displayName": "irem küçük",
      "userId": "04336480501228632065"
     },
     "user_tz": -180
    },
    "id": "6fiI9xN02ee8",
    "outputId": "317044f8-9cea-4c08-8a25-2720c5b4d0f9"
   },
   "outputs": [
    {
     "data": {
      "text/html": [
       "<div>\n",
       "<style scoped>\n",
       "    .dataframe tbody tr th:only-of-type {\n",
       "        vertical-align: middle;\n",
       "    }\n",
       "\n",
       "    .dataframe tbody tr th {\n",
       "        vertical-align: top;\n",
       "    }\n",
       "\n",
       "    .dataframe thead th {\n",
       "        text-align: right;\n",
       "    }\n",
       "</style>\n",
       "<table border=\"1\" class=\"dataframe\">\n",
       "  <thead>\n",
       "    <tr style=\"text-align: right;\">\n",
       "      <th>şehir</th>\n",
       "      <th>ankara</th>\n",
       "      <th>antalya</th>\n",
       "      <th>istanbul</th>\n",
       "    </tr>\n",
       "    <tr>\n",
       "      <th>ay</th>\n",
       "      <th></th>\n",
       "      <th></th>\n",
       "      <th></th>\n",
       "    </tr>\n",
       "  </thead>\n",
       "  <tbody>\n",
       "    <tr>\n",
       "      <th>mart</th>\n",
       "      <td>30.0</td>\n",
       "      <td>NaN</td>\n",
       "      <td>NaN</td>\n",
       "    </tr>\n",
       "    <tr>\n",
       "      <th>nisan</th>\n",
       "      <td>NaN</td>\n",
       "      <td>NaN</td>\n",
       "      <td>40.0</td>\n",
       "    </tr>\n",
       "    <tr>\n",
       "      <th>temmuz</th>\n",
       "      <td>NaN</td>\n",
       "      <td>80.0</td>\n",
       "      <td>NaN</td>\n",
       "    </tr>\n",
       "  </tbody>\n",
       "</table>\n",
       "</div>"
      ],
      "text/plain": [
       "şehir   ankara  antalya  istanbul\n",
       "ay                               \n",
       "mart      30.0      NaN       NaN\n",
       "nisan      NaN      NaN      40.0\n",
       "temmuz     NaN     80.0       NaN"
      ]
     },
     "execution_count": 136,
     "metadata": {},
     "output_type": "execute_result"
    }
   ],
   "source": [
    "c.pivot_table(index=\"ay\",columns=\"şehir\",values=\"nem\")"
   ]
  },
  {
   "cell_type": "code",
   "execution_count": null,
   "metadata": {},
   "outputs": [],
   "source": []
  },
  {
   "cell_type": "code",
   "execution_count": null,
   "metadata": {},
   "outputs": [],
   "source": []
  },
  {
   "cell_type": "code",
   "execution_count": null,
   "metadata": {},
   "outputs": [],
   "source": []
  },
  {
   "cell_type": "code",
   "execution_count": null,
   "metadata": {},
   "outputs": [],
   "source": []
  },
  {
   "cell_type": "code",
   "execution_count": null,
   "metadata": {},
   "outputs": [],
   "source": []
  },
  {
   "cell_type": "code",
   "execution_count": null,
   "metadata": {},
   "outputs": [],
   "source": []
  },
  {
   "cell_type": "code",
   "execution_count": null,
   "metadata": {},
   "outputs": [],
   "source": []
  },
  {
   "cell_type": "code",
   "execution_count": null,
   "metadata": {},
   "outputs": [],
   "source": []
  },
  {
   "cell_type": "code",
   "execution_count": null,
   "metadata": {},
   "outputs": [],
   "source": []
  },
  {
   "cell_type": "code",
   "execution_count": null,
   "metadata": {},
   "outputs": [],
   "source": []
  },
  {
   "cell_type": "code",
   "execution_count": null,
   "metadata": {},
   "outputs": [],
   "source": []
  },
  {
   "cell_type": "code",
   "execution_count": null,
   "metadata": {},
   "outputs": [],
   "source": []
  },
  {
   "cell_type": "code",
   "execution_count": null,
   "metadata": {},
   "outputs": [],
   "source": []
  },
  {
   "cell_type": "code",
   "execution_count": null,
   "metadata": {},
   "outputs": [],
   "source": []
  },
  {
   "cell_type": "code",
   "execution_count": null,
   "metadata": {},
   "outputs": [],
   "source": []
  },
  {
   "cell_type": "code",
   "execution_count": null,
   "metadata": {},
   "outputs": [],
   "source": []
  },
  {
   "cell_type": "code",
   "execution_count": null,
   "metadata": {},
   "outputs": [],
   "source": []
  },
  {
   "cell_type": "code",
   "execution_count": null,
   "metadata": {},
   "outputs": [],
   "source": []
  },
  {
   "cell_type": "code",
   "execution_count": null,
   "metadata": {},
   "outputs": [],
   "source": []
  },
  {
   "cell_type": "code",
   "execution_count": null,
   "metadata": {},
   "outputs": [],
   "source": []
  },
  {
   "cell_type": "code",
   "execution_count": null,
   "metadata": {},
   "outputs": [],
   "source": []
  },
  {
   "cell_type": "code",
   "execution_count": null,
   "metadata": {},
   "outputs": [],
   "source": []
  },
  {
   "cell_type": "code",
   "execution_count": null,
   "metadata": {},
   "outputs": [],
   "source": []
  },
  {
   "cell_type": "code",
   "execution_count": null,
   "metadata": {},
   "outputs": [],
   "source": []
  },
  {
   "cell_type": "code",
   "execution_count": null,
   "metadata": {},
   "outputs": [],
   "source": []
  },
  {
   "cell_type": "code",
   "execution_count": null,
   "metadata": {},
   "outputs": [],
   "source": []
  },
  {
   "cell_type": "code",
   "execution_count": null,
   "metadata": {},
   "outputs": [],
   "source": []
  },
  {
   "cell_type": "code",
   "execution_count": null,
   "metadata": {},
   "outputs": [],
   "source": []
  },
  {
   "cell_type": "code",
   "execution_count": null,
   "metadata": {},
   "outputs": [],
   "source": []
  },
  {
   "cell_type": "code",
   "execution_count": null,
   "metadata": {},
   "outputs": [],
   "source": []
  },
  {
   "cell_type": "code",
   "execution_count": null,
   "metadata": {},
   "outputs": [],
   "source": []
  },
  {
   "cell_type": "code",
   "execution_count": null,
   "metadata": {},
   "outputs": [],
   "source": []
  },
  {
   "cell_type": "code",
   "execution_count": null,
   "metadata": {},
   "outputs": [],
   "source": []
  },
  {
   "cell_type": "code",
   "execution_count": null,
   "metadata": {},
   "outputs": [],
   "source": []
  },
  {
   "cell_type": "code",
   "execution_count": null,
   "metadata": {},
   "outputs": [],
   "source": []
  },
  {
   "cell_type": "code",
   "execution_count": null,
   "metadata": {},
   "outputs": [],
   "source": []
  },
  {
   "cell_type": "code",
   "execution_count": null,
   "metadata": {},
   "outputs": [],
   "source": []
  },
  {
   "cell_type": "code",
   "execution_count": null,
   "metadata": {},
   "outputs": [],
   "source": []
  },
  {
   "cell_type": "code",
   "execution_count": null,
   "metadata": {},
   "outputs": [],
   "source": []
  },
  {
   "cell_type": "code",
   "execution_count": null,
   "metadata": {},
   "outputs": [],
   "source": []
  },
  {
   "cell_type": "code",
   "execution_count": null,
   "metadata": {},
   "outputs": [],
   "source": []
  }
 ],
 "metadata": {
  "colab": {
   "authorship_tag": "ABX9TyOy2ek+xVdB1fqLpaRSySJf",
   "provenance": []
  },
  "kernelspec": {
   "display_name": "Python 3 (ipykernel)",
   "language": "python",
   "name": "python3"
  },
  "language_info": {
   "codemirror_mode": {
    "name": "ipython",
    "version": 3
   },
   "file_extension": ".py",
   "mimetype": "text/x-python",
   "name": "python",
   "nbconvert_exporter": "python",
   "pygments_lexer": "ipython3",
   "version": "3.11.5"
  }
 },
 "nbformat": 4,
 "nbformat_minor": 1
}
